{
 "cells": [
  {
   "cell_type": "markdown",
   "metadata": {},
   "source": [
    "# Problem Statement"
   ]
  },
  {
   "cell_type": "markdown",
   "metadata": {},
   "source": [
    "The Board of Directors at TCB General Contractors are implementing a new marketing strategy to increase the company's revenue. To implement this new strategy, they want to discover which of their services are most impactful on increasing the value of the home. This information will be used to promote specific additions and renovations in the upcoming marketing plan."
   ]
  },
  {
   "cell_type": "markdown",
   "metadata": {},
   "source": [
    "My task is to discover which home services most dramatically effect the sales price.\n",
    "\n",
    "As the output of my project will be the numeric 'Sale Price', I will use linear regression and multiple linear regression modeling algorithm to evaluate the data given to me.\n",
    "\n",
    "The success of my modeles will be evaluated by the regression metric 𝑅2. I will use R2 as it is easily interpratable and does not depend on the scale of \"Sales Price\"."
   ]
  },
  {
   "cell_type": "markdown",
   "metadata": {},
   "source": [
    " "
   ]
  },
  {
   "cell_type": "code",
   "execution_count": 1,
   "metadata": {},
   "outputs": [],
   "source": [
    "import pandas as pd\n",
    "import numpy as np\n",
    "import matplotlib.pyplot as plt\n",
    "import seaborn as sns\n",
    "%matplotlib inline\n",
    "\n",
    "from sklearn.linear_model import LinearRegression\n",
    "from sklearn.model_selection import train_test_split, cross_val_score\n",
    "from sklearn.metrics import r2_score, mean_squared_error\n",
    "from sklearn.preprocessing import PolynomialFeatures, StandardScaler\n",
    "\n",
    "pd.options.display.max_columns = 100\n",
    "pd.options.display.max_rows = 3000"
   ]
  },
  {
   "cell_type": "code",
   "execution_count": 2,
   "metadata": {},
   "outputs": [],
   "source": [
    "train = pd.read_csv('/Users/taracelesta/DSI/projects/project_2/datasets/train.csv')\n",
    "test = pd.read_csv('/Users/taracelesta/DSI/projects/project_2/datasets/test.csv')"
   ]
  },
  {
   "cell_type": "markdown",
   "metadata": {},
   "source": [
    "# Data Cleaning & Exploring"
   ]
  },
  {
   "cell_type": "code",
   "execution_count": 3,
   "metadata": {},
   "outputs": [
    {
     "data": {
      "text/plain": [
       "((2051, 81), (878, 80))"
      ]
     },
     "execution_count": 3,
     "metadata": {},
     "output_type": "execute_result"
    }
   ],
   "source": [
    "train.shape, test.shape"
   ]
  },
  {
   "cell_type": "code",
   "execution_count": 4,
   "metadata": {},
   "outputs": [
    {
     "data": {
      "text/html": [
       "<div>\n",
       "<style scoped>\n",
       "    .dataframe tbody tr th:only-of-type {\n",
       "        vertical-align: middle;\n",
       "    }\n",
       "\n",
       "    .dataframe tbody tr th {\n",
       "        vertical-align: top;\n",
       "    }\n",
       "\n",
       "    .dataframe thead th {\n",
       "        text-align: right;\n",
       "    }\n",
       "</style>\n",
       "<table border=\"1\" class=\"dataframe\">\n",
       "  <thead>\n",
       "    <tr style=\"text-align: right;\">\n",
       "      <th></th>\n",
       "      <th>Id</th>\n",
       "      <th>PID</th>\n",
       "      <th>MS SubClass</th>\n",
       "      <th>MS Zoning</th>\n",
       "      <th>Lot Frontage</th>\n",
       "      <th>Lot Area</th>\n",
       "      <th>Street</th>\n",
       "      <th>Alley</th>\n",
       "      <th>Lot Shape</th>\n",
       "      <th>Land Contour</th>\n",
       "      <th>Utilities</th>\n",
       "      <th>Lot Config</th>\n",
       "      <th>Land Slope</th>\n",
       "      <th>Neighborhood</th>\n",
       "      <th>Condition 1</th>\n",
       "      <th>Condition 2</th>\n",
       "      <th>Bldg Type</th>\n",
       "      <th>House Style</th>\n",
       "      <th>Overall Qual</th>\n",
       "      <th>Overall Cond</th>\n",
       "      <th>Year Built</th>\n",
       "      <th>Year Remod/Add</th>\n",
       "      <th>Roof Style</th>\n",
       "      <th>Roof Matl</th>\n",
       "      <th>Exterior 1st</th>\n",
       "      <th>Exterior 2nd</th>\n",
       "      <th>Mas Vnr Type</th>\n",
       "      <th>Mas Vnr Area</th>\n",
       "      <th>Exter Qual</th>\n",
       "      <th>Exter Cond</th>\n",
       "      <th>Foundation</th>\n",
       "      <th>Bsmt Qual</th>\n",
       "      <th>Bsmt Cond</th>\n",
       "      <th>Bsmt Exposure</th>\n",
       "      <th>BsmtFin Type 1</th>\n",
       "      <th>BsmtFin SF 1</th>\n",
       "      <th>BsmtFin Type 2</th>\n",
       "      <th>BsmtFin SF 2</th>\n",
       "      <th>Bsmt Unf SF</th>\n",
       "      <th>Total Bsmt SF</th>\n",
       "      <th>Heating</th>\n",
       "      <th>Heating QC</th>\n",
       "      <th>Central Air</th>\n",
       "      <th>Electrical</th>\n",
       "      <th>1st Flr SF</th>\n",
       "      <th>2nd Flr SF</th>\n",
       "      <th>Low Qual Fin SF</th>\n",
       "      <th>Gr Liv Area</th>\n",
       "      <th>Bsmt Full Bath</th>\n",
       "      <th>Bsmt Half Bath</th>\n",
       "      <th>Full Bath</th>\n",
       "      <th>Half Bath</th>\n",
       "      <th>Bedroom AbvGr</th>\n",
       "      <th>Kitchen AbvGr</th>\n",
       "      <th>Kitchen Qual</th>\n",
       "      <th>TotRms AbvGrd</th>\n",
       "      <th>Functional</th>\n",
       "      <th>Fireplaces</th>\n",
       "      <th>Fireplace Qu</th>\n",
       "      <th>Garage Type</th>\n",
       "      <th>Garage Yr Blt</th>\n",
       "      <th>Garage Finish</th>\n",
       "      <th>Garage Cars</th>\n",
       "      <th>Garage Area</th>\n",
       "      <th>Garage Qual</th>\n",
       "      <th>Garage Cond</th>\n",
       "      <th>Paved Drive</th>\n",
       "      <th>Wood Deck SF</th>\n",
       "      <th>Open Porch SF</th>\n",
       "      <th>Enclosed Porch</th>\n",
       "      <th>3Ssn Porch</th>\n",
       "      <th>Screen Porch</th>\n",
       "      <th>Pool Area</th>\n",
       "      <th>Pool QC</th>\n",
       "      <th>Fence</th>\n",
       "      <th>Misc Feature</th>\n",
       "      <th>Misc Val</th>\n",
       "      <th>Mo Sold</th>\n",
       "      <th>Yr Sold</th>\n",
       "      <th>Sale Type</th>\n",
       "      <th>SalePrice</th>\n",
       "    </tr>\n",
       "  </thead>\n",
       "  <tbody>\n",
       "    <tr>\n",
       "      <th>0</th>\n",
       "      <td>109</td>\n",
       "      <td>533352170</td>\n",
       "      <td>60</td>\n",
       "      <td>RL</td>\n",
       "      <td>NaN</td>\n",
       "      <td>13517</td>\n",
       "      <td>Pave</td>\n",
       "      <td>NaN</td>\n",
       "      <td>IR1</td>\n",
       "      <td>Lvl</td>\n",
       "      <td>AllPub</td>\n",
       "      <td>CulDSac</td>\n",
       "      <td>Gtl</td>\n",
       "      <td>Sawyer</td>\n",
       "      <td>RRAe</td>\n",
       "      <td>Norm</td>\n",
       "      <td>1Fam</td>\n",
       "      <td>2Story</td>\n",
       "      <td>6</td>\n",
       "      <td>8</td>\n",
       "      <td>1976</td>\n",
       "      <td>2005</td>\n",
       "      <td>Gable</td>\n",
       "      <td>CompShg</td>\n",
       "      <td>HdBoard</td>\n",
       "      <td>Plywood</td>\n",
       "      <td>BrkFace</td>\n",
       "      <td>289.0</td>\n",
       "      <td>Gd</td>\n",
       "      <td>TA</td>\n",
       "      <td>CBlock</td>\n",
       "      <td>TA</td>\n",
       "      <td>TA</td>\n",
       "      <td>No</td>\n",
       "      <td>GLQ</td>\n",
       "      <td>533.0</td>\n",
       "      <td>Unf</td>\n",
       "      <td>0.0</td>\n",
       "      <td>192.0</td>\n",
       "      <td>725.0</td>\n",
       "      <td>GasA</td>\n",
       "      <td>Ex</td>\n",
       "      <td>Y</td>\n",
       "      <td>SBrkr</td>\n",
       "      <td>725</td>\n",
       "      <td>754</td>\n",
       "      <td>0</td>\n",
       "      <td>1479</td>\n",
       "      <td>0.0</td>\n",
       "      <td>0.0</td>\n",
       "      <td>2</td>\n",
       "      <td>1</td>\n",
       "      <td>3</td>\n",
       "      <td>1</td>\n",
       "      <td>Gd</td>\n",
       "      <td>6</td>\n",
       "      <td>Typ</td>\n",
       "      <td>0</td>\n",
       "      <td>NaN</td>\n",
       "      <td>Attchd</td>\n",
       "      <td>1976.0</td>\n",
       "      <td>RFn</td>\n",
       "      <td>2.0</td>\n",
       "      <td>475.0</td>\n",
       "      <td>TA</td>\n",
       "      <td>TA</td>\n",
       "      <td>Y</td>\n",
       "      <td>0</td>\n",
       "      <td>44</td>\n",
       "      <td>0</td>\n",
       "      <td>0</td>\n",
       "      <td>0</td>\n",
       "      <td>0</td>\n",
       "      <td>NaN</td>\n",
       "      <td>NaN</td>\n",
       "      <td>NaN</td>\n",
       "      <td>0</td>\n",
       "      <td>3</td>\n",
       "      <td>2010</td>\n",
       "      <td>WD</td>\n",
       "      <td>130500</td>\n",
       "    </tr>\n",
       "    <tr>\n",
       "      <th>1</th>\n",
       "      <td>544</td>\n",
       "      <td>531379050</td>\n",
       "      <td>60</td>\n",
       "      <td>RL</td>\n",
       "      <td>43.0</td>\n",
       "      <td>11492</td>\n",
       "      <td>Pave</td>\n",
       "      <td>NaN</td>\n",
       "      <td>IR1</td>\n",
       "      <td>Lvl</td>\n",
       "      <td>AllPub</td>\n",
       "      <td>CulDSac</td>\n",
       "      <td>Gtl</td>\n",
       "      <td>SawyerW</td>\n",
       "      <td>Norm</td>\n",
       "      <td>Norm</td>\n",
       "      <td>1Fam</td>\n",
       "      <td>2Story</td>\n",
       "      <td>7</td>\n",
       "      <td>5</td>\n",
       "      <td>1996</td>\n",
       "      <td>1997</td>\n",
       "      <td>Gable</td>\n",
       "      <td>CompShg</td>\n",
       "      <td>VinylSd</td>\n",
       "      <td>VinylSd</td>\n",
       "      <td>BrkFace</td>\n",
       "      <td>132.0</td>\n",
       "      <td>Gd</td>\n",
       "      <td>TA</td>\n",
       "      <td>PConc</td>\n",
       "      <td>Gd</td>\n",
       "      <td>TA</td>\n",
       "      <td>No</td>\n",
       "      <td>GLQ</td>\n",
       "      <td>637.0</td>\n",
       "      <td>Unf</td>\n",
       "      <td>0.0</td>\n",
       "      <td>276.0</td>\n",
       "      <td>913.0</td>\n",
       "      <td>GasA</td>\n",
       "      <td>Ex</td>\n",
       "      <td>Y</td>\n",
       "      <td>SBrkr</td>\n",
       "      <td>913</td>\n",
       "      <td>1209</td>\n",
       "      <td>0</td>\n",
       "      <td>2122</td>\n",
       "      <td>1.0</td>\n",
       "      <td>0.0</td>\n",
       "      <td>2</td>\n",
       "      <td>1</td>\n",
       "      <td>4</td>\n",
       "      <td>1</td>\n",
       "      <td>Gd</td>\n",
       "      <td>8</td>\n",
       "      <td>Typ</td>\n",
       "      <td>1</td>\n",
       "      <td>TA</td>\n",
       "      <td>Attchd</td>\n",
       "      <td>1997.0</td>\n",
       "      <td>RFn</td>\n",
       "      <td>2.0</td>\n",
       "      <td>559.0</td>\n",
       "      <td>TA</td>\n",
       "      <td>TA</td>\n",
       "      <td>Y</td>\n",
       "      <td>0</td>\n",
       "      <td>74</td>\n",
       "      <td>0</td>\n",
       "      <td>0</td>\n",
       "      <td>0</td>\n",
       "      <td>0</td>\n",
       "      <td>NaN</td>\n",
       "      <td>NaN</td>\n",
       "      <td>NaN</td>\n",
       "      <td>0</td>\n",
       "      <td>4</td>\n",
       "      <td>2009</td>\n",
       "      <td>WD</td>\n",
       "      <td>220000</td>\n",
       "    </tr>\n",
       "  </tbody>\n",
       "</table>\n",
       "</div>"
      ],
      "text/plain": [
       "    Id        PID  MS SubClass MS Zoning  Lot Frontage  Lot Area Street Alley  \\\n",
       "0  109  533352170           60        RL           NaN     13517   Pave   NaN   \n",
       "1  544  531379050           60        RL          43.0     11492   Pave   NaN   \n",
       "\n",
       "  Lot Shape Land Contour Utilities Lot Config Land Slope Neighborhood  \\\n",
       "0       IR1          Lvl    AllPub    CulDSac        Gtl       Sawyer   \n",
       "1       IR1          Lvl    AllPub    CulDSac        Gtl      SawyerW   \n",
       "\n",
       "  Condition 1 Condition 2 Bldg Type House Style  Overall Qual  Overall Cond  \\\n",
       "0        RRAe        Norm      1Fam      2Story             6             8   \n",
       "1        Norm        Norm      1Fam      2Story             7             5   \n",
       "\n",
       "   Year Built  Year Remod/Add Roof Style Roof Matl Exterior 1st Exterior 2nd  \\\n",
       "0        1976            2005      Gable   CompShg      HdBoard      Plywood   \n",
       "1        1996            1997      Gable   CompShg      VinylSd      VinylSd   \n",
       "\n",
       "  Mas Vnr Type  Mas Vnr Area Exter Qual Exter Cond Foundation Bsmt Qual  \\\n",
       "0      BrkFace         289.0         Gd         TA     CBlock        TA   \n",
       "1      BrkFace         132.0         Gd         TA      PConc        Gd   \n",
       "\n",
       "  Bsmt Cond Bsmt Exposure BsmtFin Type 1  BsmtFin SF 1 BsmtFin Type 2  \\\n",
       "0        TA            No            GLQ         533.0            Unf   \n",
       "1        TA            No            GLQ         637.0            Unf   \n",
       "\n",
       "   BsmtFin SF 2  Bsmt Unf SF  Total Bsmt SF Heating Heating QC Central Air  \\\n",
       "0           0.0        192.0          725.0    GasA         Ex           Y   \n",
       "1           0.0        276.0          913.0    GasA         Ex           Y   \n",
       "\n",
       "  Electrical  1st Flr SF  2nd Flr SF  Low Qual Fin SF  Gr Liv Area  \\\n",
       "0      SBrkr         725         754                0         1479   \n",
       "1      SBrkr         913        1209                0         2122   \n",
       "\n",
       "   Bsmt Full Bath  Bsmt Half Bath  Full Bath  Half Bath  Bedroom AbvGr  \\\n",
       "0             0.0             0.0          2          1              3   \n",
       "1             1.0             0.0          2          1              4   \n",
       "\n",
       "   Kitchen AbvGr Kitchen Qual  TotRms AbvGrd Functional  Fireplaces  \\\n",
       "0              1           Gd              6        Typ           0   \n",
       "1              1           Gd              8        Typ           1   \n",
       "\n",
       "  Fireplace Qu Garage Type  Garage Yr Blt Garage Finish  Garage Cars  \\\n",
       "0          NaN      Attchd         1976.0           RFn          2.0   \n",
       "1           TA      Attchd         1997.0           RFn          2.0   \n",
       "\n",
       "   Garage Area Garage Qual Garage Cond Paved Drive  Wood Deck SF  \\\n",
       "0        475.0          TA          TA           Y             0   \n",
       "1        559.0          TA          TA           Y             0   \n",
       "\n",
       "   Open Porch SF  Enclosed Porch  3Ssn Porch  Screen Porch  Pool Area Pool QC  \\\n",
       "0             44               0           0             0          0     NaN   \n",
       "1             74               0           0             0          0     NaN   \n",
       "\n",
       "  Fence Misc Feature  Misc Val  Mo Sold  Yr Sold Sale Type  SalePrice  \n",
       "0   NaN          NaN         0        3     2010       WD      130500  \n",
       "1   NaN          NaN         0        4     2009       WD      220000  "
      ]
     },
     "execution_count": 4,
     "metadata": {},
     "output_type": "execute_result"
    }
   ],
   "source": [
    "train.head(2)"
   ]
  },
  {
   "cell_type": "markdown",
   "metadata": {},
   "source": [
    "**Checking Column Datatypes**"
   ]
  },
  {
   "cell_type": "markdown",
   "metadata": {},
   "source": [
    "**Discovering what each column represents**"
   ]
  },
  {
   "cell_type": "code",
   "execution_count": 5,
   "metadata": {},
   "outputs": [
    {
     "data": {
      "text/plain": [
       "Index(['Id', 'PID', 'MS SubClass', 'MS Zoning', 'Lot Frontage', 'Lot Area',\n",
       "       'Street', 'Alley', 'Lot Shape', 'Land Contour', 'Utilities',\n",
       "       'Lot Config', 'Land Slope', 'Neighborhood', 'Condition 1',\n",
       "       'Condition 2', 'Bldg Type', 'House Style', 'Overall Qual',\n",
       "       'Overall Cond', 'Year Built', 'Year Remod/Add', 'Roof Style',\n",
       "       'Roof Matl', 'Exterior 1st', 'Exterior 2nd', 'Mas Vnr Type',\n",
       "       'Mas Vnr Area', 'Exter Qual', 'Exter Cond', 'Foundation', 'Bsmt Qual',\n",
       "       'Bsmt Cond', 'Bsmt Exposure', 'BsmtFin Type 1', 'BsmtFin SF 1',\n",
       "       'BsmtFin Type 2', 'BsmtFin SF 2', 'Bsmt Unf SF', 'Total Bsmt SF',\n",
       "       'Heating', 'Heating QC', 'Central Air', 'Electrical', '1st Flr SF',\n",
       "       '2nd Flr SF', 'Low Qual Fin SF', 'Gr Liv Area', 'Bsmt Full Bath',\n",
       "       'Bsmt Half Bath', 'Full Bath', 'Half Bath', 'Bedroom AbvGr',\n",
       "       'Kitchen AbvGr', 'Kitchen Qual', 'TotRms AbvGrd', 'Functional',\n",
       "       'Fireplaces', 'Fireplace Qu', 'Garage Type', 'Garage Yr Blt',\n",
       "       'Garage Finish', 'Garage Cars', 'Garage Area', 'Garage Qual',\n",
       "       'Garage Cond', 'Paved Drive', 'Wood Deck SF', 'Open Porch SF',\n",
       "       'Enclosed Porch', '3Ssn Porch', 'Screen Porch', 'Pool Area', 'Pool QC',\n",
       "       'Fence', 'Misc Feature', 'Misc Val', 'Mo Sold', 'Yr Sold', 'Sale Type',\n",
       "       'SalePrice'],\n",
       "      dtype='object')"
      ]
     },
     "execution_count": 5,
     "metadata": {},
     "output_type": "execute_result"
    }
   ],
   "source": [
    "#http://jse.amstat.org/v19n3/decock/DataDocumentation.txt\n",
    "train.columns"
   ]
  },
  {
   "cell_type": "markdown",
   "metadata": {},
   "source": [
    "**TCB General Contracting services that corrilate to the data:**\n",
    "\n",
    "- Complete home upgrade: 'Overall Cond', 'Overall Qual'\n",
    "\n",
    "- 2nd floor addition: '2nd Flr SF', 'Bedroom AbvGr', 'MS SubClass'(060),'House Style':(2Story)(2.5Fin), 'Gr Liv Area',  'TotRmsAbvGrd'\n",
    "\n",
    "- Basement Finish:'Bsmt Cond', 'Bsmt Exposure', 'BsmtFin Type 1', 'BsmtFin SF 1', 'BsmtFin Type 2', 'BsmtFin SF 2',\n",
    "\n",
    "- Kitchen Remodel:'Kitchen AbvGr', 'Kitchen Qual'\n",
    "\n",
    "- Bathroom Addition: 'Bsmt Full Bath', 'Bsmt Half Bath', 'Full Bath', 'Half Bath'\n",
    "\n",
    "- Garage Addition: 'Garage Type', 'Garage Yr Blt', 'Garage Finish', 'Garage Cars','Garage Area', 'Garage Qual', 'Garage Cond'\n",
    "\n",
    "- Deck Addition: 'Wood Deck SF', 'Open Porch SF', 'Enclosed Porch', '3Ssn Porch'"
   ]
  },
  {
   "cell_type": "markdown",
   "metadata": {},
   "source": [
    "**Dropping columns with less than 150 observations**"
   ]
  },
  {
   "cell_type": "code",
   "execution_count": 6,
   "metadata": {},
   "outputs": [],
   "source": [
    "test.drop(columns=['Alley', 'Pool QC', 'Misc Feature'], inplace=True)\n",
    "train.drop(columns=['Alley', 'Pool QC', 'Misc Feature'], inplace=True)"
   ]
  },
  {
   "cell_type": "markdown",
   "metadata": {},
   "source": [
    "**Dropping irrelevant columns**\n"
   ]
  },
  {
   "cell_type": "code",
   "execution_count": 7,
   "metadata": {},
   "outputs": [],
   "source": [
    "train.drop(columns=['MS Zoning','Lot Frontage','Lot Area','Street','Lot Shape','Land Contour', 'Utilities',\n",
    "                    'Lot Config', 'Land Slope', 'Neighborhood','Condition 1', 'Condition 2','Pool Area', \n",
    "                    'Mo Sold','Sale Type','Misc Val','Heating','Heating QC','Central Air','Electrical','Functional',\n",
    "                    'Foundation','Bldg Type','Bsmt Qual'], inplace=True)\n",
    "\n",
    "test.drop(columns=['MS Zoning','Lot Frontage','Lot Area','Street','Lot Shape','Land Contour', 'Utilities',\n",
    "                   'Lot Config', 'Land Slope', 'Neighborhood','Condition 1', 'Condition 2','Pool Area', \n",
    "                   'Mo Sold','Sale Type','Misc Val','Heating','Heating QC','Central Air','Electrical','Functional',\n",
    "                   'Foundation','Bldg Type','Bsmt Qual'], inplace=True)"
   ]
  },
  {
   "cell_type": "markdown",
   "metadata": {},
   "source": [
    "### Imputing null values"
   ]
  },
  {
   "cell_type": "code",
   "execution_count": 8,
   "metadata": {},
   "outputs": [
    {
     "data": {
      "text/plain": [
       "Id                    0\n",
       "PID                   0\n",
       "MS SubClass           0\n",
       "House Style           0\n",
       "Overall Qual          0\n",
       "Overall Cond          0\n",
       "Year Built            0\n",
       "Year Remod/Add        0\n",
       "Roof Style            0\n",
       "Roof Matl             0\n",
       "Exterior 1st          0\n",
       "Exterior 2nd          0\n",
       "Mas Vnr Type         22\n",
       "Mas Vnr Area         22\n",
       "Exter Qual            0\n",
       "Exter Cond            0\n",
       "Bsmt Cond            55\n",
       "Bsmt Exposure        58\n",
       "BsmtFin Type 1       55\n",
       "BsmtFin SF 1          1\n",
       "BsmtFin Type 2       56\n",
       "BsmtFin SF 2          1\n",
       "Bsmt Unf SF           1\n",
       "Total Bsmt SF         1\n",
       "1st Flr SF            0\n",
       "2nd Flr SF            0\n",
       "Low Qual Fin SF       0\n",
       "Gr Liv Area           0\n",
       "Bsmt Full Bath        2\n",
       "Bsmt Half Bath        2\n",
       "Full Bath             0\n",
       "Half Bath             0\n",
       "Bedroom AbvGr         0\n",
       "Kitchen AbvGr         0\n",
       "Kitchen Qual          0\n",
       "TotRms AbvGrd         0\n",
       "Fireplaces            0\n",
       "Fireplace Qu       1000\n",
       "Garage Type         113\n",
       "Garage Yr Blt       114\n",
       "Garage Finish       114\n",
       "Garage Cars           1\n",
       "Garage Area           1\n",
       "Garage Qual         114\n",
       "Garage Cond         114\n",
       "Paved Drive           0\n",
       "Wood Deck SF          0\n",
       "Open Porch SF         0\n",
       "Enclosed Porch        0\n",
       "3Ssn Porch            0\n",
       "Screen Porch          0\n",
       "Fence              1651\n",
       "Yr Sold               0\n",
       "SalePrice             0\n",
       "dtype: int64"
      ]
     },
     "execution_count": 8,
     "metadata": {},
     "output_type": "execute_result"
    }
   ],
   "source": [
    "train.isnull().sum()"
   ]
  },
  {
   "cell_type": "markdown",
   "metadata": {},
   "source": [
    "**Determining what missing values mean.**\n",
    "\n",
    "Column_name: #of nulls/data type: column_description: null_description\n",
    "- Fence: 1651 object: No Fence\n",
    "- Garage Qual: 114/object: Garage quality: No Garage\n",
    "- Garage Cond: 114/object: Garage condition: No Garage\n",
    "- Fireplace Qu: 1000/object: Fireplace quality: No Fireplace\n",
    "- Garage Type: 113/object: Garage location: No Garage\n",
    "- Garage Finish: 114/object: Interior finish of the garage: No Garage\n",
    "- Bsmt Qual: 55/object: Evaluates the height of the basement: No Basement\n",
    "- Bsmt Cond: 55/object: Evaluates the general condition of the basement: No Basement\n",
    "- Bsmt Exposure: 58/object: Walkout or garden level walls: No Basement\n",
    "- BsmtFin Type 1: 55/object: No Basement\n",
    "- Lot Frontage: 330/float: Linear feet of street connected to property\n",
    "- Garage Yr Blt: 114/float: Year garage was built"
   ]
  },
  {
   "cell_type": "code",
   "execution_count": 9,
   "metadata": {},
   "outputs": [],
   "source": [
    "#Imputing mean for Garage Cars null values\n",
    "\n",
    "train['Garage Cars'].fillna(train['Garage Cars'].mean(), inplace = True)\n",
    "test['Garage Cars'].fillna(test['Garage Cars'].mean(), inplace = True)"
   ]
  },
  {
   "cell_type": "code",
   "execution_count": 10,
   "metadata": {},
   "outputs": [],
   "source": [
    "#Imputing mean for Bsmt Full Bath null values\n",
    "\n",
    "train['Bsmt Full Bath'].fillna(train['Bsmt Full Bath'].mean(), inplace = True)\n",
    "test['Bsmt Full Bath'].fillna(test['Bsmt Full Bath'].mean(), inplace = True)"
   ]
  },
  {
   "cell_type": "code",
   "execution_count": 11,
   "metadata": {},
   "outputs": [],
   "source": [
    "#Imputing mean for Bsmt Half Bath null values\n",
    "\n",
    "train['Bsmt Half Bath'].fillna(train['Bsmt Half Bath'].mean(), inplace = True)\n",
    "test['Bsmt Half Bath'].fillna(test['Bsmt Half Bath'].mean(), inplace = True)"
   ]
  },
  {
   "cell_type": "code",
   "execution_count": 12,
   "metadata": {},
   "outputs": [],
   "source": [
    "#Exploring Total Bsmt SF and Imputing 0 for null values\n",
    "train['Total Bsmt SF'].sort_values()\n",
    "\n",
    "\n",
    "train.replace({'Total Bsmt SF': np.nan}, {'Total Bsmt SF': 0}, inplace = True)\n",
    "test.replace({'Total Bsmt SF': np.nan}, {'Total Bsmt SF': 0}, inplace = True)"
   ]
  },
  {
   "cell_type": "code",
   "execution_count": 13,
   "metadata": {},
   "outputs": [],
   "source": [
    "#Exploring Garage Area and Imputing mean for null values  \n",
    "train['Garage Area'].describe()\n",
    "\n",
    "train['Garage Area'].fillna(train['Garage Area'].mean(), inplace = True)\n",
    "test['Garage Area'].fillna(test['Garage Area'].mean(), inplace = True)"
   ]
  },
  {
   "cell_type": "code",
   "execution_count": 14,
   "metadata": {},
   "outputs": [],
   "source": [
    "train['BsmtFin SF 1'].describe()\n",
    "train['BsmtFin SF 1'].sort_values()\n",
    "\n",
    "train['BsmtFin SF 1'].fillna(train['BsmtFin SF 1'].mean(), inplace = True)\n",
    "test['BsmtFin SF 1'].fillna(test['BsmtFin SF 1'].mean(), inplace = True)"
   ]
  },
  {
   "cell_type": "code",
   "execution_count": 15,
   "metadata": {},
   "outputs": [],
   "source": [
    "train['BsmtFin SF 2'].describe()\n",
    "train['BsmtFin SF 2'].sort_values()\n",
    "\n",
    "train['BsmtFin SF 2'].fillna(train['BsmtFin SF 2'].mean(), inplace = True)\n",
    "test['BsmtFin SF 2'].fillna(test['BsmtFin SF 2'].mean(), inplace = True)"
   ]
  },
  {
   "cell_type": "code",
   "execution_count": 16,
   "metadata": {},
   "outputs": [],
   "source": [
    "train['Mas Vnr Area'].describe()\n",
    "\n",
    "train.replace({'Mas Vnr Area': np.nan}, {'Mas Vnr Area': 0}, inplace = True)\n",
    "test.replace({'Mas Vnr Area': np.nan}, {'Mas Vnr Area': 0}, inplace = True)"
   ]
  },
  {
   "cell_type": "code",
   "execution_count": 17,
   "metadata": {},
   "outputs": [],
   "source": [
    "train['Bsmt Cond'].describe()\n",
    "train['Bsmt Cond'].value_counts()\n",
    "train['Bsmt Cond'].sort_values()\n",
    "\n",
    "train.dropna(subset= ['Bsmt Cond'], inplace = True) \n",
    "test.dropna(subset= ['Bsmt Cond'], inplace = True) "
   ]
  },
  {
   "cell_type": "code",
   "execution_count": 18,
   "metadata": {},
   "outputs": [],
   "source": [
    "train['BsmtFin Type 2'].describe()\n",
    "train['BsmtFin Type 2'].sort_values()\n",
    "\n",
    "train.dropna(subset= ['BsmtFin Type 2'], inplace = True) \n",
    "test.dropna(subset= ['BsmtFin Type 2'], inplace = True) "
   ]
  },
  {
   "cell_type": "code",
   "execution_count": 19,
   "metadata": {},
   "outputs": [],
   "source": [
    "train['BsmtFin Type 1'].describe()\n",
    "train['BsmtFin Type 1'].sort_values()\n",
    "\n",
    "train.dropna(subset= ['BsmtFin Type 1'], inplace = True) \n",
    "test.dropna(subset= ['BsmtFin Type 1'], inplace = True) "
   ]
  },
  {
   "cell_type": "code",
   "execution_count": 20,
   "metadata": {},
   "outputs": [],
   "source": [
    "train['Bsmt Exposure'].describe()\n",
    "train['Bsmt Exposure'].sort_values()\n",
    "\n",
    "train.dropna(subset= ['Bsmt Exposure'], inplace = True) \n",
    "test.dropna(subset= ['Bsmt Exposure'], inplace = True) "
   ]
  },
  {
   "cell_type": "code",
   "execution_count": 21,
   "metadata": {},
   "outputs": [],
   "source": [
    "train['Garage Type'].describe()\n",
    "train['Garage Type'].value_counts()\n",
    "train['Garage Type'].sort_values()\n",
    "\n",
    "train.replace({'Garage Type': np.nan}, {'Garage Type': 'N/A'}, inplace = True)\n",
    "test.replace({'Garage Type': np.nan}, {'Garage Type': 'N/A'}, inplace = True)"
   ]
  },
  {
   "cell_type": "code",
   "execution_count": 22,
   "metadata": {},
   "outputs": [],
   "source": [
    "train['Garage Finish'].describe()\n",
    "train['Garage Finish'].sort_values()\n",
    "\n",
    "train.replace({'Garage Finish': np.nan}, {'Garage Finish': 'N/A'}, inplace = True)\n",
    "test.replace({'Garage Finish': np.nan}, {'Garage Finish': 'N/A'}, inplace = True)"
   ]
  },
  {
   "cell_type": "code",
   "execution_count": 23,
   "metadata": {},
   "outputs": [],
   "source": [
    "train['Garage Qual'].describe()\n",
    "train['Garage Qual'].sort_values()\n",
    "\n",
    "train.replace({'Garage Qual': np.nan}, {'Garage Qual': 'N/A'}, inplace = True)\n",
    "test.replace({'Garage Qual': np.nan}, {'Garage Qual': 'N/A'}, inplace = True)"
   ]
  },
  {
   "cell_type": "code",
   "execution_count": 24,
   "metadata": {},
   "outputs": [],
   "source": [
    "train['Garage Cond'].describe()\n",
    "train['Garage Cond'].sort_values()\n",
    "\n",
    "train.replace({'Garage Cond': np.nan}, {'Garage Cond': 'N/A'}, inplace = True)\n",
    "test.replace({'Garage Cond': np.nan}, {'Garage Cond': 'N/A'}, inplace = True)"
   ]
  },
  {
   "cell_type": "code",
   "execution_count": 25,
   "metadata": {},
   "outputs": [],
   "source": [
    "#Exploring Garage Yr Blt\n",
    "#I assume Nan's mean there is no garage so I will not impute or delete.\n",
    "#I will delete column instead since I dont need this\n",
    "train['Garage Yr Blt'].sort_values()\n",
    "\n",
    "train.drop(columns=['Garage Yr Blt'], inplace=True)\n",
    "test.drop(columns=['Garage Yr Blt'], inplace=True)"
   ]
  },
  {
   "cell_type": "markdown",
   "metadata": {},
   "source": [
    "### Checking Data Types"
   ]
  },
  {
   "cell_type": "code",
   "execution_count": 26,
   "metadata": {},
   "outputs": [
    {
     "data": {
      "text/plain": [
       "Id                   int64\n",
       "PID                  int64\n",
       "MS SubClass          int64\n",
       "House Style         object\n",
       "Overall Qual         int64\n",
       "Overall Cond         int64\n",
       "Year Built           int64\n",
       "Year Remod/Add       int64\n",
       "Roof Style          object\n",
       "Roof Matl           object\n",
       "Exterior 1st        object\n",
       "Exterior 2nd        object\n",
       "Mas Vnr Type        object\n",
       "Mas Vnr Area       float64\n",
       "Exter Qual          object\n",
       "Exter Cond          object\n",
       "Bsmt Cond           object\n",
       "Bsmt Exposure       object\n",
       "BsmtFin Type 1      object\n",
       "BsmtFin SF 1       float64\n",
       "BsmtFin Type 2      object\n",
       "BsmtFin SF 2       float64\n",
       "Bsmt Unf SF        float64\n",
       "Total Bsmt SF      float64\n",
       "1st Flr SF           int64\n",
       "2nd Flr SF           int64\n",
       "Low Qual Fin SF      int64\n",
       "Gr Liv Area          int64\n",
       "Bsmt Full Bath     float64\n",
       "Bsmt Half Bath     float64\n",
       "Full Bath            int64\n",
       "Half Bath            int64\n",
       "Bedroom AbvGr        int64\n",
       "Kitchen AbvGr        int64\n",
       "Kitchen Qual        object\n",
       "TotRms AbvGrd        int64\n",
       "Fireplaces           int64\n",
       "Fireplace Qu        object\n",
       "Garage Type         object\n",
       "Garage Finish       object\n",
       "Garage Cars        float64\n",
       "Garage Area        float64\n",
       "Garage Qual         object\n",
       "Garage Cond         object\n",
       "Paved Drive         object\n",
       "Wood Deck SF         int64\n",
       "Open Porch SF        int64\n",
       "Enclosed Porch       int64\n",
       "3Ssn Porch           int64\n",
       "Screen Porch         int64\n",
       "Fence               object\n",
       "Yr Sold              int64\n",
       "SalePrice            int64\n",
       "dtype: object"
      ]
     },
     "execution_count": 26,
     "metadata": {},
     "output_type": "execute_result"
    }
   ],
   "source": [
    "train.dtypes\n",
    "\n",
    "#Will dummy object columns below"
   ]
  },
  {
   "cell_type": "markdown",
   "metadata": {},
   "source": [
    "### Identifying Outliers"
   ]
  },
  {
   "cell_type": "code",
   "execution_count": 27,
   "metadata": {},
   "outputs": [],
   "source": [
    "#Identify outliers\n",
    "#code inspiration from: https://towardsdatascience.com/5-ways-to-detect-outliers-that-every-data-scientist-should-know-python-code-70a54335a623\n",
    "\n",
    "def find_outliers(Q1, Q3, data):\n",
    "# Q3 = 75%\n",
    "# Q1 = 25%\n",
    "    IQR = Q3 - Q1\n",
    "    upper_limit = Q3 + (1.5* IQR)\n",
    "    lower_limit = Q1 - (1.5 * IQR)\n",
    "    \n",
    "    lower_outliers = []\n",
    "    upper_outliers = []\n",
    "    \n",
    "    for outlier in data:\n",
    "        if outlier > upper_limit: \n",
    "            upper_outliers.append(outlier)\n",
    "        if outlier < lower_limit:\n",
    "            lower_outliers.append(outlier)\n",
    "    \n",
    "    print(f'Lower outliers are: {sorted(lower_outliers)}')\n",
    "    print(f'Upper outliers are: {sorted(upper_outliers)}')"
   ]
  },
  {
   "cell_type": "markdown",
   "metadata": {},
   "source": [
    "**Noticing any unusual positive of negative numbers.**"
   ]
  },
  {
   "cell_type": "code",
   "execution_count": 28,
   "metadata": {},
   "outputs": [
    {
     "data": {
      "text/html": [
       "<div>\n",
       "<style scoped>\n",
       "    .dataframe tbody tr th:only-of-type {\n",
       "        vertical-align: middle;\n",
       "    }\n",
       "\n",
       "    .dataframe tbody tr th {\n",
       "        vertical-align: top;\n",
       "    }\n",
       "\n",
       "    .dataframe thead th {\n",
       "        text-align: right;\n",
       "    }\n",
       "</style>\n",
       "<table border=\"1\" class=\"dataframe\">\n",
       "  <thead>\n",
       "    <tr style=\"text-align: right;\">\n",
       "      <th></th>\n",
       "      <th>Id</th>\n",
       "      <th>PID</th>\n",
       "      <th>MS SubClass</th>\n",
       "      <th>Overall Qual</th>\n",
       "      <th>Overall Cond</th>\n",
       "      <th>Year Built</th>\n",
       "      <th>Year Remod/Add</th>\n",
       "      <th>Mas Vnr Area</th>\n",
       "      <th>BsmtFin SF 1</th>\n",
       "      <th>BsmtFin SF 2</th>\n",
       "      <th>Bsmt Unf SF</th>\n",
       "      <th>Total Bsmt SF</th>\n",
       "      <th>1st Flr SF</th>\n",
       "      <th>2nd Flr SF</th>\n",
       "      <th>Low Qual Fin SF</th>\n",
       "      <th>Gr Liv Area</th>\n",
       "      <th>Bsmt Full Bath</th>\n",
       "      <th>Bsmt Half Bath</th>\n",
       "      <th>Full Bath</th>\n",
       "      <th>Half Bath</th>\n",
       "      <th>Bedroom AbvGr</th>\n",
       "      <th>Kitchen AbvGr</th>\n",
       "      <th>TotRms AbvGrd</th>\n",
       "      <th>Fireplaces</th>\n",
       "      <th>Garage Cars</th>\n",
       "      <th>Garage Area</th>\n",
       "      <th>Wood Deck SF</th>\n",
       "      <th>Open Porch SF</th>\n",
       "      <th>Enclosed Porch</th>\n",
       "      <th>3Ssn Porch</th>\n",
       "      <th>Screen Porch</th>\n",
       "      <th>Yr Sold</th>\n",
       "      <th>SalePrice</th>\n",
       "    </tr>\n",
       "  </thead>\n",
       "  <tbody>\n",
       "    <tr>\n",
       "      <th>count</th>\n",
       "      <td>1992.000000</td>\n",
       "      <td>1.992000e+03</td>\n",
       "      <td>1992.000000</td>\n",
       "      <td>1992.000000</td>\n",
       "      <td>1992.000000</td>\n",
       "      <td>1992.000000</td>\n",
       "      <td>1992.000000</td>\n",
       "      <td>1992.000000</td>\n",
       "      <td>1992.000000</td>\n",
       "      <td>1992.000000</td>\n",
       "      <td>1992.000000</td>\n",
       "      <td>1992.000000</td>\n",
       "      <td>1992.000000</td>\n",
       "      <td>1992.000000</td>\n",
       "      <td>1992.000000</td>\n",
       "      <td>1992.000000</td>\n",
       "      <td>1992.000000</td>\n",
       "      <td>1992.000000</td>\n",
       "      <td>1992.000000</td>\n",
       "      <td>1992.000000</td>\n",
       "      <td>1992.000000</td>\n",
       "      <td>1992.000000</td>\n",
       "      <td>1992.000000</td>\n",
       "      <td>1992.000000</td>\n",
       "      <td>1992.000000</td>\n",
       "      <td>1992.000000</td>\n",
       "      <td>1992.000000</td>\n",
       "      <td>1992.000000</td>\n",
       "      <td>1992.000000</td>\n",
       "      <td>1992.000000</td>\n",
       "      <td>1992.000000</td>\n",
       "      <td>1992.000000</td>\n",
       "      <td>1992.000000</td>\n",
       "    </tr>\n",
       "    <tr>\n",
       "      <th>mean</th>\n",
       "      <td>1473.443775</td>\n",
       "      <td>7.114068e+08</td>\n",
       "      <td>56.987952</td>\n",
       "      <td>6.167169</td>\n",
       "      <td>5.576807</td>\n",
       "      <td>1972.131024</td>\n",
       "      <td>1984.656124</td>\n",
       "      <td>100.575301</td>\n",
       "      <td>454.614458</td>\n",
       "      <td>49.114960</td>\n",
       "      <td>581.819277</td>\n",
       "      <td>1085.548695</td>\n",
       "      <td>1165.219378</td>\n",
       "      <td>332.995984</td>\n",
       "      <td>5.546687</td>\n",
       "      <td>1503.762048</td>\n",
       "      <td>0.439257</td>\n",
       "      <td>0.065261</td>\n",
       "      <td>1.576305</td>\n",
       "      <td>0.378514</td>\n",
       "      <td>2.847892</td>\n",
       "      <td>1.033133</td>\n",
       "      <td>6.436245</td>\n",
       "      <td>0.600904</td>\n",
       "      <td>1.785028</td>\n",
       "      <td>475.869815</td>\n",
       "      <td>95.706827</td>\n",
       "      <td>48.290161</td>\n",
       "      <td>22.345382</td>\n",
       "      <td>2.668173</td>\n",
       "      <td>16.670181</td>\n",
       "      <td>2007.772590</td>\n",
       "      <td>183451.543675</td>\n",
       "    </tr>\n",
       "    <tr>\n",
       "      <th>std</th>\n",
       "      <td>843.430425</td>\n",
       "      <td>1.886440e+08</td>\n",
       "      <td>42.891344</td>\n",
       "      <td>1.386839</td>\n",
       "      <td>1.102084</td>\n",
       "      <td>30.264420</td>\n",
       "      <td>20.852998</td>\n",
       "      <td>175.747586</td>\n",
       "      <td>461.432475</td>\n",
       "      <td>166.906851</td>\n",
       "      <td>440.071445</td>\n",
       "      <td>417.384046</td>\n",
       "      <td>393.256862</td>\n",
       "      <td>426.403038</td>\n",
       "      <td>51.607391</td>\n",
       "      <td>497.842207</td>\n",
       "      <td>0.524943</td>\n",
       "      <td>0.255051</td>\n",
       "      <td>0.548227</td>\n",
       "      <td>0.502430</td>\n",
       "      <td>0.813902</td>\n",
       "      <td>0.187255</td>\n",
       "      <td>1.550733</td>\n",
       "      <td>0.640080</td>\n",
       "      <td>0.759336</td>\n",
       "      <td>214.933135</td>\n",
       "      <td>129.236103</td>\n",
       "      <td>66.600680</td>\n",
       "      <td>59.812718</td>\n",
       "      <td>25.596703</td>\n",
       "      <td>57.490542</td>\n",
       "      <td>1.311002</td>\n",
       "      <td>79049.128091</td>\n",
       "    </tr>\n",
       "    <tr>\n",
       "      <th>min</th>\n",
       "      <td>1.000000</td>\n",
       "      <td>5.263011e+08</td>\n",
       "      <td>20.000000</td>\n",
       "      <td>1.000000</td>\n",
       "      <td>1.000000</td>\n",
       "      <td>1872.000000</td>\n",
       "      <td>1950.000000</td>\n",
       "      <td>0.000000</td>\n",
       "      <td>0.000000</td>\n",
       "      <td>0.000000</td>\n",
       "      <td>0.000000</td>\n",
       "      <td>160.000000</td>\n",
       "      <td>438.000000</td>\n",
       "      <td>0.000000</td>\n",
       "      <td>0.000000</td>\n",
       "      <td>438.000000</td>\n",
       "      <td>0.000000</td>\n",
       "      <td>0.000000</td>\n",
       "      <td>0.000000</td>\n",
       "      <td>0.000000</td>\n",
       "      <td>0.000000</td>\n",
       "      <td>0.000000</td>\n",
       "      <td>3.000000</td>\n",
       "      <td>0.000000</td>\n",
       "      <td>0.000000</td>\n",
       "      <td>0.000000</td>\n",
       "      <td>0.000000</td>\n",
       "      <td>0.000000</td>\n",
       "      <td>0.000000</td>\n",
       "      <td>0.000000</td>\n",
       "      <td>0.000000</td>\n",
       "      <td>2006.000000</td>\n",
       "      <td>12789.000000</td>\n",
       "    </tr>\n",
       "    <tr>\n",
       "      <th>25%</th>\n",
       "      <td>748.750000</td>\n",
       "      <td>5.284562e+08</td>\n",
       "      <td>20.000000</td>\n",
       "      <td>5.000000</td>\n",
       "      <td>5.000000</td>\n",
       "      <td>1954.000000</td>\n",
       "      <td>1966.000000</td>\n",
       "      <td>0.000000</td>\n",
       "      <td>0.000000</td>\n",
       "      <td>0.000000</td>\n",
       "      <td>239.750000</td>\n",
       "      <td>812.750000</td>\n",
       "      <td>879.000000</td>\n",
       "      <td>0.000000</td>\n",
       "      <td>0.000000</td>\n",
       "      <td>1137.750000</td>\n",
       "      <td>0.000000</td>\n",
       "      <td>0.000000</td>\n",
       "      <td>1.000000</td>\n",
       "      <td>0.000000</td>\n",
       "      <td>2.000000</td>\n",
       "      <td>1.000000</td>\n",
       "      <td>5.000000</td>\n",
       "      <td>0.000000</td>\n",
       "      <td>1.000000</td>\n",
       "      <td>325.750000</td>\n",
       "      <td>0.000000</td>\n",
       "      <td>0.000000</td>\n",
       "      <td>0.000000</td>\n",
       "      <td>0.000000</td>\n",
       "      <td>0.000000</td>\n",
       "      <td>2007.000000</td>\n",
       "      <td>130000.000000</td>\n",
       "    </tr>\n",
       "    <tr>\n",
       "      <th>50%</th>\n",
       "      <td>1486.500000</td>\n",
       "      <td>5.354503e+08</td>\n",
       "      <td>50.000000</td>\n",
       "      <td>6.000000</td>\n",
       "      <td>5.000000</td>\n",
       "      <td>1975.000000</td>\n",
       "      <td>1993.500000</td>\n",
       "      <td>0.000000</td>\n",
       "      <td>384.000000</td>\n",
       "      <td>0.000000</td>\n",
       "      <td>485.000000</td>\n",
       "      <td>1008.000000</td>\n",
       "      <td>1093.000000</td>\n",
       "      <td>0.000000</td>\n",
       "      <td>0.000000</td>\n",
       "      <td>1451.000000</td>\n",
       "      <td>0.000000</td>\n",
       "      <td>0.000000</td>\n",
       "      <td>2.000000</td>\n",
       "      <td>0.000000</td>\n",
       "      <td>3.000000</td>\n",
       "      <td>1.000000</td>\n",
       "      <td>6.000000</td>\n",
       "      <td>1.000000</td>\n",
       "      <td>2.000000</td>\n",
       "      <td>480.000000</td>\n",
       "      <td>0.000000</td>\n",
       "      <td>28.000000</td>\n",
       "      <td>0.000000</td>\n",
       "      <td>0.000000</td>\n",
       "      <td>0.000000</td>\n",
       "      <td>2008.000000</td>\n",
       "      <td>164945.000000</td>\n",
       "    </tr>\n",
       "    <tr>\n",
       "      <th>75%</th>\n",
       "      <td>2195.500000</td>\n",
       "      <td>9.071751e+08</td>\n",
       "      <td>70.000000</td>\n",
       "      <td>7.000000</td>\n",
       "      <td>6.000000</td>\n",
       "      <td>2001.000000</td>\n",
       "      <td>2004.000000</td>\n",
       "      <td>163.000000</td>\n",
       "      <td>742.500000</td>\n",
       "      <td>0.000000</td>\n",
       "      <td>816.000000</td>\n",
       "      <td>1331.250000</td>\n",
       "      <td>1407.500000</td>\n",
       "      <td>700.000000</td>\n",
       "      <td>0.000000</td>\n",
       "      <td>1730.250000</td>\n",
       "      <td>1.000000</td>\n",
       "      <td>0.000000</td>\n",
       "      <td>2.000000</td>\n",
       "      <td>1.000000</td>\n",
       "      <td>3.000000</td>\n",
       "      <td>1.000000</td>\n",
       "      <td>7.000000</td>\n",
       "      <td>1.000000</td>\n",
       "      <td>2.000000</td>\n",
       "      <td>576.000000</td>\n",
       "      <td>168.000000</td>\n",
       "      <td>72.000000</td>\n",
       "      <td>0.000000</td>\n",
       "      <td>0.000000</td>\n",
       "      <td>0.000000</td>\n",
       "      <td>2009.000000</td>\n",
       "      <td>215000.000000</td>\n",
       "    </tr>\n",
       "    <tr>\n",
       "      <th>max</th>\n",
       "      <td>2930.000000</td>\n",
       "      <td>9.241520e+08</td>\n",
       "      <td>190.000000</td>\n",
       "      <td>10.000000</td>\n",
       "      <td>9.000000</td>\n",
       "      <td>2010.000000</td>\n",
       "      <td>2010.000000</td>\n",
       "      <td>1600.000000</td>\n",
       "      <td>5644.000000</td>\n",
       "      <td>1474.000000</td>\n",
       "      <td>2336.000000</td>\n",
       "      <td>6110.000000</td>\n",
       "      <td>5095.000000</td>\n",
       "      <td>1862.000000</td>\n",
       "      <td>1064.000000</td>\n",
       "      <td>5642.000000</td>\n",
       "      <td>3.000000</td>\n",
       "      <td>2.000000</td>\n",
       "      <td>4.000000</td>\n",
       "      <td>2.000000</td>\n",
       "      <td>8.000000</td>\n",
       "      <td>3.000000</td>\n",
       "      <td>15.000000</td>\n",
       "      <td>4.000000</td>\n",
       "      <td>5.000000</td>\n",
       "      <td>1418.000000</td>\n",
       "      <td>1424.000000</td>\n",
       "      <td>547.000000</td>\n",
       "      <td>432.000000</td>\n",
       "      <td>508.000000</td>\n",
       "      <td>490.000000</td>\n",
       "      <td>2010.000000</td>\n",
       "      <td>611657.000000</td>\n",
       "    </tr>\n",
       "  </tbody>\n",
       "</table>\n",
       "</div>"
      ],
      "text/plain": [
       "                Id           PID  MS SubClass  Overall Qual  Overall Cond  \\\n",
       "count  1992.000000  1.992000e+03  1992.000000   1992.000000   1992.000000   \n",
       "mean   1473.443775  7.114068e+08    56.987952      6.167169      5.576807   \n",
       "std     843.430425  1.886440e+08    42.891344      1.386839      1.102084   \n",
       "min       1.000000  5.263011e+08    20.000000      1.000000      1.000000   \n",
       "25%     748.750000  5.284562e+08    20.000000      5.000000      5.000000   \n",
       "50%    1486.500000  5.354503e+08    50.000000      6.000000      5.000000   \n",
       "75%    2195.500000  9.071751e+08    70.000000      7.000000      6.000000   \n",
       "max    2930.000000  9.241520e+08   190.000000     10.000000      9.000000   \n",
       "\n",
       "        Year Built  Year Remod/Add  Mas Vnr Area  BsmtFin SF 1  BsmtFin SF 2  \\\n",
       "count  1992.000000     1992.000000   1992.000000   1992.000000   1992.000000   \n",
       "mean   1972.131024     1984.656124    100.575301    454.614458     49.114960   \n",
       "std      30.264420       20.852998    175.747586    461.432475    166.906851   \n",
       "min    1872.000000     1950.000000      0.000000      0.000000      0.000000   \n",
       "25%    1954.000000     1966.000000      0.000000      0.000000      0.000000   \n",
       "50%    1975.000000     1993.500000      0.000000    384.000000      0.000000   \n",
       "75%    2001.000000     2004.000000    163.000000    742.500000      0.000000   \n",
       "max    2010.000000     2010.000000   1600.000000   5644.000000   1474.000000   \n",
       "\n",
       "       Bsmt Unf SF  Total Bsmt SF   1st Flr SF   2nd Flr SF  Low Qual Fin SF  \\\n",
       "count  1992.000000    1992.000000  1992.000000  1992.000000      1992.000000   \n",
       "mean    581.819277    1085.548695  1165.219378   332.995984         5.546687   \n",
       "std     440.071445     417.384046   393.256862   426.403038        51.607391   \n",
       "min       0.000000     160.000000   438.000000     0.000000         0.000000   \n",
       "25%     239.750000     812.750000   879.000000     0.000000         0.000000   \n",
       "50%     485.000000    1008.000000  1093.000000     0.000000         0.000000   \n",
       "75%     816.000000    1331.250000  1407.500000   700.000000         0.000000   \n",
       "max    2336.000000    6110.000000  5095.000000  1862.000000      1064.000000   \n",
       "\n",
       "       Gr Liv Area  Bsmt Full Bath  Bsmt Half Bath    Full Bath    Half Bath  \\\n",
       "count  1992.000000     1992.000000     1992.000000  1992.000000  1992.000000   \n",
       "mean   1503.762048        0.439257        0.065261     1.576305     0.378514   \n",
       "std     497.842207        0.524943        0.255051     0.548227     0.502430   \n",
       "min     438.000000        0.000000        0.000000     0.000000     0.000000   \n",
       "25%    1137.750000        0.000000        0.000000     1.000000     0.000000   \n",
       "50%    1451.000000        0.000000        0.000000     2.000000     0.000000   \n",
       "75%    1730.250000        1.000000        0.000000     2.000000     1.000000   \n",
       "max    5642.000000        3.000000        2.000000     4.000000     2.000000   \n",
       "\n",
       "       Bedroom AbvGr  Kitchen AbvGr  TotRms AbvGrd   Fireplaces  Garage Cars  \\\n",
       "count    1992.000000    1992.000000    1992.000000  1992.000000  1992.000000   \n",
       "mean        2.847892       1.033133       6.436245     0.600904     1.785028   \n",
       "std         0.813902       0.187255       1.550733     0.640080     0.759336   \n",
       "min         0.000000       0.000000       3.000000     0.000000     0.000000   \n",
       "25%         2.000000       1.000000       5.000000     0.000000     1.000000   \n",
       "50%         3.000000       1.000000       6.000000     1.000000     2.000000   \n",
       "75%         3.000000       1.000000       7.000000     1.000000     2.000000   \n",
       "max         8.000000       3.000000      15.000000     4.000000     5.000000   \n",
       "\n",
       "       Garage Area  Wood Deck SF  Open Porch SF  Enclosed Porch   3Ssn Porch  \\\n",
       "count  1992.000000   1992.000000    1992.000000     1992.000000  1992.000000   \n",
       "mean    475.869815     95.706827      48.290161       22.345382     2.668173   \n",
       "std     214.933135    129.236103      66.600680       59.812718    25.596703   \n",
       "min       0.000000      0.000000       0.000000        0.000000     0.000000   \n",
       "25%     325.750000      0.000000       0.000000        0.000000     0.000000   \n",
       "50%     480.000000      0.000000      28.000000        0.000000     0.000000   \n",
       "75%     576.000000    168.000000      72.000000        0.000000     0.000000   \n",
       "max    1418.000000   1424.000000     547.000000      432.000000   508.000000   \n",
       "\n",
       "       Screen Porch      Yr Sold      SalePrice  \n",
       "count   1992.000000  1992.000000    1992.000000  \n",
       "mean      16.670181  2007.772590  183451.543675  \n",
       "std       57.490542     1.311002   79049.128091  \n",
       "min        0.000000  2006.000000   12789.000000  \n",
       "25%        0.000000  2007.000000  130000.000000  \n",
       "50%        0.000000  2008.000000  164945.000000  \n",
       "75%        0.000000  2009.000000  215000.000000  \n",
       "max      490.000000  2010.000000  611657.000000  "
      ]
     },
     "execution_count": 28,
     "metadata": {},
     "output_type": "execute_result"
    }
   ],
   "source": [
    "train.describe()"
   ]
  },
  {
   "cell_type": "code",
   "execution_count": 29,
   "metadata": {},
   "outputs": [
    {
     "data": {
      "text/html": [
       "<div>\n",
       "<style scoped>\n",
       "    .dataframe tbody tr th:only-of-type {\n",
       "        vertical-align: middle;\n",
       "    }\n",
       "\n",
       "    .dataframe tbody tr th {\n",
       "        vertical-align: top;\n",
       "    }\n",
       "\n",
       "    .dataframe thead th {\n",
       "        text-align: right;\n",
       "    }\n",
       "</style>\n",
       "<table border=\"1\" class=\"dataframe\">\n",
       "  <thead>\n",
       "    <tr style=\"text-align: right;\">\n",
       "      <th></th>\n",
       "      <th>House Style</th>\n",
       "      <th>Roof Style</th>\n",
       "      <th>Roof Matl</th>\n",
       "      <th>Exterior 1st</th>\n",
       "      <th>Exterior 2nd</th>\n",
       "      <th>Mas Vnr Type</th>\n",
       "      <th>Exter Qual</th>\n",
       "      <th>Exter Cond</th>\n",
       "      <th>Bsmt Cond</th>\n",
       "      <th>Bsmt Exposure</th>\n",
       "      <th>BsmtFin Type 1</th>\n",
       "      <th>BsmtFin Type 2</th>\n",
       "      <th>Kitchen Qual</th>\n",
       "      <th>Fireplace Qu</th>\n",
       "      <th>Garage Type</th>\n",
       "      <th>Garage Finish</th>\n",
       "      <th>Garage Qual</th>\n",
       "      <th>Garage Cond</th>\n",
       "      <th>Paved Drive</th>\n",
       "      <th>Fence</th>\n",
       "    </tr>\n",
       "  </thead>\n",
       "  <tbody>\n",
       "    <tr>\n",
       "      <th>count</th>\n",
       "      <td>1992</td>\n",
       "      <td>1992</td>\n",
       "      <td>1992</td>\n",
       "      <td>1992</td>\n",
       "      <td>1992</td>\n",
       "      <td>1970</td>\n",
       "      <td>1992</td>\n",
       "      <td>1992</td>\n",
       "      <td>1992</td>\n",
       "      <td>1992</td>\n",
       "      <td>1992</td>\n",
       "      <td>1992</td>\n",
       "      <td>1992</td>\n",
       "      <td>1037</td>\n",
       "      <td>1992</td>\n",
       "      <td>1992</td>\n",
       "      <td>1992</td>\n",
       "      <td>1992</td>\n",
       "      <td>1992</td>\n",
       "      <td>394</td>\n",
       "    </tr>\n",
       "    <tr>\n",
       "      <th>unique</th>\n",
       "      <td>8</td>\n",
       "      <td>6</td>\n",
       "      <td>6</td>\n",
       "      <td>15</td>\n",
       "      <td>15</td>\n",
       "      <td>4</td>\n",
       "      <td>4</td>\n",
       "      <td>5</td>\n",
       "      <td>5</td>\n",
       "      <td>4</td>\n",
       "      <td>6</td>\n",
       "      <td>6</td>\n",
       "      <td>4</td>\n",
       "      <td>5</td>\n",
       "      <td>7</td>\n",
       "      <td>4</td>\n",
       "      <td>6</td>\n",
       "      <td>6</td>\n",
       "      <td>3</td>\n",
       "      <td>4</td>\n",
       "    </tr>\n",
       "    <tr>\n",
       "      <th>top</th>\n",
       "      <td>1Story</td>\n",
       "      <td>Gable</td>\n",
       "      <td>CompShg</td>\n",
       "      <td>VinylSd</td>\n",
       "      <td>VinylSd</td>\n",
       "      <td>None</td>\n",
       "      <td>TA</td>\n",
       "      <td>TA</td>\n",
       "      <td>TA</td>\n",
       "      <td>No</td>\n",
       "      <td>GLQ</td>\n",
       "      <td>Unf</td>\n",
       "      <td>TA</td>\n",
       "      <td>Gd</td>\n",
       "      <td>Attchd</td>\n",
       "      <td>Unf</td>\n",
       "      <td>TA</td>\n",
       "      <td>TA</td>\n",
       "      <td>Y</td>\n",
       "      <td>MnPrv</td>\n",
       "    </tr>\n",
       "    <tr>\n",
       "      <th>freq</th>\n",
       "      <td>1016</td>\n",
       "      <td>1564</td>\n",
       "      <td>1966</td>\n",
       "      <td>714</td>\n",
       "      <td>710</td>\n",
       "      <td>1167</td>\n",
       "      <td>1199</td>\n",
       "      <td>1727</td>\n",
       "      <td>1830</td>\n",
       "      <td>1338</td>\n",
       "      <td>614</td>\n",
       "      <td>1746</td>\n",
       "      <td>1003</td>\n",
       "      <td>516</td>\n",
       "      <td>1189</td>\n",
       "      <td>811</td>\n",
       "      <td>1787</td>\n",
       "      <td>1823</td>\n",
       "      <td>1824</td>\n",
       "      <td>225</td>\n",
       "    </tr>\n",
       "  </tbody>\n",
       "</table>\n",
       "</div>"
      ],
      "text/plain": [
       "       House Style Roof Style Roof Matl Exterior 1st Exterior 2nd  \\\n",
       "count         1992       1992      1992         1992         1992   \n",
       "unique           8          6         6           15           15   \n",
       "top         1Story      Gable   CompShg      VinylSd      VinylSd   \n",
       "freq          1016       1564      1966          714          710   \n",
       "\n",
       "       Mas Vnr Type Exter Qual Exter Cond Bsmt Cond Bsmt Exposure  \\\n",
       "count          1970       1992       1992      1992          1992   \n",
       "unique            4          4          5         5             4   \n",
       "top            None         TA         TA        TA            No   \n",
       "freq           1167       1199       1727      1830          1338   \n",
       "\n",
       "       BsmtFin Type 1 BsmtFin Type 2 Kitchen Qual Fireplace Qu Garage Type  \\\n",
       "count            1992           1992         1992         1037        1992   \n",
       "unique              6              6            4            5           7   \n",
       "top               GLQ            Unf           TA           Gd      Attchd   \n",
       "freq              614           1746         1003          516        1189   \n",
       "\n",
       "       Garage Finish Garage Qual Garage Cond Paved Drive  Fence  \n",
       "count           1992        1992        1992        1992    394  \n",
       "unique             4           6           6           3      4  \n",
       "top              Unf          TA          TA           Y  MnPrv  \n",
       "freq             811        1787        1823        1824    225  "
      ]
     },
     "execution_count": 29,
     "metadata": {},
     "output_type": "execute_result"
    }
   ],
   "source": [
    "train.describe(include=np.object)"
   ]
  },
  {
   "cell_type": "markdown",
   "metadata": {},
   "source": [
    "**Looking at histograms to see how column data is distributed. Noticing any tails that would indicate outliers.**\n"
   ]
  },
  {
   "cell_type": "code",
   "execution_count": 30,
   "metadata": {},
   "outputs": [
    {
     "data": {
      "image/png": "[encoded data removed]",
      "text/plain": [
       "<Figure size 1800x1800 with 36 Axes>"
      ]
     },
     "metadata": {
      "needs_background": "light"
     },
     "output_type": "display_data"
    }
   ],
   "source": [
    "train.hist(bins=50, figsize=(25,25))\n",
    "plt.savefig(\"attribute_histogram_plots\")\n",
    "plt.show()"
   ]
  },
  {
   "cell_type": "markdown",
   "metadata": {},
   "source": [
    "**Boxplotting trouble histogram columns to better see outliers**"
   ]
  },
  {
   "cell_type": "code",
   "execution_count": 31,
   "metadata": {},
   "outputs": [
    {
     "data": {
      "text/plain": [
       "<matplotlib.axes._subplots.AxesSubplot at 0x7fbedd626790>"
      ]
     },
     "execution_count": 31,
     "metadata": {},
     "output_type": "execute_result"
    },
    {
     "data": {
      "image/png": "[encoded data removed]",
      "text/plain": [
       "<Figure size 432x288 with 1 Axes>"
      ]
     },
     "metadata": {
      "needs_background": "light"
     },
     "output_type": "display_data"
    }
   ],
   "source": [
    "sns.boxplot(x=train['Garage Area']) "
   ]
  },
  {
   "cell_type": "code",
   "execution_count": 32,
   "metadata": {},
   "outputs": [
    {
     "data": {
      "text/plain": [
       "<matplotlib.axes._subplots.AxesSubplot at 0x7fbedfcd3750>"
      ]
     },
     "execution_count": 32,
     "metadata": {},
     "output_type": "execute_result"
    },
    {
     "data": {
      "image/png": "[encoded data removed]",
      "text/plain": [
       "<Figure size 432x288 with 1 Axes>"
      ]
     },
     "metadata": {
      "needs_background": "light"
     },
     "output_type": "display_data"
    }
   ],
   "source": [
    "sns.boxplot(x=train['Bsmt Unf SF']) "
   ]
  },
  {
   "cell_type": "code",
   "execution_count": 33,
   "metadata": {},
   "outputs": [
    {
     "data": {
      "text/plain": [
       "<matplotlib.axes._subplots.AxesSubplot at 0x7fbedc396f10>"
      ]
     },
     "execution_count": 33,
     "metadata": {},
     "output_type": "execute_result"
    },
    {
     "data": {
      "image/png": "[encoded data removed]",
      "text/plain": [
       "<Figure size 432x288 with 1 Axes>"
      ]
     },
     "metadata": {
      "needs_background": "light"
     },
     "output_type": "display_data"
    }
   ],
   "source": [
    "sns.boxplot(x=train['SalePrice'])"
   ]
  },
  {
   "cell_type": "code",
   "execution_count": 34,
   "metadata": {},
   "outputs": [
    {
     "data": {
      "text/plain": [
       "count      1992.000000\n",
       "mean     183451.543675\n",
       "std       79049.128091\n",
       "min       12789.000000\n",
       "25%      130000.000000\n",
       "50%      164945.000000\n",
       "75%      215000.000000\n",
       "max      611657.000000\n",
       "Name: SalePrice, dtype: float64"
      ]
     },
     "execution_count": 34,
     "metadata": {},
     "output_type": "execute_result"
    }
   ],
   "source": [
    "train['SalePrice'].describe()"
   ]
  },
  {
   "cell_type": "code",
   "execution_count": 35,
   "metadata": {},
   "outputs": [
    {
     "name": "stdout",
     "output_type": "stream",
     "text": [
      "Lower outliers are: []\n",
      "Upper outliers are: [341000, 342000, 342643, 344133, 345000, 345000, 345474, 348000, 349265, 350000, 350000, 350000, 350000, 355000, 356383, 359900, 360000, 360000, 361919, 367294, 370000, 370000, 370878, 370967, 372000, 372397, 372402, 373000, 374000, 375000, 376162, 377426, 377500, 380000, 382500, 383000, 383970, 385000, 385000, 386250, 387000, 392000, 392000, 392500, 394617, 395000, 395039, 398800, 402000, 403000, 404000, 410000, 410000, 410000, 412083, 412500, 415000, 415000, 415298, 417500, 418000, 421250, 425000, 426000, 430000, 438780, 440000, 441929, 445000, 446261, 450000, 451950, 455000, 457347, 460000, 465000, 466500, 468000, 475000, 475000, 485000, 500000, 500067, 501837, 535000, 538000, 545224, 552000, 555000, 556581, 582933, 584500, 591587, 611657]\n"
     ]
    }
   ],
   "source": [
    "find_outliers(129825, 214000, train['SalePrice'])\n",
    "\n",
    "#total count 2051\n",
    "#total upper outliers = 94"
   ]
  },
  {
   "cell_type": "markdown",
   "metadata": {},
   "source": [
    "Dont want to remove outliers as there are so many and TCB contracting will get jobs from houses with higher price points. Decision made to log salesprice if needed before testing for more accutate results."
   ]
  },
  {
   "cell_type": "markdown",
   "metadata": {},
   "source": [
    "## Data Exploration: combining features and interaction terms "
   ]
  },
  {
   "cell_type": "code",
   "execution_count": 36,
   "metadata": {},
   "outputs": [],
   "source": [
    "#Creating price per sq ft to compare to price\n",
    "\n",
    "train['TotalLivingSF'] = train['Gr Liv Area'] + train['Total Bsmt SF'] - train['Low Qual Fin SF']\n",
    "test['TotalLivingSF'] = test['Gr Liv Area'] + test['Total Bsmt SF'] - test['Low Qual Fin SF']"
   ]
  },
  {
   "cell_type": "code",
   "execution_count": 37,
   "metadata": {},
   "outputs": [],
   "source": [
    "#Creating SqFt + Quality column\n",
    "\n",
    "train['SqFt Interaction Qual'] = train['TotalLivingSF'] * train['Overall Qual']\n",
    "test['SqFt Interaction Qual'] = test['TotalLivingSF'] * test['Overall Qual']"
   ]
  },
  {
   "cell_type": "code",
   "execution_count": 38,
   "metadata": {},
   "outputs": [],
   "source": [
    "#Creating Total Bath column\n",
    "\n",
    "half_bath_total = (train['Bsmt Half Bath'] + train['Half Bath'])/2\n",
    "train['TotalBath'] = train['Bsmt Full Bath'] + train['Full Bath'] + half_bath_total\n",
    "\n",
    "half_bath_total = (test['Bsmt Half Bath'] + test['Half Bath'])/2\n",
    "test['TotalBath'] = test['Bsmt Full Bath'] + test['Full Bath'] + half_bath_total"
   ]
  },
  {
   "cell_type": "code",
   "execution_count": 39,
   "metadata": {},
   "outputs": [],
   "source": [
    "#Creating new df with TCB relevant features\n",
    "\n",
    "TCB_df = train[['SalePrice','Overall Cond','Overall Qual','2nd Flr SF',\n",
    "                      'Bedroom AbvGr','MS SubClass','House Style',\n",
    "                      'Gr Liv Area','TotRms AbvGrd','Bsmt Cond', \n",
    "                      'Bsmt Exposure', 'BsmtFin Type 1', 'BsmtFin SF 1',\n",
    "                      'BsmtFin Type 2', 'BsmtFin SF 2','Kitchen AbvGr',\n",
    "                      'Kitchen Qual', 'Bsmt Full Bath', 'Bsmt Half Bath',\n",
    "                      'Full Bath', 'Half Bath','Garage Type',\n",
    "                      'Garage Finish', 'Garage Cars','Garage Area', 'Garage Qual',\n",
    "                      'Garage Cond','Wood Deck SF', 'Open Porch SF', 'Enclosed Porch',\n",
    "                      '3Ssn Porch', 'TotalBath','TotalLivingSF']].copy()"
   ]
  },
  {
   "cell_type": "markdown",
   "metadata": {},
   "source": [
    "## Data Exploration: finding corrilations"
   ]
  },
  {
   "cell_type": "code",
   "execution_count": 40,
   "metadata": {},
   "outputs": [
    {
     "data": {
      "image/png": "[encoded data removed]",
      "text/plain": [
       "<Figure size 360x1080 with 2 Axes>"
      ]
     },
     "metadata": {
      "needs_background": "light"
     },
     "output_type": "display_data"
    }
   ],
   "source": [
    "#Look at all corrilations to Sale Price\n",
    "\n",
    "cor = train.corr()\n",
    "\n",
    "plt.figure(figsize=(5,15))\n",
    "sns.heatmap(cor[['SalePrice']].sort_values('SalePrice', ascending = False),\n",
    "            annot=True,\n",
    "            vmin=-1,\n",
    "            vmax=1,\n",
    "            linewidths=1, \n",
    "            linecolor='white');"
   ]
  },
  {
   "cell_type": "code",
   "execution_count": 41,
   "metadata": {},
   "outputs": [],
   "source": [
    "#code inspiration from Heather\n",
    "\n",
    "cor_target = abs(cor['SalePrice'])\n",
    "relevant_features = cor_target[cor_target > 0.5]\n",
    "relevant_features.sort_values()\n",
    "\n",
    "relevant_df = pd.DataFrame(relevant_features)"
   ]
  },
  {
   "cell_type": "code",
   "execution_count": 42,
   "metadata": {},
   "outputs": [
    {
     "data": {
      "text/plain": [
       "<matplotlib.axes._subplots.AxesSubplot at 0x7fbedc3c1310>"
      ]
     },
     "execution_count": 42,
     "metadata": {},
     "output_type": "execute_result"
    },
    {
     "data": {
      "image/png": "[encoded data removed]",
      "text/plain": [
       "<Figure size 720x720 with 2 Axes>"
      ]
     },
     "metadata": {
      "needs_background": "light"
     },
     "output_type": "display_data"
    }
   ],
   "source": [
    "#Plotting relevant features\n",
    "\n",
    "plt.figure(figsize=(10,10))\n",
    "sns.heatmap(relevant_df.sort_values('SalePrice', ascending = False),\n",
    "            annot=True,\n",
    "            vmin=-1,\n",
    "            vmax=1,\n",
    "            cmap = \"Spectral\",\n",
    "            linewidths=1, \n",
    "            linecolor='white',\n",
    "            cbar_kws={\"shrink\": .70})"
   ]
  },
  {
   "cell_type": "code",
   "execution_count": 43,
   "metadata": {},
   "outputs": [
    {
     "data": {
      "text/plain": [
       "<matplotlib.axes._subplots.AxesSubplot at 0x7fbedc957650>"
      ]
     },
     "execution_count": 43,
     "metadata": {},
     "output_type": "execute_result"
    },
    {
     "data": {
      "image/png": "[encoded data removed]",
      "text/plain": [
       "<Figure size 360x1080 with 2 Axes>"
      ]
     },
     "metadata": {
      "needs_background": "light"
     },
     "output_type": "display_data"
    }
   ],
   "source": [
    "#Look at all corrilations to Sale Price\n",
    "\n",
    "TCBcor = TCB_df.corr()\n",
    "\n",
    "plt.figure(figsize=(5,15))\n",
    "sns.heatmap(TCBcor[['SalePrice']].sort_values('SalePrice', ascending = False),\n",
    "            annot=True,\n",
    "            vmin=-1,\n",
    "            vmax=1,\n",
    "            linewidths=1, \n",
    "            linecolor='white')"
   ]
  },
  {
   "cell_type": "code",
   "execution_count": 44,
   "metadata": {},
   "outputs": [],
   "source": [
    "# Finding high corrilation features that contracting company can do\n",
    "\n",
    "tcb_cor_target = abs(TCBcor['SalePrice'])\n",
    "tcb_relevant_features = tcb_cor_target[tcb_cor_target > 0.5]\n",
    "tcb_relevant_features.sort_values()\n",
    "\n",
    "tcb_relevant_df = pd.DataFrame(tcb_relevant_features)"
   ]
  },
  {
   "cell_type": "code",
   "execution_count": 45,
   "metadata": {},
   "outputs": [
    {
     "data": {
      "text/plain": [
       "<matplotlib.axes._subplots.AxesSubplot at 0x7fbedcb049d0>"
      ]
     },
     "execution_count": 45,
     "metadata": {},
     "output_type": "execute_result"
    },
    {
     "data": {
      "image/png": "[encoded data removed]",
      "text/plain": [
       "<Figure size 720x720 with 2 Axes>"
      ]
     },
     "metadata": {
      "needs_background": "light"
     },
     "output_type": "display_data"
    }
   ],
   "source": [
    "#Plotting relevant features\n",
    "\n",
    "plt.figure(figsize=(10,10))\n",
    "sns.heatmap(tcb_relevant_df.sort_values('SalePrice', ascending = False),\n",
    "            annot=True,\n",
    "            vmin=-1,\n",
    "            vmax=1,\n",
    "            cmap = \"Spectral\",\n",
    "            linewidths=1, \n",
    "            linecolor='white',\n",
    "            cbar_kws={\"shrink\": .70})"
   ]
  },
  {
   "cell_type": "markdown",
   "metadata": {},
   "source": [
    "**Checking independance**"
   ]
  },
  {
   "cell_type": "code",
   "execution_count": 46,
   "metadata": {},
   "outputs": [
    {
     "name": "stdout",
     "output_type": "stream",
     "text": [
      "                Year Built  Year Remod/Add\n",
      "Year Built        1.000000        0.632592\n",
      "Year Remod/Add    0.632592        1.000000\n",
      "               Overall Qual  TotalLivingSF\n",
      "Overall Qual       1.000000       0.639794\n",
      "TotalLivingSF      0.639794       1.000000\n",
      "             Garage Area  Garage Cars\n",
      "Garage Area     1.000000     0.892032\n",
      "Garage Cars     0.892032     1.000000\n",
      "               1st Flr SF  Total Bsmt SF\n",
      "1st Flr SF       1.000000       0.894571\n",
      "Total Bsmt SF    0.894571       1.000000\n",
      "             TotalBath  Gr Liv Area\n",
      "TotalBath     1.000000     0.584645\n",
      "Gr Liv Area   0.584645     1.000000\n"
     ]
    }
   ],
   "source": [
    "print(train[[\"Year Built\",\"Year Remod/Add\"]].corr())  \n",
    "#High corrilation so I will drop one \n",
    "#Keep Year Build as it's corrilation with Sales Price is Higher\n",
    "\n",
    "print(train[[\"Overall Qual\",\"TotalLivingSF\"]].corr())\n",
    "#High corrilation so I will drop one \n",
    "#Keep Overall Qual as it's corrilation with Sales Price is Higher\n",
    "\n",
    "print(train[[\"Garage Area\",\"Garage Cars\"]].corr())\n",
    "#High corrilation so I will drop one \n",
    "#Keep Garage Area as it's corrilation with Sales Price is Higher\n",
    "\n",
    "print(train[[\"1st Flr SF\",\"Total Bsmt SF\"]].corr())\n",
    "#High corrilation so I will drop one \n",
    "#Keep Total Bsmt SF as it's corrilation with Sales Price is Higher\n",
    "\n",
    "print(train[[\"TotalBath\",\"Gr Liv Area\"]].corr())\n",
    "#High corrilation so I will drop one \n",
    "#Keep TotalBath as it's corrilation with Sales Price is Higher"
   ]
  },
  {
   "cell_type": "code",
   "execution_count": 47,
   "metadata": {},
   "outputs": [
    {
     "name": "stdout",
     "output_type": "stream",
     "text": [
      "             Garage Area  Gr Liv Area\n",
      "Garage Area     1.000000     0.486311\n",
      "Gr Liv Area     0.486311     1.000000\n",
      "              Mas Vnr Area  Year Built\n",
      "Mas Vnr Area      1.000000    0.316717\n",
      "Year Built        0.316717    1.000000\n"
     ]
    }
   ],
   "source": [
    "#High Independance\n",
    "print(train[[\"Garage Area\",\"Gr Liv Area\"]].corr())\n",
    "print(train[[\"Mas Vnr Area\",\"Year Built\"]].corr())"
   ]
  },
  {
   "cell_type": "code",
   "execution_count": 49,
   "metadata": {},
   "outputs": [
    {
     "name": "stdout",
     "output_type": "stream",
     "text": [
      "               TotRms AbvGrd  Overall Qual\n",
      "TotRms AbvGrd       1.000000      0.391821\n",
      "Overall Qual        0.391821      1.000000\n",
      "             Gr Liv Area  Garage Area\n",
      "Gr Liv Area     1.000000     0.486311\n",
      "Garage Area     0.486311     1.000000\n",
      "             Garage Cars  Gr Liv Area\n",
      "Garage Cars     1.000000     0.483905\n",
      "Gr Liv Area     0.483905     1.000000\n",
      "           Full Bath  TotalBath\n",
      "Full Bath   1.000000   0.712082\n",
      "TotalBath   0.712082   1.000000\n"
     ]
    }
   ],
   "source": [
    "print(TCB_df[['TotRms AbvGrd', 'Overall Qual']].corr()) #low corrilation\n",
    "print(TCB_df[['Gr Liv Area', 'Garage Area']].corr()) #high corrilation, keep 'Gr Liv Area'\n",
    "print(TCB_df[['Garage Cars', 'Gr Liv Area']].corr())  #low corrilation\n",
    "print(TCB_df[['Full Bath', 'TotalBath']].corr()) #high corrilation, keep total bath"
   ]
  },
  {
   "cell_type": "code",
   "execution_count": 48,
   "metadata": {},
   "outputs": [
    {
     "data": {
      "image/png": "[encoded data removed]",
      "text/plain": [
       "<Figure size 360x180 with 2 Axes>"
      ]
     },
     "metadata": {
      "needs_background": "light"
     },
     "output_type": "display_data"
    },
    {
     "data": {
      "image/png": "[encoded data removed]",
      "text/plain": [
       "<Figure size 360x180 with 2 Axes>"
      ]
     },
     "metadata": {
      "needs_background": "light"
     },
     "output_type": "display_data"
    },
    {
     "data": {
      "image/png": "[encoded data removed]",
      "text/plain": [
       "<Figure size 540x180 with 3 Axes>"
      ]
     },
     "metadata": {
      "needs_background": "light"
     },
     "output_type": "display_data"
    },
    {
     "data": {
      "image/png": "[encoded data removed]",
      "text/plain": [
       "<Figure size 540x180 with 3 Axes>"
      ]
     },
     "metadata": {
      "needs_background": "light"
     },
     "output_type": "display_data"
    },
    {
     "data": {
      "image/png": "[encoded data removed]",
      "text/plain": [
       "<Figure size 360x180 with 2 Axes>"
      ]
     },
     "metadata": {
      "needs_background": "light"
     },
     "output_type": "display_data"
    },
    {
     "data": {
      "image/png": "[encoded data removed]",
      "text/plain": [
       "<Figure size 360x180 with 2 Axes>"
      ]
     },
     "metadata": {
      "needs_background": "light"
     },
     "output_type": "display_data"
    }
   ],
   "source": [
    "#Highest corrilations are SqFt Interaction Qual, Overall Qual, Garage Area, TotalBath,\n",
    "\n",
    "sns.pairplot(train, y_vars=['SalePrice'], \n",
    "             x_vars=['SqFt Interaction Qual', 'Overall Qual']);\n",
    "sns.pairplot(train, y_vars=['SalePrice'], \n",
    "             x_vars=['TotalBath', 'Full Bath']);\n",
    "sns.pairplot(train, y_vars=['SalePrice'], \n",
    "             x_vars=['TotalLivingSF','TotRms AbvGrd','Total Bsmt SF']);\n",
    "sns.pairplot(train, y_vars=['SalePrice'], \n",
    "             x_vars=['Gr Liv Area','Garage Area','Garage Cars']);\n",
    "sns.pairplot(train, y_vars=['SalePrice'], \n",
    "             x_vars=['Mas Vnr Area','1st Flr SF']);\n",
    "sns.pairplot(train, y_vars=['SalePrice'], \n",
    "             x_vars=['Year Built' ,'Year Remod/Add']);"
   ]
  },
  {
   "cell_type": "markdown",
   "metadata": {},
   "source": [
    "# Pre Processing & Modeling"
   ]
  },
  {
   "cell_type": "markdown",
   "metadata": {},
   "source": [
    "**Feature and Model Selection**"
   ]
  },
  {
   "cell_type": "markdown",
   "metadata": {},
   "source": [
    "Features to score chosen by LASSO: 'PID', 'MS SubClass', 'Overall Qual', 'Overall Cond', 'Year Built',\n",
    "       'Year Remod/Add', 'Mas Vnr Area', 'Gr Liv Area', 'Bsmt Full Bath',\n",
    "       'Bsmt Half Bath', 'Kitchen AbvGr', 'TotRms AbvGrd', 'Fireplaces',\n",
    "       'Garage Cars', 'Garage Area', 'Wood Deck SF', 'Screen Porch',\n",
    "       'TotalLivingSF', 'SqFt Interaction Qual', 'TotalBath',\n",
    "       'Kitchen Qual_Ex', 'Kitchen Qual_TA', 'BsmtFin Type 2_Unf',\n",
    "       'BsmtFin Type 1_GLQ', 'BsmtFin Type 1_Unf', 'Bsmt Exposure_Gd',\n",
    "       'Bsmt Exposure_No', 'Garage Type_BuiltIn', 'Garage Type_CarPort',\n",
    "       'Garage Type_Detchd', 'Garage Type_N/A', 'Garage Finish_Fin',\n",
    "       'Garage Finish_N/A', 'Garage Finish_Unf', 'Garage Qual_Gd',\n",
    "       'Garage Qual_N/A', 'Garage Cond_N/A'\n",
    "\n",
    "As the output of my project will be the numeric 'Sale Price', I will use linear regression and multiple linear regression modeling algorithm to evaluate the data given to me. \n",
    "\n",
    "I will log salesprice before testing as there are so many outliers for more accutate results.\n",
    "I will scale data as the units of measurements are different for the features chose. \n",
    "\n",
    "The success of my modeles will be evaluated by the regression metric 𝑅2. I will use R2 as it is easily interpratable and does not depend on the scale of \"Sales Price\"."
   ]
  },
  {
   "cell_type": "markdown",
   "metadata": {},
   "source": [
    "**Dummy Columns**"
   ]
  },
  {
   "cell_type": "code",
   "execution_count": 50,
   "metadata": {},
   "outputs": [],
   "source": [
    "train = pd.get_dummies(train, columns = ['House Style','Kitchen Qual','Bsmt Cond','BsmtFin Type 2','BsmtFin Type 1', \n",
    "                                        'Bsmt Exposure','Garage Type','Garage Finish','Garage Qual','Garage Cond'])\n",
    "\n",
    "                                      \n",
    "test = pd.get_dummies(test, columns = ['House Style','Kitchen Qual','Bsmt Cond','BsmtFin Type 2','BsmtFin Type 1',\n",
    "                                       'Bsmt Exposure','Garage Type','Garage Finish','Garage Qual','Garage Cond'])"
   ]
  },
  {
   "cell_type": "markdown",
   "metadata": {},
   "source": [
    "**Initiate Model**"
   ]
  },
  {
   "cell_type": "code",
   "execution_count": 51,
   "metadata": {},
   "outputs": [],
   "source": [
    "#All numeric columns: Before Lasso\n",
    "# X = train._get_numeric_data().drop(columns='SalePrice')\n",
    "# y = train['SalePrice']"
   ]
  },
  {
   "cell_type": "code",
   "execution_count": 52,
   "metadata": {},
   "outputs": [],
   "source": [
    "#After Lasso\n",
    "features= ['PID', 'MS SubClass', 'Overall Qual', 'Overall Cond', 'Year Built',\n",
    "       'Year Remod/Add', 'Mas Vnr Area', 'Gr Liv Area', 'Bsmt Full Bath',\n",
    "       'Bsmt Half Bath', 'Kitchen AbvGr', 'TotRms AbvGrd', 'Fireplaces',\n",
    "       'Garage Cars', 'Garage Area', 'Wood Deck SF', 'Screen Porch',\n",
    "       'TotalLivingSF', 'SqFt Interaction Qual', 'TotalBath',\n",
    "       'Kitchen Qual_Ex', 'Kitchen Qual_TA', 'BsmtFin Type 2_Unf',\n",
    "       'BsmtFin Type 1_GLQ', 'BsmtFin Type 1_Unf', 'Bsmt Exposure_Gd',\n",
    "       'Bsmt Exposure_No', 'Garage Type_BuiltIn', 'Garage Type_CarPort',\n",
    "       'Garage Type_Detchd', 'Garage Type_N/A', 'Garage Finish_Fin',\n",
    "       'Garage Finish_N/A', 'Garage Finish_Unf', 'Garage Qual_Gd',\n",
    "       'Garage Qual_N/A', 'Garage Cond_N/A']\n",
    "\n",
    "X = train[features]\n",
    "\n",
    "y = train['SalePrice']"
   ]
  },
  {
   "cell_type": "code",
   "execution_count": 53,
   "metadata": {},
   "outputs": [],
   "source": [
    "# If logging\n",
    "#train['SalePrice'] = train['SalePrice'].map(np.log)"
   ]
  },
  {
   "cell_type": "markdown",
   "metadata": {},
   "source": [
    "**Train/test split data**"
   ]
  },
  {
   "cell_type": "code",
   "execution_count": 54,
   "metadata": {},
   "outputs": [],
   "source": [
    "X_train, X_test, y_train, y_test = train_test_split(X, y, random_state=42)"
   ]
  },
  {
   "cell_type": "code",
   "execution_count": 55,
   "metadata": {},
   "outputs": [],
   "source": [
    "# If logging\n",
    "# y_train_log = y_train.map(np.log)\n",
    "# y_test_log = y_test.map(np.log)"
   ]
  },
  {
   "cell_type": "markdown",
   "metadata": {},
   "source": [
    "**Scale data**"
   ]
  },
  {
   "cell_type": "code",
   "execution_count": 56,
   "metadata": {},
   "outputs": [],
   "source": [
    "ss = StandardScaler()\n",
    "\n",
    "Xs_train = ss.fit_transform(X_train)\n",
    "X_test = ss.transform(X_test)"
   ]
  },
  {
   "cell_type": "markdown",
   "metadata": {},
   "source": [
    "**Instantiate model**"
   ]
  },
  {
   "cell_type": "code",
   "execution_count": 57,
   "metadata": {},
   "outputs": [],
   "source": [
    "lr = LinearRegression()"
   ]
  },
  {
   "cell_type": "markdown",
   "metadata": {},
   "source": [
    "**Establishing baseline score**"
   ]
  },
  {
   "cell_type": "code",
   "execution_count": 58,
   "metadata": {},
   "outputs": [
    {
     "data": {
      "text/plain": [
       "0.8050226854332333"
      ]
     },
     "execution_count": 58,
     "metadata": {},
     "output_type": "execute_result"
    }
   ],
   "source": [
    "cross_val_score(lr, X_train, y_train).mean()"
   ]
  },
  {
   "cell_type": "markdown",
   "metadata": {},
   "source": [
    "**Fit model**"
   ]
  },
  {
   "cell_type": "code",
   "execution_count": 59,
   "metadata": {
    "scrolled": true
   },
   "outputs": [
    {
     "data": {
      "text/plain": [
       "LinearRegression(copy_X=True, fit_intercept=True, n_jobs=None, normalize=False)"
      ]
     },
     "execution_count": 59,
     "metadata": {},
     "output_type": "execute_result"
    }
   ],
   "source": [
    "lr.fit(Xs_train, y_train)"
   ]
  },
  {
   "cell_type": "markdown",
   "metadata": {},
   "source": [
    "**Evaluate Model**"
   ]
  },
  {
   "cell_type": "code",
   "execution_count": 60,
   "metadata": {},
   "outputs": [
    {
     "data": {
      "text/plain": [
       "0.8470017651478623"
      ]
     },
     "execution_count": 60,
     "metadata": {},
     "output_type": "execute_result"
    }
   ],
   "source": [
    "lr.score(Xs_train, y_train)"
   ]
  },
  {
   "cell_type": "code",
   "execution_count": 61,
   "metadata": {},
   "outputs": [
    {
     "data": {
      "text/plain": [
       "0.872651760406306"
      ]
     },
     "execution_count": 61,
     "metadata": {},
     "output_type": "execute_result"
    }
   ],
   "source": [
    "lr.score(X_test, y_test)"
   ]
  },
  {
   "cell_type": "code",
   "execution_count": 62,
   "metadata": {},
   "outputs": [
    {
     "data": {
      "text/plain": [
       "0.805012983783354"
      ]
     },
     "execution_count": 62,
     "metadata": {},
     "output_type": "execute_result"
    }
   ],
   "source": [
    "cross_val_score(lr,Xs_train, y_train).mean() "
   ]
  },
  {
   "cell_type": "code",
   "execution_count": 63,
   "metadata": {},
   "outputs": [],
   "source": [
    "#If logging\n",
    "# cross_val_score(lr,Xs_train, y_train_log).mean() = 0.8635515856622098\n",
    "# lr.score(X_test, y_test_log) = 0.8921485005716413\n",
    "# lr.score(Xs_train, y_train_log) = 0.8758816589063017"
   ]
  },
  {
   "cell_type": "markdown",
   "metadata": {},
   "source": [
    "**Score Interpretation**\n",
    "\n",
    "As the test and train scores are similar I can assume that there is Low Variance and low overfitting. \n",
    "\n",
    "As cross val score is .07 points from test score there might be a sampeling error. To correct this I could select a different state for test train split. This might also indicate High Bias."
   ]
  },
  {
   "cell_type": "code",
   "execution_count": 77,
   "metadata": {},
   "outputs": [
    {
     "data": {
      "text/html": [
       "<div>\n",
       "<style scoped>\n",
       "    .dataframe tbody tr th:only-of-type {\n",
       "        vertical-align: middle;\n",
       "    }\n",
       "\n",
       "    .dataframe tbody tr th {\n",
       "        vertical-align: top;\n",
       "    }\n",
       "\n",
       "    .dataframe thead th {\n",
       "        text-align: right;\n",
       "    }\n",
       "</style>\n",
       "<table border=\"1\" class=\"dataframe\">\n",
       "  <thead>\n",
       "    <tr style=\"text-align: right;\">\n",
       "      <th></th>\n",
       "      <th>coef val</th>\n",
       "    </tr>\n",
       "    <tr>\n",
       "      <th>var</th>\n",
       "      <th></th>\n",
       "    </tr>\n",
       "  </thead>\n",
       "  <tbody>\n",
       "    <tr>\n",
       "      <th>SqFt Interaction Qual</th>\n",
       "      <td>-11510.247438</td>\n",
       "    </tr>\n",
       "    <tr>\n",
       "      <th>MS SubClass</th>\n",
       "      <td>-8267.288981</td>\n",
       "    </tr>\n",
       "    <tr>\n",
       "      <th>Bsmt Exposure_No</th>\n",
       "      <td>-3793.981517</td>\n",
       "    </tr>\n",
       "    <tr>\n",
       "      <th>Kitchen AbvGr</th>\n",
       "      <td>-2887.052093</td>\n",
       "    </tr>\n",
       "    <tr>\n",
       "      <th>BsmtFin Type 1_Unf</th>\n",
       "      <td>-2688.676953</td>\n",
       "    </tr>\n",
       "    <tr>\n",
       "      <th>Kitchen Qual_TA</th>\n",
       "      <td>-2642.996941</td>\n",
       "    </tr>\n",
       "    <tr>\n",
       "      <th>PID</th>\n",
       "      <td>-2557.392932</td>\n",
       "    </tr>\n",
       "    <tr>\n",
       "      <th>Bsmt Half Bath</th>\n",
       "      <td>-2325.458622</td>\n",
       "    </tr>\n",
       "    <tr>\n",
       "      <th>Garage Type_CarPort</th>\n",
       "      <td>-1325.599185</td>\n",
       "    </tr>\n",
       "    <tr>\n",
       "      <th>Garage Type_Detchd</th>\n",
       "      <td>-250.895648</td>\n",
       "    </tr>\n",
       "    <tr>\n",
       "      <th>Garage Finish_Unf</th>\n",
       "      <td>828.986748</td>\n",
       "    </tr>\n",
       "    <tr>\n",
       "      <th>Garage Finish_Fin</th>\n",
       "      <td>1365.164090</td>\n",
       "    </tr>\n",
       "    <tr>\n",
       "      <th>Garage Cond_N/A</th>\n",
       "      <td>1392.681037</td>\n",
       "    </tr>\n",
       "    <tr>\n",
       "      <th>Garage Type_N/A</th>\n",
       "      <td>1392.681037</td>\n",
       "    </tr>\n",
       "    <tr>\n",
       "      <th>Garage Finish_N/A</th>\n",
       "      <td>1392.681037</td>\n",
       "    </tr>\n",
       "    <tr>\n",
       "      <th>Garage Qual_N/A</th>\n",
       "      <td>1392.681037</td>\n",
       "    </tr>\n",
       "    <tr>\n",
       "      <th>Bsmt Full Bath</th>\n",
       "      <td>1631.897806</td>\n",
       "    </tr>\n",
       "    <tr>\n",
       "      <th>Garage Type_BuiltIn</th>\n",
       "      <td>1692.110700</td>\n",
       "    </tr>\n",
       "    <tr>\n",
       "      <th>Wood Deck SF</th>\n",
       "      <td>1800.461414</td>\n",
       "    </tr>\n",
       "    <tr>\n",
       "      <th>BsmtFin Type 2_Unf</th>\n",
       "      <td>1950.480874</td>\n",
       "    </tr>\n",
       "    <tr>\n",
       "      <th>BsmtFin Type 1_GLQ</th>\n",
       "      <td>2523.540247</td>\n",
       "    </tr>\n",
       "    <tr>\n",
       "      <th>Year Remod/Add</th>\n",
       "      <td>2813.879856</td>\n",
       "    </tr>\n",
       "    <tr>\n",
       "      <th>Mas Vnr Area</th>\n",
       "      <td>2984.618148</td>\n",
       "    </tr>\n",
       "    <tr>\n",
       "      <th>TotRms AbvGrd</th>\n",
       "      <td>3087.994367</td>\n",
       "    </tr>\n",
       "    <tr>\n",
       "      <th>Fireplaces</th>\n",
       "      <td>3328.397040</td>\n",
       "    </tr>\n",
       "    <tr>\n",
       "      <th>TotalBath</th>\n",
       "      <td>3457.978760</td>\n",
       "    </tr>\n",
       "    <tr>\n",
       "      <th>Screen Porch</th>\n",
       "      <td>4557.801309</td>\n",
       "    </tr>\n",
       "    <tr>\n",
       "      <th>Garage Qual_Gd</th>\n",
       "      <td>4710.248190</td>\n",
       "    </tr>\n",
       "    <tr>\n",
       "      <th>Bsmt Exposure_Gd</th>\n",
       "      <td>4970.825470</td>\n",
       "    </tr>\n",
       "    <tr>\n",
       "      <th>Garage Area</th>\n",
       "      <td>5037.131456</td>\n",
       "    </tr>\n",
       "    <tr>\n",
       "      <th>Overall Cond</th>\n",
       "      <td>5130.717942</td>\n",
       "    </tr>\n",
       "    <tr>\n",
       "      <th>Year Built</th>\n",
       "      <td>7224.580710</td>\n",
       "    </tr>\n",
       "    <tr>\n",
       "      <th>Garage Cars</th>\n",
       "      <td>8771.353120</td>\n",
       "    </tr>\n",
       "    <tr>\n",
       "      <th>Gr Liv Area</th>\n",
       "      <td>11083.851777</td>\n",
       "    </tr>\n",
       "    <tr>\n",
       "      <th>Kitchen Qual_Ex</th>\n",
       "      <td>12739.022930</td>\n",
       "    </tr>\n",
       "    <tr>\n",
       "      <th>TotalLivingSF</th>\n",
       "      <td>15630.248838</td>\n",
       "    </tr>\n",
       "    <tr>\n",
       "      <th>Overall Qual</th>\n",
       "      <td>23791.135679</td>\n",
       "    </tr>\n",
       "  </tbody>\n",
       "</table>\n",
       "</div>"
      ],
      "text/plain": [
       "                           coef val\n",
       "var                                \n",
       "SqFt Interaction Qual -11510.247438\n",
       "MS SubClass            -8267.288981\n",
       "Bsmt Exposure_No       -3793.981517\n",
       "Kitchen AbvGr          -2887.052093\n",
       "BsmtFin Type 1_Unf     -2688.676953\n",
       "Kitchen Qual_TA        -2642.996941\n",
       "PID                    -2557.392932\n",
       "Bsmt Half Bath         -2325.458622\n",
       "Garage Type_CarPort    -1325.599185\n",
       "Garage Type_Detchd      -250.895648\n",
       "Garage Finish_Unf        828.986748\n",
       "Garage Finish_Fin       1365.164090\n",
       "Garage Cond_N/A         1392.681037\n",
       "Garage Type_N/A         1392.681037\n",
       "Garage Finish_N/A       1392.681037\n",
       "Garage Qual_N/A         1392.681037\n",
       "Bsmt Full Bath          1631.897806\n",
       "Garage Type_BuiltIn     1692.110700\n",
       "Wood Deck SF            1800.461414\n",
       "BsmtFin Type 2_Unf      1950.480874\n",
       "BsmtFin Type 1_GLQ      2523.540247\n",
       "Year Remod/Add          2813.879856\n",
       "Mas Vnr Area            2984.618148\n",
       "TotRms AbvGrd           3087.994367\n",
       "Fireplaces              3328.397040\n",
       "TotalBath               3457.978760\n",
       "Screen Porch            4557.801309\n",
       "Garage Qual_Gd          4710.248190\n",
       "Bsmt Exposure_Gd        4970.825470\n",
       "Garage Area             5037.131456\n",
       "Overall Cond            5130.717942\n",
       "Year Built              7224.580710\n",
       "Garage Cars             8771.353120\n",
       "Gr Liv Area            11083.851777\n",
       "Kitchen Qual_Ex        12739.022930\n",
       "TotalLivingSF          15630.248838\n",
       "Overall Qual           23791.135679"
      ]
     },
     "execution_count": 77,
     "metadata": {},
     "output_type": "execute_result"
    }
   ],
   "source": [
    "pd.DataFrame({\n",
    "    'var': X.columns,\n",
    "    'coef val': lr.coef_\n",
    "}).set_index('var').sort_values('coef val')"
   ]
  },
  {
   "cell_type": "markdown",
   "metadata": {},
   "source": [
    "**Coefficient Interpretations**\n",
    "\n",
    "Holding all else constant:\n",
    "\n",
    "Bumping up the Kitchen quality of a home increases it's value approximately $12,739.\n",
    "\n",
    "Adding an above ground addition can increase the home value of $11,083.\n",
    "\n",
    "Adding an additional bedroom above ground will increase the value of the home $6,544 (3087+3457)"
   ]
  },
  {
   "cell_type": "code",
   "execution_count": 64,
   "metadata": {},
   "outputs": [
    {
     "data": {
      "text/plain": [
       "98433.5613111722"
      ]
     },
     "execution_count": 64,
     "metadata": {},
     "output_type": "execute_result"
    }
   ],
   "source": [
    "sum(lr.coef_)"
   ]
  },
  {
   "cell_type": "markdown",
   "metadata": {},
   "source": [
    "**LASSO Regression**"
   ]
  },
  {
   "cell_type": "code",
   "execution_count": 65,
   "metadata": {},
   "outputs": [],
   "source": [
    "from sklearn.linear_model import Lasso, LassoCV"
   ]
  },
  {
   "cell_type": "code",
   "execution_count": 66,
   "metadata": {},
   "outputs": [
    {
     "data": {
      "text/plain": [
       "(0.8506604942948295, 0.8780077036791422)"
      ]
     },
     "execution_count": 66,
     "metadata": {},
     "output_type": "execute_result"
    }
   ],
   "source": [
    "lasso = Lasso(alpha=282) \n",
    "lasso.fit(Xs_train, y_train)\n",
    "lasso.score(Xs_train, y_train), lasso.score(X_test, y_test)\n",
    "\n",
    "(0.8506604942948295, 0.8780077036791422)"
   ]
  },
  {
   "cell_type": "code",
   "execution_count": 68,
   "metadata": {},
   "outputs": [
    {
     "data": {
      "text/plain": [
       "array(['PID', 'MS SubClass', 'Overall Qual', 'Overall Cond', 'Year Built',\n",
       "       'Year Remod/Add', 'Mas Vnr Area', 'Gr Liv Area', 'Bsmt Full Bath',\n",
       "       'Bsmt Half Bath', 'Kitchen AbvGr', 'TotRms AbvGrd', 'Fireplaces',\n",
       "       'Garage Cars', 'Garage Area', 'Wood Deck SF', 'Screen Porch',\n",
       "       'TotalLivingSF', 'TotalBath', 'Kitchen Qual_Ex', 'Kitchen Qual_TA',\n",
       "       'BsmtFin Type 2_Unf', 'BsmtFin Type 1_GLQ', 'BsmtFin Type 1_Unf',\n",
       "       'Bsmt Exposure_Gd', 'Bsmt Exposure_No', 'Garage Type_BuiltIn',\n",
       "       'Garage Type_CarPort', 'Garage Type_Detchd', 'Garage Type_N/A',\n",
       "       'Garage Finish_Fin', 'Garage Finish_N/A', 'Garage Qual_Gd',\n",
       "       'Garage Qual_N/A', 'Garage Cond_N/A'], dtype=object)"
      ]
     },
     "execution_count": 68,
     "metadata": {},
     "output_type": "execute_result"
    }
   ],
   "source": [
    "coef_df = pd.DataFrame({\n",
    "    'var': X.columns,\n",
    "    'coef val': lasso.coef_\n",
    "})\n",
    "coef_df[coef_df['coef val'] != 0]['var'].values"
   ]
  },
  {
   "cell_type": "code",
   "execution_count": 69,
   "metadata": {},
   "outputs": [
    {
     "data": {
      "text/plain": [
       "(0.8462320708282816, 0.8776571267080878)"
      ]
     },
     "execution_count": 69,
     "metadata": {},
     "output_type": "execute_result"
    }
   ],
   "source": [
    "lcv = LassoCV()\n",
    "lcv.fit(Xs_train, y_train)\n",
    "lcv.score(Xs_train, y_train), lcv.score(X_test, y_test)"
   ]
  },
  {
   "cell_type": "code",
   "execution_count": 70,
   "metadata": {},
   "outputs": [
    {
     "data": {
      "text/plain": [
       "282.5643759965872"
      ]
     },
     "execution_count": 70,
     "metadata": {},
     "output_type": "execute_result"
    }
   ],
   "source": [
    "lcv.alpha_"
   ]
  },
  {
   "cell_type": "markdown",
   "metadata": {},
   "source": [
    "**Make Predictions**"
   ]
  },
  {
   "cell_type": "code",
   "execution_count": 71,
   "metadata": {},
   "outputs": [],
   "source": [
    "pred = lr.predict(X_test)"
   ]
  },
  {
   "cell_type": "markdown",
   "metadata": {},
   "source": [
    "**Inferential Visualizations**"
   ]
  },
  {
   "cell_type": "code",
   "execution_count": 72,
   "metadata": {},
   "outputs": [
    {
     "data": {
      "text/plain": [
       "911      14181.208021\n",
       "1724    -39630.165456\n",
       "423      19032.593188\n",
       "1112     10630.460629\n",
       "1135    -43688.572407\n",
       "1027     13701.660093\n",
       "1984     45642.360784\n",
       "2025      4190.360566\n",
       "789        229.282881\n",
       "1633    -21492.040659\n",
       "460      16224.846249\n",
       "497      -1821.600248\n",
       "2038     -6427.461113\n",
       "1471    -20952.933276\n",
       "1533      3583.285019\n",
       "1218    -10370.482289\n",
       "127      -2961.345524\n",
       "841      26443.216583\n",
       "1632    -31971.047919\n",
       "1364     -9253.648570\n",
       "403      14539.333297\n",
       "1564    -16268.477439\n",
       "527      15525.795725\n",
       "1277     32040.700423\n",
       "358       7011.239062\n",
       "1483    -10805.848597\n",
       "313      30009.843710\n",
       "545       5431.718054\n",
       "885       9597.766724\n",
       "1215      7335.608053\n",
       "539     -23051.735706\n",
       "1057    -11032.834606\n",
       "1324     27621.955831\n",
       "2003     11328.527151\n",
       "1970     63087.801588\n",
       "1589      8295.252568\n",
       "71       24890.770085\n",
       "1679    -17231.327706\n",
       "1710    -11893.105515\n",
       "543      27013.123691\n",
       "970      15063.631925\n",
       "777     -10003.560607\n",
       "1259    -35287.079168\n",
       "1432      9230.069715\n",
       "491      15878.339303\n",
       "1574    -25822.720920\n",
       "315      48898.290272\n",
       "131       4780.960565\n",
       "66        -421.158349\n",
       "113     -21440.594293\n",
       "1064     12744.982536\n",
       "57       11048.166425\n",
       "692      34355.614805\n",
       "1159     -9002.542657\n",
       "278      -1618.923190\n",
       "1733      -386.638520\n",
       "1309    -30595.236269\n",
       "1569    -13499.203903\n",
       "608      -4946.570574\n",
       "314        704.663768\n",
       "1210    -45155.018772\n",
       "30       -1192.064582\n",
       "352      11753.299445\n",
       "1313      2469.722689\n",
       "1737     -5258.507474\n",
       "289     -32261.666465\n",
       "735     -15607.950313\n",
       "822      14291.093869\n",
       "1434      7695.410270\n",
       "1830     10205.567398\n",
       "375      18031.003015\n",
       "1035     73151.859151\n",
       "965       4596.184769\n",
       "1282      1475.921764\n",
       "101      -6275.510542\n",
       "350     -10310.306565\n",
       "70       63860.856309\n",
       "1745     -7054.716840\n",
       "1420    -19707.097359\n",
       "869      12248.699295\n",
       "1405      3905.802425\n",
       "236     -29528.303084\n",
       "369     -26055.570003\n",
       "1323      9522.683075\n",
       "597     -14040.995522\n",
       "1080     -1423.812989\n",
       "1856    -11670.760144\n",
       "1698     11302.608467\n",
       "1515    -95724.100417\n",
       "1083     -4762.083087\n",
       "1311     -6267.851967\n",
       "374     -22834.443301\n",
       "1960       986.190615\n",
       "1641    -30479.475640\n",
       "1980    -23764.001195\n",
       "568     -29122.297006\n",
       "1839     18289.572099\n",
       "443       6327.154492\n",
       "264      -6903.752587\n",
       "1578    -19189.115582\n",
       "1911    -39783.767857\n",
       "494     -25758.547000\n",
       "259       3445.757276\n",
       "606      16911.306641\n",
       "637      30156.402162\n",
       "1423    -37902.884305\n",
       "1719     20325.338486\n",
       "565     -55869.368735\n",
       "243      17856.328690\n",
       "436      13197.176970\n",
       "1786     21842.284361\n",
       "1994     31711.600767\n",
       "910     -13449.676483\n",
       "1221    -10716.251807\n",
       "1824     46137.565757\n",
       "1474    -23937.575757\n",
       "1555    -42248.689671\n",
       "1373    -43496.240875\n",
       "1362    -13181.116033\n",
       "1896     15117.948647\n",
       "1196    -10113.137949\n",
       "217      12526.855784\n",
       "1621    -36904.801888\n",
       "2044       263.548051\n",
       "1012      4106.198245\n",
       "1073    -11778.678862\n",
       "392     -43946.252608\n",
       "976      36795.653714\n",
       "1059    -28799.350287\n",
       "1517     -5251.452938\n",
       "474      52414.208214\n",
       "1478    -20283.791853\n",
       "727       5140.357251\n",
       "1715    -14936.005437\n",
       "496       3063.787653\n",
       "1179    -21049.949733\n",
       "1227     70313.558903\n",
       "306      35730.748917\n",
       "439     -14198.651340\n",
       "1712    -15473.647194\n",
       "2013     -7459.951902\n",
       "1534     13187.500386\n",
       "540     -18634.127298\n",
       "1866    -42581.353446\n",
       "1346    -42797.402404\n",
       "1664     -9624.974124\n",
       "123       4422.323152\n",
       "1386       192.134477\n",
       "1650     -8632.118487\n",
       "629      31311.707172\n",
       "948     -47059.865952\n",
       "596      84192.562607\n",
       "138     126130.573184\n",
       "1473    -18957.478087\n",
       "361      36363.776884\n",
       "798       -486.612646\n",
       "429     -21747.819287\n",
       "245      22823.067477\n",
       "1312     18997.392328\n",
       "111      14420.972367\n",
       "431      -1994.359067\n",
       "1014    -14674.766055\n",
       "238     -22340.882711\n",
       "842      10486.339770\n",
       "332      12540.409677\n",
       "1865      2725.218652\n",
       "992     -18944.519716\n",
       "787     -39527.606012\n",
       "1273    -46644.339781\n",
       "1260     36615.135078\n",
       "2028    -15169.469642\n",
       "786      80721.257740\n",
       "216        282.761470\n",
       "376       4416.457962\n",
       "697      17038.083435\n",
       "1652     -7597.063018\n",
       "561     -45146.222923\n",
       "425     -17200.042537\n",
       "796      -4629.292211\n",
       "1756    -14490.833717\n",
       "1052     58294.303793\n",
       "1385      3081.602553\n",
       "2041     20819.607106\n",
       "903       2994.295807\n",
       "1151      1782.654161\n",
       "324       3293.815928\n",
       "893     -18252.508310\n",
       "1402      -937.022890\n",
       "1395    -12740.086005\n",
       "50        1544.023344\n",
       "1214     -1766.923301\n",
       "1553      8074.651551\n",
       "1721    -41693.404748\n",
       "1262     14886.981404\n",
       "897       7095.855868\n",
       "1138     16057.025235\n",
       "391     -12161.770334\n",
       "262      19090.580928\n",
       "1047    -28134.416216\n",
       "420      -5005.361644\n",
       "254     -17150.370084\n",
       "215     -20810.964699\n",
       "732      19151.046973\n",
       "1146     12008.438078\n",
       "24       29749.246536\n",
       "362      16401.714607\n",
       "64       27985.530632\n",
       "1429     -6184.832416\n",
       "193     -28324.278216\n",
       "1271      2373.169047\n",
       "1585    -12232.618137\n",
       "1169     10216.731351\n",
       "359      24842.048394\n",
       "1844     32414.214711\n",
       "1894     -3718.510424\n",
       "587      18770.977632\n",
       "201     -50761.688184\n",
       "472      11656.187330\n",
       "1155      7177.572188\n",
       "1036     51104.745835\n",
       "826      17205.654175\n",
       "1430      7398.754241\n",
       "102     -22116.892623\n",
       "1700     93243.398104\n",
       "1699    -17081.789640\n",
       "1987     -2951.672458\n",
       "225     -19706.319447\n",
       "1545      9986.213298\n",
       "1467    -12641.450047\n",
       "2029     54185.519295\n",
       "1618     20229.923924\n",
       "1084     11690.211598\n",
       "964      -2684.663022\n",
       "1688     -8947.376245\n",
       "816       8569.308648\n",
       "1264    -11735.136815\n",
       "1013      8543.124066\n",
       "1351    -13774.660077\n",
       "611     -15235.613285\n",
       "935       2169.170736\n",
       "118       -631.177407\n",
       "634       5674.660330\n",
       "858      14170.006295\n",
       "1608    -41214.133016\n",
       "669     -17289.731463\n",
       "873      -5899.783494\n",
       "1105     -4056.799777\n",
       "1355     -7158.375192\n",
       "614      13792.933079\n",
       "1983    -25299.659302\n",
       "1145     11301.225121\n",
       "507     -11891.398327\n",
       "1811     11790.485086\n",
       "860       9173.033546\n",
       "177      33686.268850\n",
       "360      -5106.723340\n",
       "1016    -23639.668005\n",
       "1299    -18351.122517\n",
       "79        -690.567884\n",
       "1528     12730.813402\n",
       "33      -11705.670421\n",
       "975      13267.439026\n",
       "594      11524.295816\n",
       "382     -35403.137939\n",
       "928      25689.564139\n",
       "167      -3413.998990\n",
       "208      21809.360466\n",
       "1772    -14897.226885\n",
       "283       6336.083695\n",
       "1667      7404.524347\n",
       "811     -20139.569066\n",
       "2016     -8335.711031\n",
       "448       -908.788702\n",
       "305       2793.932471\n",
       "297      -9361.761664\n",
       "1915    -21007.984372\n",
       "223      38840.262722\n",
       "1979    -12371.475221\n",
       "1990    -23781.270302\n",
       "1858      5535.275646\n",
       "1872    -11795.533893\n",
       "724      16267.051031\n",
       "60        7525.973721\n",
       "1976     24663.299701\n",
       "968      -2648.877768\n",
       "74       -6015.956769\n",
       "166      -8206.584900\n",
       "779      -9214.007430\n",
       "532     -27560.909446\n",
       "951     -51748.075166\n",
       "1958      8005.796944\n",
       "699     -75702.080427\n",
       "1554       490.262733\n",
       "46      -17468.558513\n",
       "1783      5972.852357\n",
       "1642      4207.848530\n",
       "1063     -4366.609664\n",
       "556      22029.617064\n",
       "77       13634.819526\n",
       "1965    -59031.061575\n",
       "1818    -19891.903375\n",
       "1522     25219.422881\n",
       "1107      4822.678926\n",
       "1328    -11341.605035\n",
       "1349    -16910.566556\n",
       "1310     14874.481013\n",
       "31       49858.352532\n",
       "1239    -23973.492004\n",
       "1116     -9728.168106\n",
       "1596      9173.624258\n",
       "1372     17962.393981\n",
       "764     -18275.978556\n",
       "1805     23527.234349\n",
       "1591     -2458.643654\n",
       "1609     -8914.361984\n",
       "1279    -11530.958369\n",
       "1615     12388.214551\n",
       "45       52784.855900\n",
       "1580     -2432.092587\n",
       "172      18099.947353\n",
       "311       1868.423751\n",
       "958     -32600.946943\n",
       "1419     -5967.355872\n",
       "1973    -16658.020975\n",
       "698     -74890.431905\n",
       "765     -11371.748280\n",
       "1284     -8659.435276\n",
       "668      30599.636871\n",
       "1192    -62601.688691\n",
       "648       -977.373413\n",
       "463     156294.714657\n",
       "1808    -11354.440093\n",
       "1891      5673.264587\n",
       "1579    -11736.728621\n",
       "190      50391.367234\n",
       "1524    -14917.315467\n",
       "548       9653.358901\n",
       "1237    -46900.185367\n",
       "1968      7043.497432\n",
       "630      30020.781875\n",
       "725      -5200.398684\n",
       "1268      4544.382683\n",
       "1643     25700.976875\n",
       "1308    -10447.612503\n",
       "1981      1968.297006\n",
       "1403      -688.262597\n",
       "1358     -5592.968990\n",
       "179     -11402.715926\n",
       "489     102933.369678\n",
       "2000      6173.154579\n",
       "1672     -7368.703641\n",
       "126     -31744.366763\n",
       "751       4733.934773\n",
       "402       3904.417490\n",
       "1505       362.086274\n",
       "1512      1639.839124\n",
       "688      -2601.867163\n",
       "585      -5224.306125\n",
       "339       8339.728325\n",
       "1224    -24523.753720\n",
       "199     -20542.079098\n",
       "672       4299.305960\n",
       "1034      7695.810928\n",
       "1759     47062.176003\n",
       "330       7864.977156\n",
       "1230     -8861.249515\n",
       "274      -1486.679826\n",
       "520      13815.462651\n",
       "1470     31418.880295\n",
       "68       19400.526442\n",
       "971       9737.422272\n",
       "547      18693.779712\n",
       "1880     15674.662265\n",
       "1879    -16075.208273\n",
       "481     -19336.805440\n",
       "1450     14439.028298\n",
       "1205     -5518.202692\n",
       "1166      4017.433793\n",
       "905      14423.352515\n",
       "805      -7950.438856\n",
       "1677    -13367.834140\n",
       "712       3508.081744\n",
       "812     -41319.214786\n",
       "1479      6282.968357\n",
       "795     -31476.235577\n",
       "636     -16872.894769\n",
       "1572    -25536.522342\n",
       "1622    -26006.028121\n",
       "1704      5486.919092\n",
       "551        409.186619\n",
       "1651    -23714.306433\n",
       "1658      7748.716727\n",
       "1597     -1189.543270\n",
       "1807      4460.257154\n",
       "932      -9920.810728\n",
       "269      -2427.155021\n",
       "1449    -12364.973966\n",
       "1592    150108.203438\n",
       "246     -11966.735828\n",
       "833      -3990.554355\n",
       "1325    -11980.991000\n",
       "1499     22765.899952\n",
       "2009      4503.319368\n",
       "1122    -72670.635240\n",
       "373     -11530.482866\n",
       "1705     26686.992720\n",
       "1291     18416.720377\n",
       "599      -6969.395624\n",
       "1357    -25949.666071\n",
       "506       1242.621471\n",
       "591      16139.563500\n",
       "72       -4989.062300\n",
       "655      -2687.926145\n",
       "267      17710.254919\n",
       "52      -46187.191809\n",
       "203        185.347758\n",
       "881     -47917.959764\n",
       "1988    -45545.800854\n",
       "340      21037.125202\n",
       "1397      4313.458568\n",
       "1637      9688.876627\n",
       "442      15587.291648\n",
       "1139      7294.584175\n",
       "1946    -45925.362155\n",
       "993     -60144.448955\n",
       "898      23903.053283\n",
       "1692    144322.347941\n",
       "435     -17552.523896\n",
       "574      14093.634578\n",
       "989      89105.044314\n",
       "1693     26431.122621\n",
       "1001    -32482.352511\n",
       "2027      2841.840225\n",
       "1368     19209.905332\n",
       "1932     20214.930858\n",
       "407      19588.185010\n",
       "1600     21340.259583\n",
       "446      -5119.917613\n",
       "197     -27792.656237\n",
       "1475     15457.492680\n",
       "626     -16392.087737\n",
       "1962      -524.654952\n",
       "633      44636.481192\n",
       "1671    203524.290934\n",
       "778      39624.798595\n",
       "557       -175.659461\n",
       "144      13627.005055\n",
       "1212    -29998.655285\n",
       "2       -33127.689582\n",
       "1347     30465.470240\n",
       "1917    -12313.384132\n",
       "1332     -5474.307509\n",
       "347       1315.740772\n",
       "646     -58435.862115\n",
       "1922     18803.049295\n",
       "490      -1245.953118\n",
       "273     -19334.763218\n",
       "384      -1329.093513\n",
       "967     -20775.226455\n",
       "1742    -26955.432991\n",
       "449     -15732.064941\n",
       "279      -7909.367797\n",
       "189      24557.368811\n",
       "959       4252.166879\n",
       "251      13456.887375\n",
       "1042      2249.923707\n",
       "1053     15936.733524\n",
       "1725      1978.766561\n",
       "836     -32113.426186\n",
       "1436     34109.255246\n",
       "930      -1804.583315\n",
       "603      -8600.899251\n",
       "1217     41428.519093\n",
       "424      23883.897690\n",
       "281      43842.989844\n",
       "748     -32602.991717\n",
       "1809     33522.708285\n",
       "1495     15707.641805\n",
       "258      37842.296305\n",
       "422      -3023.771779\n",
       "809     -10730.099536\n",
       "1343    -22246.343981\n",
       "600       7854.213336\n",
       "318     -55027.147704\n",
       "582      11372.170632\n",
       "389      -9907.792252\n",
       "991     -15977.718633\n",
       "434      11415.946322\n",
       "542      39819.178744\n",
       "1213     18898.693385\n",
       "1463     -3336.468121\n",
       "1394    -22573.775554\n",
       "417      -4520.553314\n",
       "1657    -12907.867187\n",
       "913      -6562.029824\n",
       "969      -8316.016705\n",
       "1893     -4957.326071\n",
       "862     -20717.209471\n",
       "Name: SalePrice, dtype: float64"
      ]
     },
     "execution_count": 72,
     "metadata": {},
     "output_type": "execute_result"
    }
   ],
   "source": [
    "residuals = y_test - pred\n",
    "residuals"
   ]
  },
  {
   "cell_type": "code",
   "execution_count": 73,
   "metadata": {},
   "outputs": [
    {
     "data": {
      "text/plain": [
       "<matplotlib.lines.Line2D at 0x7fbeddbb8150>"
      ]
     },
     "execution_count": 73,
     "metadata": {},
     "output_type": "execute_result"
    },
    {
     "data": {
      "image/png": "[encoded data removed]",
      "text/plain": [
       "<Figure size 432x288 with 1 Axes>"
      ]
     },
     "metadata": {
      "needs_background": "light"
     },
     "output_type": "display_data"
    }
   ],
   "source": [
    "residuals.hist()\n",
    "plt.axvline(0, color='r')"
   ]
  },
  {
   "cell_type": "code",
   "execution_count": 74,
   "metadata": {},
   "outputs": [
    {
     "data": {
      "text/plain": [
       "<matplotlib.collections.PathCollection at 0x7fbedfac0410>"
      ]
     },
     "execution_count": 74,
     "metadata": {},
     "output_type": "execute_result"
    },
    {
     "data": {
      "image/png": "[encoded data removed]",
      "text/plain": [
       "<Figure size 432x288 with 1 Axes>"
      ]
     },
     "metadata": {
      "needs_background": "light"
     },
     "output_type": "display_data"
    }
   ],
   "source": [
    "plt.scatter(pred, residuals)"
   ]
  },
  {
   "cell_type": "code",
   "execution_count": 75,
   "metadata": {},
   "outputs": [
    {
     "data": {
      "text/plain": [
       "<matplotlib.axes._subplots.AxesSubplot at 0x7fbedfa614d0>"
      ]
     },
     "execution_count": 75,
     "metadata": {},
     "output_type": "execute_result"
    },
    {
     "data": {
      "image/png": "[encoded data removed]",
      "text/plain": [
       "<Figure size 432x288 with 1 Axes>"
      ]
     },
     "metadata": {
      "needs_background": "light"
     },
     "output_type": "display_data"
    }
   ],
   "source": [
    "y_test.hist()"
   ]
  },
  {
   "cell_type": "code",
   "execution_count": 76,
   "metadata": {},
   "outputs": [
    {
     "data": {
      "text/plain": [
       "<matplotlib.axes._subplots.AxesSubplot at 0x7fbedd9f67d0>"
      ]
     },
     "execution_count": 76,
     "metadata": {},
     "output_type": "execute_result"
    },
    {
     "data": {
      "image/png": "[encoded data removed]",
      "text/plain": [
       "<Figure size 432x288 with 1 Axes>"
      ]
     },
     "metadata": {
      "needs_background": "light"
     },
     "output_type": "display_data"
    }
   ],
   "source": [
    "y_test.map(np.log).hist()"
   ]
  },
  {
   "cell_type": "markdown",
   "metadata": {},
   "source": [
    "**Risiduals:**\n",
    "Look pretty symetrical with a positive skew so model is consistantly underguessing.\n",
    "We dont have the same variance from left to right so there is Heteroskadasticity. \n",
    "\n",
    "As we dont have a normal distribution of our residuals along with heteroskadasticity, I could improve score with Logging Sales Price. (However I dont have the knowledge yet to do so and interpret results)."
   ]
  },
  {
   "cell_type": "markdown",
   "metadata": {},
   "source": [
    "# Buisness Reccomendations"
   ]
  },
  {
   "cell_type": "markdown",
   "metadata": {},
   "source": [
    "My reccomendation to TCB General Contractors would be to focus their new marketing campain around Kitchen Renovation, above ground additions, and Garage Addition as they generally add the most value to a home. I would not focus on the addition of a wood deck or basement refinishing as the cost of the deck will be more to the homeowner than the value added to their home.\n",
    "\n",
    "Kitchen Renovation +$12,739\n",
    "\n",
    "Above Ground Additions +$11,083\n",
    "\n",
    "Garage Addition +$8,771/car\n",
    "\n",
    "Given similar data I do think this model will generalize to other cities. "
   ]
  }
 ],
 "metadata": {
  "kernelspec": {
   "display_name": "Python 3",
   "language": "python",
   "name": "python3"
  },
  "language_info": {
   "codemirror_mode": {
    "name": "ipython",
    "version": 3
   },
   "file_extension": ".py",
   "mimetype": "text/x-python",
   "name": "python",
   "nbconvert_exporter": "python",
   "pygments_lexer": "ipython3",
   "version": "3.8.3"
  }
 },
 "nbformat": 4,
 "nbformat_minor": 4
}
