{
 "cells": [
  {
   "cell_type": "markdown",
   "metadata": {},
   "source": [
    "# Problem Statement"
   ]
  },
  {
   "cell_type": "markdown",
   "metadata": {},
   "source": [
    "The Board of Directors at TCB General Contractors are implementing a new marketing strategy to increase the company's revenue. To implement this new strategy, they want to discover which of their services are most impactful on increasing the value of the home. This information will be used to promote specific additions and renovations in the upcoming marketing plan."
   ]
  },
  {
   "cell_type": "markdown",
   "metadata": {},
   "source": [
    "My task is to discover which home services most dramatically effect the sales price.\n",
    "\n",
    "As the output of my project will be the numeric 'Sale Price', I will use linear regression and multiple linear regression modeling algorithm to evaluate the data given to me.\n",
    "\n",
    "The success of my modeles will be evaluated by the regression metric 𝑅2. I will use R2 as it is easily interpratable and does not depend on the scale of \"Sales Price\"."
   ]
  },
  {
   "cell_type": "markdown",
   "metadata": {},
   "source": [
    " "
   ]
  },
  {
   "cell_type": "code",
   "execution_count": 1,
   "metadata": {},
   "outputs": [],
   "source": [
    "import pandas as pd\n",
    "import numpy as np\n",
    "import matplotlib.pyplot as plt\n",
    "import seaborn as sns\n",
    "%matplotlib inline\n",
    "\n",
    "from sklearn.linear_model import LinearRegression\n",
    "from sklearn.model_selection import train_test_split, cross_val_score\n",
    "from sklearn.metrics import r2_score, mean_squared_error\n",
    "from sklearn.preprocessing import PolynomialFeatures, StandardScaler\n",
    "\n",
    "pd.options.display.max_columns = 100\n",
    "pd.options.display.max_rows = 3000\n",
    "\n",
    "#https://towardsdatascience.com/a-feature-selection-tool-for-machine-learning-in-python-b64dd23710f0#:~:text=Collinear%20features%20are%20features%20that,variance%20and%20less%20model%20interpretability."
   ]
  },
  {
   "cell_type": "code",
   "execution_count": 2,
   "metadata": {},
   "outputs": [],
   "source": [
    "train = pd.read_csv('/Users/taracelesta/DSI/projects/project_2/datasets/train.csv')\n",
    "test = pd.read_csv('/Users/taracelesta/DSI/projects/project_2/datasets/test.csv')"
   ]
  },
  {
   "cell_type": "markdown",
   "metadata": {},
   "source": [
    "# Data Cleaning & Exploring"
   ]
  },
  {
   "cell_type": "code",
   "execution_count": 3,
   "metadata": {},
   "outputs": [
    {
     "data": {
      "text/plain": [
       "((2051, 81), (878, 80))"
      ]
     },
     "execution_count": 3,
     "metadata": {},
     "output_type": "execute_result"
    }
   ],
   "source": [
    "train.shape, test.shape"
   ]
  },
  {
   "cell_type": "code",
   "execution_count": 4,
   "metadata": {},
   "outputs": [
    {
     "data": {
      "text/html": [
       "<div>\n",
       "<style scoped>\n",
       "    .dataframe tbody tr th:only-of-type {\n",
       "        vertical-align: middle;\n",
       "    }\n",
       "\n",
       "    .dataframe tbody tr th {\n",
       "        vertical-align: top;\n",
       "    }\n",
       "\n",
       "    .dataframe thead th {\n",
       "        text-align: right;\n",
       "    }\n",
       "</style>\n",
       "<table border=\"1\" class=\"dataframe\">\n",
       "  <thead>\n",
       "    <tr style=\"text-align: right;\">\n",
       "      <th></th>\n",
       "      <th>Id</th>\n",
       "      <th>PID</th>\n",
       "      <th>MS SubClass</th>\n",
       "      <th>MS Zoning</th>\n",
       "      <th>Lot Frontage</th>\n",
       "      <th>Lot Area</th>\n",
       "      <th>Street</th>\n",
       "      <th>Alley</th>\n",
       "      <th>Lot Shape</th>\n",
       "      <th>Land Contour</th>\n",
       "      <th>Utilities</th>\n",
       "      <th>Lot Config</th>\n",
       "      <th>Land Slope</th>\n",
       "      <th>Neighborhood</th>\n",
       "      <th>Condition 1</th>\n",
       "      <th>Condition 2</th>\n",
       "      <th>Bldg Type</th>\n",
       "      <th>House Style</th>\n",
       "      <th>Overall Qual</th>\n",
       "      <th>Overall Cond</th>\n",
       "      <th>Year Built</th>\n",
       "      <th>Year Remod/Add</th>\n",
       "      <th>Roof Style</th>\n",
       "      <th>Roof Matl</th>\n",
       "      <th>Exterior 1st</th>\n",
       "      <th>Exterior 2nd</th>\n",
       "      <th>Mas Vnr Type</th>\n",
       "      <th>Mas Vnr Area</th>\n",
       "      <th>Exter Qual</th>\n",
       "      <th>Exter Cond</th>\n",
       "      <th>Foundation</th>\n",
       "      <th>Bsmt Qual</th>\n",
       "      <th>Bsmt Cond</th>\n",
       "      <th>Bsmt Exposure</th>\n",
       "      <th>BsmtFin Type 1</th>\n",
       "      <th>BsmtFin SF 1</th>\n",
       "      <th>BsmtFin Type 2</th>\n",
       "      <th>BsmtFin SF 2</th>\n",
       "      <th>Bsmt Unf SF</th>\n",
       "      <th>Total Bsmt SF</th>\n",
       "      <th>Heating</th>\n",
       "      <th>Heating QC</th>\n",
       "      <th>Central Air</th>\n",
       "      <th>Electrical</th>\n",
       "      <th>1st Flr SF</th>\n",
       "      <th>2nd Flr SF</th>\n",
       "      <th>Low Qual Fin SF</th>\n",
       "      <th>Gr Liv Area</th>\n",
       "      <th>Bsmt Full Bath</th>\n",
       "      <th>Bsmt Half Bath</th>\n",
       "      <th>Full Bath</th>\n",
       "      <th>Half Bath</th>\n",
       "      <th>Bedroom AbvGr</th>\n",
       "      <th>Kitchen AbvGr</th>\n",
       "      <th>Kitchen Qual</th>\n",
       "      <th>TotRms AbvGrd</th>\n",
       "      <th>Functional</th>\n",
       "      <th>Fireplaces</th>\n",
       "      <th>Fireplace Qu</th>\n",
       "      <th>Garage Type</th>\n",
       "      <th>Garage Yr Blt</th>\n",
       "      <th>Garage Finish</th>\n",
       "      <th>Garage Cars</th>\n",
       "      <th>Garage Area</th>\n",
       "      <th>Garage Qual</th>\n",
       "      <th>Garage Cond</th>\n",
       "      <th>Paved Drive</th>\n",
       "      <th>Wood Deck SF</th>\n",
       "      <th>Open Porch SF</th>\n",
       "      <th>Enclosed Porch</th>\n",
       "      <th>3Ssn Porch</th>\n",
       "      <th>Screen Porch</th>\n",
       "      <th>Pool Area</th>\n",
       "      <th>Pool QC</th>\n",
       "      <th>Fence</th>\n",
       "      <th>Misc Feature</th>\n",
       "      <th>Misc Val</th>\n",
       "      <th>Mo Sold</th>\n",
       "      <th>Yr Sold</th>\n",
       "      <th>Sale Type</th>\n",
       "      <th>SalePrice</th>\n",
       "    </tr>\n",
       "  </thead>\n",
       "  <tbody>\n",
       "    <tr>\n",
       "      <th>0</th>\n",
       "      <td>109</td>\n",
       "      <td>533352170</td>\n",
       "      <td>60</td>\n",
       "      <td>RL</td>\n",
       "      <td>NaN</td>\n",
       "      <td>13517</td>\n",
       "      <td>Pave</td>\n",
       "      <td>NaN</td>\n",
       "      <td>IR1</td>\n",
       "      <td>Lvl</td>\n",
       "      <td>AllPub</td>\n",
       "      <td>CulDSac</td>\n",
       "      <td>Gtl</td>\n",
       "      <td>Sawyer</td>\n",
       "      <td>RRAe</td>\n",
       "      <td>Norm</td>\n",
       "      <td>1Fam</td>\n",
       "      <td>2Story</td>\n",
       "      <td>6</td>\n",
       "      <td>8</td>\n",
       "      <td>1976</td>\n",
       "      <td>2005</td>\n",
       "      <td>Gable</td>\n",
       "      <td>CompShg</td>\n",
       "      <td>HdBoard</td>\n",
       "      <td>Plywood</td>\n",
       "      <td>BrkFace</td>\n",
       "      <td>289.0</td>\n",
       "      <td>Gd</td>\n",
       "      <td>TA</td>\n",
       "      <td>CBlock</td>\n",
       "      <td>TA</td>\n",
       "      <td>TA</td>\n",
       "      <td>No</td>\n",
       "      <td>GLQ</td>\n",
       "      <td>533.0</td>\n",
       "      <td>Unf</td>\n",
       "      <td>0.0</td>\n",
       "      <td>192.0</td>\n",
       "      <td>725.0</td>\n",
       "      <td>GasA</td>\n",
       "      <td>Ex</td>\n",
       "      <td>Y</td>\n",
       "      <td>SBrkr</td>\n",
       "      <td>725</td>\n",
       "      <td>754</td>\n",
       "      <td>0</td>\n",
       "      <td>1479</td>\n",
       "      <td>0.0</td>\n",
       "      <td>0.0</td>\n",
       "      <td>2</td>\n",
       "      <td>1</td>\n",
       "      <td>3</td>\n",
       "      <td>1</td>\n",
       "      <td>Gd</td>\n",
       "      <td>6</td>\n",
       "      <td>Typ</td>\n",
       "      <td>0</td>\n",
       "      <td>NaN</td>\n",
       "      <td>Attchd</td>\n",
       "      <td>1976.0</td>\n",
       "      <td>RFn</td>\n",
       "      <td>2.0</td>\n",
       "      <td>475.0</td>\n",
       "      <td>TA</td>\n",
       "      <td>TA</td>\n",
       "      <td>Y</td>\n",
       "      <td>0</td>\n",
       "      <td>44</td>\n",
       "      <td>0</td>\n",
       "      <td>0</td>\n",
       "      <td>0</td>\n",
       "      <td>0</td>\n",
       "      <td>NaN</td>\n",
       "      <td>NaN</td>\n",
       "      <td>NaN</td>\n",
       "      <td>0</td>\n",
       "      <td>3</td>\n",
       "      <td>2010</td>\n",
       "      <td>WD</td>\n",
       "      <td>130500</td>\n",
       "    </tr>\n",
       "    <tr>\n",
       "      <th>1</th>\n",
       "      <td>544</td>\n",
       "      <td>531379050</td>\n",
       "      <td>60</td>\n",
       "      <td>RL</td>\n",
       "      <td>43.0</td>\n",
       "      <td>11492</td>\n",
       "      <td>Pave</td>\n",
       "      <td>NaN</td>\n",
       "      <td>IR1</td>\n",
       "      <td>Lvl</td>\n",
       "      <td>AllPub</td>\n",
       "      <td>CulDSac</td>\n",
       "      <td>Gtl</td>\n",
       "      <td>SawyerW</td>\n",
       "      <td>Norm</td>\n",
       "      <td>Norm</td>\n",
       "      <td>1Fam</td>\n",
       "      <td>2Story</td>\n",
       "      <td>7</td>\n",
       "      <td>5</td>\n",
       "      <td>1996</td>\n",
       "      <td>1997</td>\n",
       "      <td>Gable</td>\n",
       "      <td>CompShg</td>\n",
       "      <td>VinylSd</td>\n",
       "      <td>VinylSd</td>\n",
       "      <td>BrkFace</td>\n",
       "      <td>132.0</td>\n",
       "      <td>Gd</td>\n",
       "      <td>TA</td>\n",
       "      <td>PConc</td>\n",
       "      <td>Gd</td>\n",
       "      <td>TA</td>\n",
       "      <td>No</td>\n",
       "      <td>GLQ</td>\n",
       "      <td>637.0</td>\n",
       "      <td>Unf</td>\n",
       "      <td>0.0</td>\n",
       "      <td>276.0</td>\n",
       "      <td>913.0</td>\n",
       "      <td>GasA</td>\n",
       "      <td>Ex</td>\n",
       "      <td>Y</td>\n",
       "      <td>SBrkr</td>\n",
       "      <td>913</td>\n",
       "      <td>1209</td>\n",
       "      <td>0</td>\n",
       "      <td>2122</td>\n",
       "      <td>1.0</td>\n",
       "      <td>0.0</td>\n",
       "      <td>2</td>\n",
       "      <td>1</td>\n",
       "      <td>4</td>\n",
       "      <td>1</td>\n",
       "      <td>Gd</td>\n",
       "      <td>8</td>\n",
       "      <td>Typ</td>\n",
       "      <td>1</td>\n",
       "      <td>TA</td>\n",
       "      <td>Attchd</td>\n",
       "      <td>1997.0</td>\n",
       "      <td>RFn</td>\n",
       "      <td>2.0</td>\n",
       "      <td>559.0</td>\n",
       "      <td>TA</td>\n",
       "      <td>TA</td>\n",
       "      <td>Y</td>\n",
       "      <td>0</td>\n",
       "      <td>74</td>\n",
       "      <td>0</td>\n",
       "      <td>0</td>\n",
       "      <td>0</td>\n",
       "      <td>0</td>\n",
       "      <td>NaN</td>\n",
       "      <td>NaN</td>\n",
       "      <td>NaN</td>\n",
       "      <td>0</td>\n",
       "      <td>4</td>\n",
       "      <td>2009</td>\n",
       "      <td>WD</td>\n",
       "      <td>220000</td>\n",
       "    </tr>\n",
       "  </tbody>\n",
       "</table>\n",
       "</div>"
      ],
      "text/plain": [
       "    Id        PID  MS SubClass MS Zoning  Lot Frontage  Lot Area Street Alley  \\\n",
       "0  109  533352170           60        RL           NaN     13517   Pave   NaN   \n",
       "1  544  531379050           60        RL          43.0     11492   Pave   NaN   \n",
       "\n",
       "  Lot Shape Land Contour Utilities Lot Config Land Slope Neighborhood  \\\n",
       "0       IR1          Lvl    AllPub    CulDSac        Gtl       Sawyer   \n",
       "1       IR1          Lvl    AllPub    CulDSac        Gtl      SawyerW   \n",
       "\n",
       "  Condition 1 Condition 2 Bldg Type House Style  Overall Qual  Overall Cond  \\\n",
       "0        RRAe        Norm      1Fam      2Story             6             8   \n",
       "1        Norm        Norm      1Fam      2Story             7             5   \n",
       "\n",
       "   Year Built  Year Remod/Add Roof Style Roof Matl Exterior 1st Exterior 2nd  \\\n",
       "0        1976            2005      Gable   CompShg      HdBoard      Plywood   \n",
       "1        1996            1997      Gable   CompShg      VinylSd      VinylSd   \n",
       "\n",
       "  Mas Vnr Type  Mas Vnr Area Exter Qual Exter Cond Foundation Bsmt Qual  \\\n",
       "0      BrkFace         289.0         Gd         TA     CBlock        TA   \n",
       "1      BrkFace         132.0         Gd         TA      PConc        Gd   \n",
       "\n",
       "  Bsmt Cond Bsmt Exposure BsmtFin Type 1  BsmtFin SF 1 BsmtFin Type 2  \\\n",
       "0        TA            No            GLQ         533.0            Unf   \n",
       "1        TA            No            GLQ         637.0            Unf   \n",
       "\n",
       "   BsmtFin SF 2  Bsmt Unf SF  Total Bsmt SF Heating Heating QC Central Air  \\\n",
       "0           0.0        192.0          725.0    GasA         Ex           Y   \n",
       "1           0.0        276.0          913.0    GasA         Ex           Y   \n",
       "\n",
       "  Electrical  1st Flr SF  2nd Flr SF  Low Qual Fin SF  Gr Liv Area  \\\n",
       "0      SBrkr         725         754                0         1479   \n",
       "1      SBrkr         913        1209                0         2122   \n",
       "\n",
       "   Bsmt Full Bath  Bsmt Half Bath  Full Bath  Half Bath  Bedroom AbvGr  \\\n",
       "0             0.0             0.0          2          1              3   \n",
       "1             1.0             0.0          2          1              4   \n",
       "\n",
       "   Kitchen AbvGr Kitchen Qual  TotRms AbvGrd Functional  Fireplaces  \\\n",
       "0              1           Gd              6        Typ           0   \n",
       "1              1           Gd              8        Typ           1   \n",
       "\n",
       "  Fireplace Qu Garage Type  Garage Yr Blt Garage Finish  Garage Cars  \\\n",
       "0          NaN      Attchd         1976.0           RFn          2.0   \n",
       "1           TA      Attchd         1997.0           RFn          2.0   \n",
       "\n",
       "   Garage Area Garage Qual Garage Cond Paved Drive  Wood Deck SF  \\\n",
       "0        475.0          TA          TA           Y             0   \n",
       "1        559.0          TA          TA           Y             0   \n",
       "\n",
       "   Open Porch SF  Enclosed Porch  3Ssn Porch  Screen Porch  Pool Area Pool QC  \\\n",
       "0             44               0           0             0          0     NaN   \n",
       "1             74               0           0             0          0     NaN   \n",
       "\n",
       "  Fence Misc Feature  Misc Val  Mo Sold  Yr Sold Sale Type  SalePrice  \n",
       "0   NaN          NaN         0        3     2010       WD      130500  \n",
       "1   NaN          NaN         0        4     2009       WD      220000  "
      ]
     },
     "execution_count": 4,
     "metadata": {},
     "output_type": "execute_result"
    }
   ],
   "source": [
    "train.head(2)"
   ]
  },
  {
   "cell_type": "markdown",
   "metadata": {},
   "source": [
    "**Checking Column Datatypes**"
   ]
  },
  {
   "cell_type": "markdown",
   "metadata": {},
   "source": [
    "**Discovering what each column represents**"
   ]
  },
  {
   "cell_type": "code",
   "execution_count": 5,
   "metadata": {},
   "outputs": [
    {
     "data": {
      "text/plain": [
       "Index(['Id', 'PID', 'MS SubClass', 'MS Zoning', 'Lot Frontage', 'Lot Area',\n",
       "       'Street', 'Alley', 'Lot Shape', 'Land Contour', 'Utilities',\n",
       "       'Lot Config', 'Land Slope', 'Neighborhood', 'Condition 1',\n",
       "       'Condition 2', 'Bldg Type', 'House Style', 'Overall Qual',\n",
       "       'Overall Cond', 'Year Built', 'Year Remod/Add', 'Roof Style',\n",
       "       'Roof Matl', 'Exterior 1st', 'Exterior 2nd', 'Mas Vnr Type',\n",
       "       'Mas Vnr Area', 'Exter Qual', 'Exter Cond', 'Foundation', 'Bsmt Qual',\n",
       "       'Bsmt Cond', 'Bsmt Exposure', 'BsmtFin Type 1', 'BsmtFin SF 1',\n",
       "       'BsmtFin Type 2', 'BsmtFin SF 2', 'Bsmt Unf SF', 'Total Bsmt SF',\n",
       "       'Heating', 'Heating QC', 'Central Air', 'Electrical', '1st Flr SF',\n",
       "       '2nd Flr SF', 'Low Qual Fin SF', 'Gr Liv Area', 'Bsmt Full Bath',\n",
       "       'Bsmt Half Bath', 'Full Bath', 'Half Bath', 'Bedroom AbvGr',\n",
       "       'Kitchen AbvGr', 'Kitchen Qual', 'TotRms AbvGrd', 'Functional',\n",
       "       'Fireplaces', 'Fireplace Qu', 'Garage Type', 'Garage Yr Blt',\n",
       "       'Garage Finish', 'Garage Cars', 'Garage Area', 'Garage Qual',\n",
       "       'Garage Cond', 'Paved Drive', 'Wood Deck SF', 'Open Porch SF',\n",
       "       'Enclosed Porch', '3Ssn Porch', 'Screen Porch', 'Pool Area', 'Pool QC',\n",
       "       'Fence', 'Misc Feature', 'Misc Val', 'Mo Sold', 'Yr Sold', 'Sale Type',\n",
       "       'SalePrice'],\n",
       "      dtype='object')"
      ]
     },
     "execution_count": 5,
     "metadata": {},
     "output_type": "execute_result"
    }
   ],
   "source": [
    "#\n",
    "train.columns"
   ]
  },
  {
   "cell_type": "markdown",
   "metadata": {},
   "source": [
    "**TCB General Contracting services that corrilate to the data:**\n",
    "\n",
    "- Complete home upgrade: 'Overall Cond', 'Overall Qual'\n",
    "\n",
    "- 2nd floor addition: '2nd Flr SF', 'Bedroom AbvGr', 'MS SubClass'(060),'House Style':(2Story)(2.5Fin), 'Gr Liv Area',  'TotRmsAbvGrd'\n",
    "\n",
    "- Basement Finish:'Bsmt Cond', 'Bsmt Exposure', 'BsmtFin Type 1', 'BsmtFin SF 1', 'BsmtFin Type 2', 'BsmtFin SF 2',\n",
    "\n",
    "- Kitchen Remodel:'Kitchen AbvGr', 'Kitchen Qual'\n",
    "\n",
    "- Bathroom Addition: 'Bsmt Full Bath', 'Bsmt Half Bath', 'Full Bath', 'Half Bath'\n",
    "\n",
    "- Garage Addition: 'Garage Type', 'Garage Yr Blt', 'Garage Finish', 'Garage Cars','Garage Area', 'Garage Qual', 'Garage Cond'\n",
    "\n",
    "- Deck Addition: 'Wood Deck SF', 'Open Porch SF', 'Enclosed Porch', '3Ssn Porch'"
   ]
  },
  {
   "cell_type": "markdown",
   "metadata": {},
   "source": [
    "**Dropping columns with less than 150 observations**"
   ]
  },
  {
   "cell_type": "code",
   "execution_count": 6,
   "metadata": {},
   "outputs": [],
   "source": [
    "test.drop(columns=['Alley', 'Pool QC', 'Misc Feature'], inplace=True)\n",
    "train.drop(columns=['Alley', 'Pool QC', 'Misc Feature'], inplace=True)"
   ]
  },
  {
   "cell_type": "markdown",
   "metadata": {},
   "source": [
    "**Dropping irrelevant columns**\n"
   ]
  },
  {
   "cell_type": "code",
   "execution_count": 7,
   "metadata": {},
   "outputs": [],
   "source": [
    "train.drop(columns=['MS Zoning','Lot Frontage','Lot Area','Street','Lot Shape','Land Contour', 'Utilities',\n",
    "                    'Lot Config', 'Land Slope', 'Neighborhood','Condition 1', 'Condition 2','Pool Area', \n",
    "                    'Mo Sold','Sale Type','Misc Val','Heating','Heating QC','Central Air','Electrical','Functional',\n",
    "                    'Foundation','Bldg Type','Bsmt Qual'], inplace=True)\n",
    "\n",
    "test.drop(columns=['MS Zoning','Lot Frontage','Lot Area','Street','Lot Shape','Land Contour', 'Utilities',\n",
    "                   'Lot Config', 'Land Slope', 'Neighborhood','Condition 1', 'Condition 2','Pool Area', \n",
    "                   'Mo Sold','Sale Type','Misc Val','Heating','Heating QC','Central Air','Electrical','Functional',\n",
    "                   'Foundation','Bldg Type','Bsmt Qual'], inplace=True)\n"
   ]
  },
  {
   "cell_type": "markdown",
   "metadata": {},
   "source": [
    "### Imputing null values"
   ]
  },
  {
   "cell_type": "code",
   "execution_count": 8,
   "metadata": {},
   "outputs": [
    {
     "data": {
      "text/plain": [
       "Id                    0\n",
       "PID                   0\n",
       "MS SubClass           0\n",
       "House Style           0\n",
       "Overall Qual          0\n",
       "Overall Cond          0\n",
       "Year Built            0\n",
       "Year Remod/Add        0\n",
       "Roof Style            0\n",
       "Roof Matl             0\n",
       "Exterior 1st          0\n",
       "Exterior 2nd          0\n",
       "Mas Vnr Type         22\n",
       "Mas Vnr Area         22\n",
       "Exter Qual            0\n",
       "Exter Cond            0\n",
       "Bsmt Cond            55\n",
       "Bsmt Exposure        58\n",
       "BsmtFin Type 1       55\n",
       "BsmtFin SF 1          1\n",
       "BsmtFin Type 2       56\n",
       "BsmtFin SF 2          1\n",
       "Bsmt Unf SF           1\n",
       "Total Bsmt SF         1\n",
       "1st Flr SF            0\n",
       "2nd Flr SF            0\n",
       "Low Qual Fin SF       0\n",
       "Gr Liv Area           0\n",
       "Bsmt Full Bath        2\n",
       "Bsmt Half Bath        2\n",
       "Full Bath             0\n",
       "Half Bath             0\n",
       "Bedroom AbvGr         0\n",
       "Kitchen AbvGr         0\n",
       "Kitchen Qual          0\n",
       "TotRms AbvGrd         0\n",
       "Fireplaces            0\n",
       "Fireplace Qu       1000\n",
       "Garage Type         113\n",
       "Garage Yr Blt       114\n",
       "Garage Finish       114\n",
       "Garage Cars           1\n",
       "Garage Area           1\n",
       "Garage Qual         114\n",
       "Garage Cond         114\n",
       "Paved Drive           0\n",
       "Wood Deck SF          0\n",
       "Open Porch SF         0\n",
       "Enclosed Porch        0\n",
       "3Ssn Porch            0\n",
       "Screen Porch          0\n",
       "Fence              1651\n",
       "Yr Sold               0\n",
       "SalePrice             0\n",
       "dtype: int64"
      ]
     },
     "execution_count": 8,
     "metadata": {},
     "output_type": "execute_result"
    }
   ],
   "source": [
    "train.isnull().sum()"
   ]
  },
  {
   "cell_type": "markdown",
   "metadata": {},
   "source": [
    "**Determining what missing values mean.**\n",
    "\n",
    "Column_name: #of nulls/data type: column_description: null_description\n",
    "- Fence: 1651 object: No Fence\n",
    "- Garage Qual: 114/object: Garage quality: No Garage\n",
    "- Garage Cond: 114/object: Garage condition: No Garage\n",
    "- Fireplace Qu: 1000/object: Fireplace quality: No Fireplace\n",
    "- Garage Type: 113/object: Garage location: No Garage\n",
    "- Garage Finish: 114/object: Interior finish of the garage: No Garage\n",
    "- Bsmt Qual: 55/object: Evaluates the height of the basement: No Basement\n",
    "- Bsmt Cond: 55/object: Evaluates the general condition of the basement: No Basement\n",
    "- Bsmt Exposure: 58/object: Walkout or garden level walls: No Basement\n",
    "- BsmtFin Type 1: 55/object: No Basement\n",
    "- Lot Frontage: 330/float: Linear feet of street connected to property\n",
    "- Garage Yr Blt: 114/float: Year garage was built"
   ]
  },
  {
   "cell_type": "code",
   "execution_count": 9,
   "metadata": {},
   "outputs": [],
   "source": [
    "#Imputing mean for Garage Cars null values\n",
    "\n",
    "train['Garage Cars'].fillna(train['Garage Cars'].mean(), inplace = True)\n",
    "test['Garage Cars'].fillna(test['Garage Cars'].mean(), inplace = True)"
   ]
  },
  {
   "cell_type": "code",
   "execution_count": 10,
   "metadata": {},
   "outputs": [],
   "source": [
    "#Imputing mean for Bsmt Full Bath null values\n",
    "\n",
    "train['Bsmt Full Bath'].fillna(train['Bsmt Full Bath'].mean(), inplace = True)\n",
    "test['Bsmt Full Bath'].fillna(test['Bsmt Full Bath'].mean(), inplace = True)"
   ]
  },
  {
   "cell_type": "code",
   "execution_count": 11,
   "metadata": {},
   "outputs": [],
   "source": [
    "#Imputing mean for Bsmt Half Bath null values\n",
    "\n",
    "train['Bsmt Half Bath'].fillna(train['Bsmt Half Bath'].mean(), inplace = True)\n",
    "test['Bsmt Half Bath'].fillna(test['Bsmt Half Bath'].mean(), inplace = True)"
   ]
  },
  {
   "cell_type": "code",
   "execution_count": 12,
   "metadata": {},
   "outputs": [],
   "source": [
    "#Exploring Total Bsmt SF and Imputing 0 for null values\n",
    "train['Total Bsmt SF'].sort_values()\n",
    "\n",
    "\n",
    "train.replace({'Total Bsmt SF': np.nan}, {'Total Bsmt SF': 0}, inplace = True)\n",
    "test.replace({'Total Bsmt SF': np.nan}, {'Total Bsmt SF': 0}, inplace = True)"
   ]
  },
  {
   "cell_type": "code",
   "execution_count": 13,
   "metadata": {},
   "outputs": [],
   "source": [
    "#Exploring Garage Area and Imputing mean for null values  \n",
    "train['Garage Area'].describe()\n",
    "\n",
    "train['Garage Area'].fillna(train['Garage Area'].mean(), inplace = True)\n",
    "test['Garage Area'].fillna(test['Garage Area'].mean(), inplace = True)"
   ]
  },
  {
   "cell_type": "code",
   "execution_count": 14,
   "metadata": {},
   "outputs": [],
   "source": [
    "train['BsmtFin SF 1'].describe()\n",
    "train['BsmtFin SF 1'].sort_values()\n",
    "\n",
    "train['BsmtFin SF 1'].fillna(train['BsmtFin SF 1'].mean(), inplace = True)\n",
    "test['BsmtFin SF 1'].fillna(test['BsmtFin SF 1'].mean(), inplace = True)"
   ]
  },
  {
   "cell_type": "code",
   "execution_count": 15,
   "metadata": {},
   "outputs": [],
   "source": [
    "train['BsmtFin SF 2'].describe()\n",
    "train['BsmtFin SF 2'].sort_values()\n",
    "\n",
    "train['BsmtFin SF 2'].fillna(train['BsmtFin SF 2'].mean(), inplace = True)\n",
    "test['BsmtFin SF 2'].fillna(test['BsmtFin SF 2'].mean(), inplace = True)"
   ]
  },
  {
   "cell_type": "code",
   "execution_count": 16,
   "metadata": {},
   "outputs": [],
   "source": [
    "train['Mas Vnr Area'].describe()\n",
    "\n",
    "train.replace({'Mas Vnr Area': np.nan}, {'Mas Vnr Area': 0}, inplace = True)\n",
    "test.replace({'Mas Vnr Area': np.nan}, {'Mas Vnr Area': 0}, inplace = True)"
   ]
  },
  {
   "cell_type": "code",
   "execution_count": 17,
   "metadata": {},
   "outputs": [],
   "source": [
    "train['Bsmt Cond'].describe()\n",
    "train['Bsmt Cond'].value_counts()\n",
    "train['Bsmt Cond'].sort_values()\n",
    "\n",
    "train.dropna(subset= ['Bsmt Cond'], inplace = True) \n",
    "test.dropna(subset= ['Bsmt Cond'], inplace = True) "
   ]
  },
  {
   "cell_type": "code",
   "execution_count": 18,
   "metadata": {},
   "outputs": [],
   "source": [
    "train['BsmtFin Type 2'].describe()\n",
    "train['BsmtFin Type 2'].sort_values()\n",
    "\n",
    "train.dropna(subset= ['BsmtFin Type 2'], inplace = True) \n",
    "test.dropna(subset= ['BsmtFin Type 2'], inplace = True) "
   ]
  },
  {
   "cell_type": "code",
   "execution_count": 19,
   "metadata": {},
   "outputs": [],
   "source": [
    "train['BsmtFin Type 1'].describe()\n",
    "train['BsmtFin Type 1'].sort_values()\n",
    "\n",
    "train.dropna(subset= ['BsmtFin Type 1'], inplace = True) \n",
    "test.dropna(subset= ['BsmtFin Type 1'], inplace = True) "
   ]
  },
  {
   "cell_type": "code",
   "execution_count": 20,
   "metadata": {},
   "outputs": [],
   "source": [
    "train['Bsmt Exposure'].describe()\n",
    "train['Bsmt Exposure'].sort_values()\n",
    "\n",
    "train.dropna(subset= ['Bsmt Exposure'], inplace = True) \n",
    "test.dropna(subset= ['Bsmt Exposure'], inplace = True) "
   ]
  },
  {
   "cell_type": "code",
   "execution_count": 21,
   "metadata": {},
   "outputs": [],
   "source": [
    "train['Garage Type'].describe()\n",
    "train['Garage Type'].value_counts()\n",
    "train['Garage Type'].sort_values()\n",
    "\n",
    "train.replace({'Garage Type': np.nan}, {'Garage Type': 'N/A'}, inplace = True)\n",
    "test.replace({'Garage Type': np.nan}, {'Garage Type': 'N/A'}, inplace = True)"
   ]
  },
  {
   "cell_type": "code",
   "execution_count": 22,
   "metadata": {},
   "outputs": [],
   "source": [
    "train['Garage Finish'].describe()\n",
    "train['Garage Finish'].sort_values()\n",
    "\n",
    "train.replace({'Garage Finish': np.nan}, {'Garage Finish': 'N/A'}, inplace = True)\n",
    "test.replace({'Garage Finish': np.nan}, {'Garage Finish': 'N/A'}, inplace = True)"
   ]
  },
  {
   "cell_type": "code",
   "execution_count": 23,
   "metadata": {},
   "outputs": [],
   "source": [
    "train['Garage Qual'].describe()\n",
    "train['Garage Qual'].sort_values()\n",
    "\n",
    "train.replace({'Garage Qual': np.nan}, {'Garage Qual': 'N/A'}, inplace = True)\n",
    "test.replace({'Garage Qual': np.nan}, {'Garage Qual': 'N/A'}, inplace = True)"
   ]
  },
  {
   "cell_type": "code",
   "execution_count": 24,
   "metadata": {},
   "outputs": [],
   "source": [
    "train['Garage Cond'].describe()\n",
    "train['Garage Cond'].sort_values()\n",
    "\n",
    "train.replace({'Garage Cond': np.nan}, {'Garage Cond': 'N/A'}, inplace = True)\n",
    "test.replace({'Garage Cond': np.nan}, {'Garage Cond': 'N/A'}, inplace = True)"
   ]
  },
  {
   "cell_type": "code",
   "execution_count": 25,
   "metadata": {},
   "outputs": [],
   "source": [
    "#Exploring Garage Yr Blt\n",
    "#I assume Nan's mean there is no garage so I will not impute or delete.\n",
    "#I will delete column instead since I dont need this\n",
    "train['Garage Yr Blt'].sort_values()\n",
    "\n",
    "train.drop(columns=['Garage Yr Blt'], inplace=True)\n",
    "test.drop(columns=['Garage Yr Blt'], inplace=True)"
   ]
  },
  {
   "cell_type": "markdown",
   "metadata": {},
   "source": [
    "### Checking Data Types"
   ]
  },
  {
   "cell_type": "code",
   "execution_count": 26,
   "metadata": {},
   "outputs": [
    {
     "data": {
      "text/plain": [
       "Id                   int64\n",
       "PID                  int64\n",
       "MS SubClass          int64\n",
       "House Style         object\n",
       "Overall Qual         int64\n",
       "Overall Cond         int64\n",
       "Year Built           int64\n",
       "Year Remod/Add       int64\n",
       "Roof Style          object\n",
       "Roof Matl           object\n",
       "Exterior 1st        object\n",
       "Exterior 2nd        object\n",
       "Mas Vnr Type        object\n",
       "Mas Vnr Area       float64\n",
       "Exter Qual          object\n",
       "Exter Cond          object\n",
       "Bsmt Cond           object\n",
       "Bsmt Exposure       object\n",
       "BsmtFin Type 1      object\n",
       "BsmtFin SF 1       float64\n",
       "BsmtFin Type 2      object\n",
       "BsmtFin SF 2       float64\n",
       "Bsmt Unf SF        float64\n",
       "Total Bsmt SF      float64\n",
       "1st Flr SF           int64\n",
       "2nd Flr SF           int64\n",
       "Low Qual Fin SF      int64\n",
       "Gr Liv Area          int64\n",
       "Bsmt Full Bath     float64\n",
       "Bsmt Half Bath     float64\n",
       "Full Bath            int64\n",
       "Half Bath            int64\n",
       "Bedroom AbvGr        int64\n",
       "Kitchen AbvGr        int64\n",
       "Kitchen Qual        object\n",
       "TotRms AbvGrd        int64\n",
       "Fireplaces           int64\n",
       "Fireplace Qu        object\n",
       "Garage Type         object\n",
       "Garage Finish       object\n",
       "Garage Cars        float64\n",
       "Garage Area        float64\n",
       "Garage Qual         object\n",
       "Garage Cond         object\n",
       "Paved Drive         object\n",
       "Wood Deck SF         int64\n",
       "Open Porch SF        int64\n",
       "Enclosed Porch       int64\n",
       "3Ssn Porch           int64\n",
       "Screen Porch         int64\n",
       "Fence               object\n",
       "Yr Sold              int64\n",
       "SalePrice            int64\n",
       "dtype: object"
      ]
     },
     "execution_count": 26,
     "metadata": {},
     "output_type": "execute_result"
    }
   ],
   "source": [
    "train.dtypes\n",
    "\n",
    "#Will dummy object columns below\n"
   ]
  },
  {
   "cell_type": "markdown",
   "metadata": {},
   "source": [
    "### Identifying Outliers"
   ]
  },
  {
   "cell_type": "code",
   "execution_count": 27,
   "metadata": {},
   "outputs": [],
   "source": [
    "#Identify outliers\n",
    "#code inspiration from: https://towardsdatascience.com/5-ways-to-detect-outliers-that-every-data-scientist-should-know-python-code-70a54335a623\n",
    "\n",
    "def find_outliers(Q1, Q3, data):\n",
    "# Q3 = 75%\n",
    "# Q1 = 25%\n",
    "    IQR = Q3 - Q1\n",
    "    upper_limit = Q3 + (1.5* IQR)\n",
    "    lower_limit = Q1 - (1.5 * IQR)\n",
    "    \n",
    "    lower_outliers = []\n",
    "    upper_outliers = []\n",
    "    \n",
    "    for outlier in data:\n",
    "        if outlier > upper_limit: \n",
    "            upper_outliers.append(outlier)\n",
    "        if outlier < lower_limit:\n",
    "            lower_outliers.append(outlier)\n",
    "    \n",
    "    print(f'Lower outliers are: {sorted(lower_outliers)}')\n",
    "    print(f'Upper outliers are: {sorted(upper_outliers)}')"
   ]
  },
  {
   "cell_type": "markdown",
   "metadata": {},
   "source": [
    "**Noticing any unusual positive of negative numbers.**"
   ]
  },
  {
   "cell_type": "code",
   "execution_count": 28,
   "metadata": {},
   "outputs": [
    {
     "data": {
      "text/html": [
       "<div>\n",
       "<style scoped>\n",
       "    .dataframe tbody tr th:only-of-type {\n",
       "        vertical-align: middle;\n",
       "    }\n",
       "\n",
       "    .dataframe tbody tr th {\n",
       "        vertical-align: top;\n",
       "    }\n",
       "\n",
       "    .dataframe thead th {\n",
       "        text-align: right;\n",
       "    }\n",
       "</style>\n",
       "<table border=\"1\" class=\"dataframe\">\n",
       "  <thead>\n",
       "    <tr style=\"text-align: right;\">\n",
       "      <th></th>\n",
       "      <th>Id</th>\n",
       "      <th>PID</th>\n",
       "      <th>MS SubClass</th>\n",
       "      <th>Overall Qual</th>\n",
       "      <th>Overall Cond</th>\n",
       "      <th>Year Built</th>\n",
       "      <th>Year Remod/Add</th>\n",
       "      <th>Mas Vnr Area</th>\n",
       "      <th>BsmtFin SF 1</th>\n",
       "      <th>BsmtFin SF 2</th>\n",
       "      <th>Bsmt Unf SF</th>\n",
       "      <th>Total Bsmt SF</th>\n",
       "      <th>1st Flr SF</th>\n",
       "      <th>2nd Flr SF</th>\n",
       "      <th>Low Qual Fin SF</th>\n",
       "      <th>Gr Liv Area</th>\n",
       "      <th>Bsmt Full Bath</th>\n",
       "      <th>Bsmt Half Bath</th>\n",
       "      <th>Full Bath</th>\n",
       "      <th>Half Bath</th>\n",
       "      <th>Bedroom AbvGr</th>\n",
       "      <th>Kitchen AbvGr</th>\n",
       "      <th>TotRms AbvGrd</th>\n",
       "      <th>Fireplaces</th>\n",
       "      <th>Garage Cars</th>\n",
       "      <th>Garage Area</th>\n",
       "      <th>Wood Deck SF</th>\n",
       "      <th>Open Porch SF</th>\n",
       "      <th>Enclosed Porch</th>\n",
       "      <th>3Ssn Porch</th>\n",
       "      <th>Screen Porch</th>\n",
       "      <th>Yr Sold</th>\n",
       "      <th>SalePrice</th>\n",
       "    </tr>\n",
       "  </thead>\n",
       "  <tbody>\n",
       "    <tr>\n",
       "      <th>count</th>\n",
       "      <td>1992.000000</td>\n",
       "      <td>1.992000e+03</td>\n",
       "      <td>1992.000000</td>\n",
       "      <td>1992.000000</td>\n",
       "      <td>1992.000000</td>\n",
       "      <td>1992.000000</td>\n",
       "      <td>1992.000000</td>\n",
       "      <td>1992.000000</td>\n",
       "      <td>1992.000000</td>\n",
       "      <td>1992.000000</td>\n",
       "      <td>1992.000000</td>\n",
       "      <td>1992.000000</td>\n",
       "      <td>1992.000000</td>\n",
       "      <td>1992.000000</td>\n",
       "      <td>1992.000000</td>\n",
       "      <td>1992.000000</td>\n",
       "      <td>1992.000000</td>\n",
       "      <td>1992.000000</td>\n",
       "      <td>1992.000000</td>\n",
       "      <td>1992.000000</td>\n",
       "      <td>1992.000000</td>\n",
       "      <td>1992.000000</td>\n",
       "      <td>1992.000000</td>\n",
       "      <td>1992.000000</td>\n",
       "      <td>1992.000000</td>\n",
       "      <td>1992.000000</td>\n",
       "      <td>1992.000000</td>\n",
       "      <td>1992.000000</td>\n",
       "      <td>1992.000000</td>\n",
       "      <td>1992.000000</td>\n",
       "      <td>1992.000000</td>\n",
       "      <td>1992.000000</td>\n",
       "      <td>1992.000000</td>\n",
       "    </tr>\n",
       "    <tr>\n",
       "      <th>mean</th>\n",
       "      <td>1473.443775</td>\n",
       "      <td>7.114068e+08</td>\n",
       "      <td>56.987952</td>\n",
       "      <td>6.167169</td>\n",
       "      <td>5.576807</td>\n",
       "      <td>1972.131024</td>\n",
       "      <td>1984.656124</td>\n",
       "      <td>100.575301</td>\n",
       "      <td>454.614458</td>\n",
       "      <td>49.114960</td>\n",
       "      <td>581.819277</td>\n",
       "      <td>1085.548695</td>\n",
       "      <td>1165.219378</td>\n",
       "      <td>332.995984</td>\n",
       "      <td>5.546687</td>\n",
       "      <td>1503.762048</td>\n",
       "      <td>0.439257</td>\n",
       "      <td>0.065261</td>\n",
       "      <td>1.576305</td>\n",
       "      <td>0.378514</td>\n",
       "      <td>2.847892</td>\n",
       "      <td>1.033133</td>\n",
       "      <td>6.436245</td>\n",
       "      <td>0.600904</td>\n",
       "      <td>1.785028</td>\n",
       "      <td>475.869815</td>\n",
       "      <td>95.706827</td>\n",
       "      <td>48.290161</td>\n",
       "      <td>22.345382</td>\n",
       "      <td>2.668173</td>\n",
       "      <td>16.670181</td>\n",
       "      <td>2007.772590</td>\n",
       "      <td>183451.543675</td>\n",
       "    </tr>\n",
       "    <tr>\n",
       "      <th>std</th>\n",
       "      <td>843.430425</td>\n",
       "      <td>1.886440e+08</td>\n",
       "      <td>42.891344</td>\n",
       "      <td>1.386839</td>\n",
       "      <td>1.102084</td>\n",
       "      <td>30.264420</td>\n",
       "      <td>20.852998</td>\n",
       "      <td>175.747586</td>\n",
       "      <td>461.432475</td>\n",
       "      <td>166.906851</td>\n",
       "      <td>440.071445</td>\n",
       "      <td>417.384046</td>\n",
       "      <td>393.256862</td>\n",
       "      <td>426.403038</td>\n",
       "      <td>51.607391</td>\n",
       "      <td>497.842207</td>\n",
       "      <td>0.524943</td>\n",
       "      <td>0.255051</td>\n",
       "      <td>0.548227</td>\n",
       "      <td>0.502430</td>\n",
       "      <td>0.813902</td>\n",
       "      <td>0.187255</td>\n",
       "      <td>1.550733</td>\n",
       "      <td>0.640080</td>\n",
       "      <td>0.759336</td>\n",
       "      <td>214.933135</td>\n",
       "      <td>129.236103</td>\n",
       "      <td>66.600680</td>\n",
       "      <td>59.812718</td>\n",
       "      <td>25.596703</td>\n",
       "      <td>57.490542</td>\n",
       "      <td>1.311002</td>\n",
       "      <td>79049.128091</td>\n",
       "    </tr>\n",
       "    <tr>\n",
       "      <th>min</th>\n",
       "      <td>1.000000</td>\n",
       "      <td>5.263011e+08</td>\n",
       "      <td>20.000000</td>\n",
       "      <td>1.000000</td>\n",
       "      <td>1.000000</td>\n",
       "      <td>1872.000000</td>\n",
       "      <td>1950.000000</td>\n",
       "      <td>0.000000</td>\n",
       "      <td>0.000000</td>\n",
       "      <td>0.000000</td>\n",
       "      <td>0.000000</td>\n",
       "      <td>160.000000</td>\n",
       "      <td>438.000000</td>\n",
       "      <td>0.000000</td>\n",
       "      <td>0.000000</td>\n",
       "      <td>438.000000</td>\n",
       "      <td>0.000000</td>\n",
       "      <td>0.000000</td>\n",
       "      <td>0.000000</td>\n",
       "      <td>0.000000</td>\n",
       "      <td>0.000000</td>\n",
       "      <td>0.000000</td>\n",
       "      <td>3.000000</td>\n",
       "      <td>0.000000</td>\n",
       "      <td>0.000000</td>\n",
       "      <td>0.000000</td>\n",
       "      <td>0.000000</td>\n",
       "      <td>0.000000</td>\n",
       "      <td>0.000000</td>\n",
       "      <td>0.000000</td>\n",
       "      <td>0.000000</td>\n",
       "      <td>2006.000000</td>\n",
       "      <td>12789.000000</td>\n",
       "    </tr>\n",
       "    <tr>\n",
       "      <th>25%</th>\n",
       "      <td>748.750000</td>\n",
       "      <td>5.284562e+08</td>\n",
       "      <td>20.000000</td>\n",
       "      <td>5.000000</td>\n",
       "      <td>5.000000</td>\n",
       "      <td>1954.000000</td>\n",
       "      <td>1966.000000</td>\n",
       "      <td>0.000000</td>\n",
       "      <td>0.000000</td>\n",
       "      <td>0.000000</td>\n",
       "      <td>239.750000</td>\n",
       "      <td>812.750000</td>\n",
       "      <td>879.000000</td>\n",
       "      <td>0.000000</td>\n",
       "      <td>0.000000</td>\n",
       "      <td>1137.750000</td>\n",
       "      <td>0.000000</td>\n",
       "      <td>0.000000</td>\n",
       "      <td>1.000000</td>\n",
       "      <td>0.000000</td>\n",
       "      <td>2.000000</td>\n",
       "      <td>1.000000</td>\n",
       "      <td>5.000000</td>\n",
       "      <td>0.000000</td>\n",
       "      <td>1.000000</td>\n",
       "      <td>325.750000</td>\n",
       "      <td>0.000000</td>\n",
       "      <td>0.000000</td>\n",
       "      <td>0.000000</td>\n",
       "      <td>0.000000</td>\n",
       "      <td>0.000000</td>\n",
       "      <td>2007.000000</td>\n",
       "      <td>130000.000000</td>\n",
       "    </tr>\n",
       "    <tr>\n",
       "      <th>50%</th>\n",
       "      <td>1486.500000</td>\n",
       "      <td>5.354503e+08</td>\n",
       "      <td>50.000000</td>\n",
       "      <td>6.000000</td>\n",
       "      <td>5.000000</td>\n",
       "      <td>1975.000000</td>\n",
       "      <td>1993.500000</td>\n",
       "      <td>0.000000</td>\n",
       "      <td>384.000000</td>\n",
       "      <td>0.000000</td>\n",
       "      <td>485.000000</td>\n",
       "      <td>1008.000000</td>\n",
       "      <td>1093.000000</td>\n",
       "      <td>0.000000</td>\n",
       "      <td>0.000000</td>\n",
       "      <td>1451.000000</td>\n",
       "      <td>0.000000</td>\n",
       "      <td>0.000000</td>\n",
       "      <td>2.000000</td>\n",
       "      <td>0.000000</td>\n",
       "      <td>3.000000</td>\n",
       "      <td>1.000000</td>\n",
       "      <td>6.000000</td>\n",
       "      <td>1.000000</td>\n",
       "      <td>2.000000</td>\n",
       "      <td>480.000000</td>\n",
       "      <td>0.000000</td>\n",
       "      <td>28.000000</td>\n",
       "      <td>0.000000</td>\n",
       "      <td>0.000000</td>\n",
       "      <td>0.000000</td>\n",
       "      <td>2008.000000</td>\n",
       "      <td>164945.000000</td>\n",
       "    </tr>\n",
       "    <tr>\n",
       "      <th>75%</th>\n",
       "      <td>2195.500000</td>\n",
       "      <td>9.071751e+08</td>\n",
       "      <td>70.000000</td>\n",
       "      <td>7.000000</td>\n",
       "      <td>6.000000</td>\n",
       "      <td>2001.000000</td>\n",
       "      <td>2004.000000</td>\n",
       "      <td>163.000000</td>\n",
       "      <td>742.500000</td>\n",
       "      <td>0.000000</td>\n",
       "      <td>816.000000</td>\n",
       "      <td>1331.250000</td>\n",
       "      <td>1407.500000</td>\n",
       "      <td>700.000000</td>\n",
       "      <td>0.000000</td>\n",
       "      <td>1730.250000</td>\n",
       "      <td>1.000000</td>\n",
       "      <td>0.000000</td>\n",
       "      <td>2.000000</td>\n",
       "      <td>1.000000</td>\n",
       "      <td>3.000000</td>\n",
       "      <td>1.000000</td>\n",
       "      <td>7.000000</td>\n",
       "      <td>1.000000</td>\n",
       "      <td>2.000000</td>\n",
       "      <td>576.000000</td>\n",
       "      <td>168.000000</td>\n",
       "      <td>72.000000</td>\n",
       "      <td>0.000000</td>\n",
       "      <td>0.000000</td>\n",
       "      <td>0.000000</td>\n",
       "      <td>2009.000000</td>\n",
       "      <td>215000.000000</td>\n",
       "    </tr>\n",
       "    <tr>\n",
       "      <th>max</th>\n",
       "      <td>2930.000000</td>\n",
       "      <td>9.241520e+08</td>\n",
       "      <td>190.000000</td>\n",
       "      <td>10.000000</td>\n",
       "      <td>9.000000</td>\n",
       "      <td>2010.000000</td>\n",
       "      <td>2010.000000</td>\n",
       "      <td>1600.000000</td>\n",
       "      <td>5644.000000</td>\n",
       "      <td>1474.000000</td>\n",
       "      <td>2336.000000</td>\n",
       "      <td>6110.000000</td>\n",
       "      <td>5095.000000</td>\n",
       "      <td>1862.000000</td>\n",
       "      <td>1064.000000</td>\n",
       "      <td>5642.000000</td>\n",
       "      <td>3.000000</td>\n",
       "      <td>2.000000</td>\n",
       "      <td>4.000000</td>\n",
       "      <td>2.000000</td>\n",
       "      <td>8.000000</td>\n",
       "      <td>3.000000</td>\n",
       "      <td>15.000000</td>\n",
       "      <td>4.000000</td>\n",
       "      <td>5.000000</td>\n",
       "      <td>1418.000000</td>\n",
       "      <td>1424.000000</td>\n",
       "      <td>547.000000</td>\n",
       "      <td>432.000000</td>\n",
       "      <td>508.000000</td>\n",
       "      <td>490.000000</td>\n",
       "      <td>2010.000000</td>\n",
       "      <td>611657.000000</td>\n",
       "    </tr>\n",
       "  </tbody>\n",
       "</table>\n",
       "</div>"
      ],
      "text/plain": [
       "                Id           PID  MS SubClass  Overall Qual  Overall Cond  \\\n",
       "count  1992.000000  1.992000e+03  1992.000000   1992.000000   1992.000000   \n",
       "mean   1473.443775  7.114068e+08    56.987952      6.167169      5.576807   \n",
       "std     843.430425  1.886440e+08    42.891344      1.386839      1.102084   \n",
       "min       1.000000  5.263011e+08    20.000000      1.000000      1.000000   \n",
       "25%     748.750000  5.284562e+08    20.000000      5.000000      5.000000   \n",
       "50%    1486.500000  5.354503e+08    50.000000      6.000000      5.000000   \n",
       "75%    2195.500000  9.071751e+08    70.000000      7.000000      6.000000   \n",
       "max    2930.000000  9.241520e+08   190.000000     10.000000      9.000000   \n",
       "\n",
       "        Year Built  Year Remod/Add  Mas Vnr Area  BsmtFin SF 1  BsmtFin SF 2  \\\n",
       "count  1992.000000     1992.000000   1992.000000   1992.000000   1992.000000   \n",
       "mean   1972.131024     1984.656124    100.575301    454.614458     49.114960   \n",
       "std      30.264420       20.852998    175.747586    461.432475    166.906851   \n",
       "min    1872.000000     1950.000000      0.000000      0.000000      0.000000   \n",
       "25%    1954.000000     1966.000000      0.000000      0.000000      0.000000   \n",
       "50%    1975.000000     1993.500000      0.000000    384.000000      0.000000   \n",
       "75%    2001.000000     2004.000000    163.000000    742.500000      0.000000   \n",
       "max    2010.000000     2010.000000   1600.000000   5644.000000   1474.000000   \n",
       "\n",
       "       Bsmt Unf SF  Total Bsmt SF   1st Flr SF   2nd Flr SF  Low Qual Fin SF  \\\n",
       "count  1992.000000    1992.000000  1992.000000  1992.000000      1992.000000   \n",
       "mean    581.819277    1085.548695  1165.219378   332.995984         5.546687   \n",
       "std     440.071445     417.384046   393.256862   426.403038        51.607391   \n",
       "min       0.000000     160.000000   438.000000     0.000000         0.000000   \n",
       "25%     239.750000     812.750000   879.000000     0.000000         0.000000   \n",
       "50%     485.000000    1008.000000  1093.000000     0.000000         0.000000   \n",
       "75%     816.000000    1331.250000  1407.500000   700.000000         0.000000   \n",
       "max    2336.000000    6110.000000  5095.000000  1862.000000      1064.000000   \n",
       "\n",
       "       Gr Liv Area  Bsmt Full Bath  Bsmt Half Bath    Full Bath    Half Bath  \\\n",
       "count  1992.000000     1992.000000     1992.000000  1992.000000  1992.000000   \n",
       "mean   1503.762048        0.439257        0.065261     1.576305     0.378514   \n",
       "std     497.842207        0.524943        0.255051     0.548227     0.502430   \n",
       "min     438.000000        0.000000        0.000000     0.000000     0.000000   \n",
       "25%    1137.750000        0.000000        0.000000     1.000000     0.000000   \n",
       "50%    1451.000000        0.000000        0.000000     2.000000     0.000000   \n",
       "75%    1730.250000        1.000000        0.000000     2.000000     1.000000   \n",
       "max    5642.000000        3.000000        2.000000     4.000000     2.000000   \n",
       "\n",
       "       Bedroom AbvGr  Kitchen AbvGr  TotRms AbvGrd   Fireplaces  Garage Cars  \\\n",
       "count    1992.000000    1992.000000    1992.000000  1992.000000  1992.000000   \n",
       "mean        2.847892       1.033133       6.436245     0.600904     1.785028   \n",
       "std         0.813902       0.187255       1.550733     0.640080     0.759336   \n",
       "min         0.000000       0.000000       3.000000     0.000000     0.000000   \n",
       "25%         2.000000       1.000000       5.000000     0.000000     1.000000   \n",
       "50%         3.000000       1.000000       6.000000     1.000000     2.000000   \n",
       "75%         3.000000       1.000000       7.000000     1.000000     2.000000   \n",
       "max         8.000000       3.000000      15.000000     4.000000     5.000000   \n",
       "\n",
       "       Garage Area  Wood Deck SF  Open Porch SF  Enclosed Porch   3Ssn Porch  \\\n",
       "count  1992.000000   1992.000000    1992.000000     1992.000000  1992.000000   \n",
       "mean    475.869815     95.706827      48.290161       22.345382     2.668173   \n",
       "std     214.933135    129.236103      66.600680       59.812718    25.596703   \n",
       "min       0.000000      0.000000       0.000000        0.000000     0.000000   \n",
       "25%     325.750000      0.000000       0.000000        0.000000     0.000000   \n",
       "50%     480.000000      0.000000      28.000000        0.000000     0.000000   \n",
       "75%     576.000000    168.000000      72.000000        0.000000     0.000000   \n",
       "max    1418.000000   1424.000000     547.000000      432.000000   508.000000   \n",
       "\n",
       "       Screen Porch      Yr Sold      SalePrice  \n",
       "count   1992.000000  1992.000000    1992.000000  \n",
       "mean      16.670181  2007.772590  183451.543675  \n",
       "std       57.490542     1.311002   79049.128091  \n",
       "min        0.000000  2006.000000   12789.000000  \n",
       "25%        0.000000  2007.000000  130000.000000  \n",
       "50%        0.000000  2008.000000  164945.000000  \n",
       "75%        0.000000  2009.000000  215000.000000  \n",
       "max      490.000000  2010.000000  611657.000000  "
      ]
     },
     "execution_count": 28,
     "metadata": {},
     "output_type": "execute_result"
    }
   ],
   "source": [
    "train.describe()"
   ]
  },
  {
   "cell_type": "code",
   "execution_count": 29,
   "metadata": {},
   "outputs": [
    {
     "data": {
      "text/html": [
       "<div>\n",
       "<style scoped>\n",
       "    .dataframe tbody tr th:only-of-type {\n",
       "        vertical-align: middle;\n",
       "    }\n",
       "\n",
       "    .dataframe tbody tr th {\n",
       "        vertical-align: top;\n",
       "    }\n",
       "\n",
       "    .dataframe thead th {\n",
       "        text-align: right;\n",
       "    }\n",
       "</style>\n",
       "<table border=\"1\" class=\"dataframe\">\n",
       "  <thead>\n",
       "    <tr style=\"text-align: right;\">\n",
       "      <th></th>\n",
       "      <th>House Style</th>\n",
       "      <th>Roof Style</th>\n",
       "      <th>Roof Matl</th>\n",
       "      <th>Exterior 1st</th>\n",
       "      <th>Exterior 2nd</th>\n",
       "      <th>Mas Vnr Type</th>\n",
       "      <th>Exter Qual</th>\n",
       "      <th>Exter Cond</th>\n",
       "      <th>Bsmt Cond</th>\n",
       "      <th>Bsmt Exposure</th>\n",
       "      <th>BsmtFin Type 1</th>\n",
       "      <th>BsmtFin Type 2</th>\n",
       "      <th>Kitchen Qual</th>\n",
       "      <th>Fireplace Qu</th>\n",
       "      <th>Garage Type</th>\n",
       "      <th>Garage Finish</th>\n",
       "      <th>Garage Qual</th>\n",
       "      <th>Garage Cond</th>\n",
       "      <th>Paved Drive</th>\n",
       "      <th>Fence</th>\n",
       "    </tr>\n",
       "  </thead>\n",
       "  <tbody>\n",
       "    <tr>\n",
       "      <th>count</th>\n",
       "      <td>1992</td>\n",
       "      <td>1992</td>\n",
       "      <td>1992</td>\n",
       "      <td>1992</td>\n",
       "      <td>1992</td>\n",
       "      <td>1970</td>\n",
       "      <td>1992</td>\n",
       "      <td>1992</td>\n",
       "      <td>1992</td>\n",
       "      <td>1992</td>\n",
       "      <td>1992</td>\n",
       "      <td>1992</td>\n",
       "      <td>1992</td>\n",
       "      <td>1037</td>\n",
       "      <td>1992</td>\n",
       "      <td>1992</td>\n",
       "      <td>1992</td>\n",
       "      <td>1992</td>\n",
       "      <td>1992</td>\n",
       "      <td>394</td>\n",
       "    </tr>\n",
       "    <tr>\n",
       "      <th>unique</th>\n",
       "      <td>8</td>\n",
       "      <td>6</td>\n",
       "      <td>6</td>\n",
       "      <td>15</td>\n",
       "      <td>15</td>\n",
       "      <td>4</td>\n",
       "      <td>4</td>\n",
       "      <td>5</td>\n",
       "      <td>5</td>\n",
       "      <td>4</td>\n",
       "      <td>6</td>\n",
       "      <td>6</td>\n",
       "      <td>4</td>\n",
       "      <td>5</td>\n",
       "      <td>7</td>\n",
       "      <td>4</td>\n",
       "      <td>6</td>\n",
       "      <td>6</td>\n",
       "      <td>3</td>\n",
       "      <td>4</td>\n",
       "    </tr>\n",
       "    <tr>\n",
       "      <th>top</th>\n",
       "      <td>1Story</td>\n",
       "      <td>Gable</td>\n",
       "      <td>CompShg</td>\n",
       "      <td>VinylSd</td>\n",
       "      <td>VinylSd</td>\n",
       "      <td>None</td>\n",
       "      <td>TA</td>\n",
       "      <td>TA</td>\n",
       "      <td>TA</td>\n",
       "      <td>No</td>\n",
       "      <td>GLQ</td>\n",
       "      <td>Unf</td>\n",
       "      <td>TA</td>\n",
       "      <td>Gd</td>\n",
       "      <td>Attchd</td>\n",
       "      <td>Unf</td>\n",
       "      <td>TA</td>\n",
       "      <td>TA</td>\n",
       "      <td>Y</td>\n",
       "      <td>MnPrv</td>\n",
       "    </tr>\n",
       "    <tr>\n",
       "      <th>freq</th>\n",
       "      <td>1016</td>\n",
       "      <td>1564</td>\n",
       "      <td>1966</td>\n",
       "      <td>714</td>\n",
       "      <td>710</td>\n",
       "      <td>1167</td>\n",
       "      <td>1199</td>\n",
       "      <td>1727</td>\n",
       "      <td>1830</td>\n",
       "      <td>1338</td>\n",
       "      <td>614</td>\n",
       "      <td>1746</td>\n",
       "      <td>1003</td>\n",
       "      <td>516</td>\n",
       "      <td>1189</td>\n",
       "      <td>811</td>\n",
       "      <td>1787</td>\n",
       "      <td>1823</td>\n",
       "      <td>1824</td>\n",
       "      <td>225</td>\n",
       "    </tr>\n",
       "  </tbody>\n",
       "</table>\n",
       "</div>"
      ],
      "text/plain": [
       "       House Style Roof Style Roof Matl Exterior 1st Exterior 2nd  \\\n",
       "count         1992       1992      1992         1992         1992   \n",
       "unique           8          6         6           15           15   \n",
       "top         1Story      Gable   CompShg      VinylSd      VinylSd   \n",
       "freq          1016       1564      1966          714          710   \n",
       "\n",
       "       Mas Vnr Type Exter Qual Exter Cond Bsmt Cond Bsmt Exposure  \\\n",
       "count          1970       1992       1992      1992          1992   \n",
       "unique            4          4          5         5             4   \n",
       "top            None         TA         TA        TA            No   \n",
       "freq           1167       1199       1727      1830          1338   \n",
       "\n",
       "       BsmtFin Type 1 BsmtFin Type 2 Kitchen Qual Fireplace Qu Garage Type  \\\n",
       "count            1992           1992         1992         1037        1992   \n",
       "unique              6              6            4            5           7   \n",
       "top               GLQ            Unf           TA           Gd      Attchd   \n",
       "freq              614           1746         1003          516        1189   \n",
       "\n",
       "       Garage Finish Garage Qual Garage Cond Paved Drive  Fence  \n",
       "count           1992        1992        1992        1992    394  \n",
       "unique             4           6           6           3      4  \n",
       "top              Unf          TA          TA           Y  MnPrv  \n",
       "freq             811        1787        1823        1824    225  "
      ]
     },
     "execution_count": 29,
     "metadata": {},
     "output_type": "execute_result"
    }
   ],
   "source": [
    "train.describe(include=np.object)"
   ]
  },
  {
   "cell_type": "markdown",
   "metadata": {},
   "source": [
    "**Looking at histograms to see how column data is distributed. Noticing any tails that would indicate outliers.**\n"
   ]
  },
  {
   "cell_type": "code",
   "execution_count": 30,
   "metadata": {},
   "outputs": [
    {
     "data": {
      "image/png": "[encoded data removed]",
      "text/plain": [
       "<Figure size 1800x1800 with 36 Axes>"
      ]
     },
     "metadata": {
      "needs_background": "light"
     },
     "output_type": "display_data"
    }
   ],
   "source": [
    "train.hist(bins=50, figsize=(25,25))\n",
    "plt.savefig(\"attribute_histogram_plots\")\n",
    "plt.show()"
   ]
  },
  {
   "cell_type": "markdown",
   "metadata": {},
   "source": [
    "**Boxplotting trouble histogram columns to better see outliers**"
   ]
  },
  {
   "cell_type": "code",
   "execution_count": 31,
   "metadata": {},
   "outputs": [
    {
     "data": {
      "text/plain": [
       "<matplotlib.axes._subplots.AxesSubplot at 0x7fdd7e0ff6d0>"
      ]
     },
     "execution_count": 31,
     "metadata": {},
     "output_type": "execute_result"
    },
    {
     "data": {
      "image/png": "[encoded data removed]",
      "text/plain": [
       "<Figure size 432x288 with 1 Axes>"
      ]
     },
     "metadata": {
      "needs_background": "light"
     },
     "output_type": "display_data"
    }
   ],
   "source": [
    "sns.boxplot(x=train['Garage Area']) "
   ]
  },
  {
   "cell_type": "code",
   "execution_count": 32,
   "metadata": {},
   "outputs": [
    {
     "data": {
      "text/plain": [
       "<matplotlib.axes._subplots.AxesSubplot at 0x7fdd7e43a350>"
      ]
     },
     "execution_count": 32,
     "metadata": {},
     "output_type": "execute_result"
    },
    {
     "data": {
      "image/png": "[encoded data removed]",
      "text/plain": [
       "<Figure size 432x288 with 1 Axes>"
      ]
     },
     "metadata": {
      "needs_background": "light"
     },
     "output_type": "display_data"
    }
   ],
   "source": [
    "sns.boxplot(x=train['Bsmt Unf SF']) "
   ]
  },
  {
   "cell_type": "code",
   "execution_count": 33,
   "metadata": {},
   "outputs": [
    {
     "data": {
      "text/plain": [
       "<matplotlib.axes._subplots.AxesSubplot at 0x7fdd7e2dc890>"
      ]
     },
     "execution_count": 33,
     "metadata": {},
     "output_type": "execute_result"
    },
    {
     "data": {
      "image/png": "[encoded data removed]",
      "text/plain": [
       "<Figure size 432x288 with 1 Axes>"
      ]
     },
     "metadata": {
      "needs_background": "light"
     },
     "output_type": "display_data"
    }
   ],
   "source": [
    "sns.boxplot(x=train['SalePrice'])"
   ]
  },
  {
   "cell_type": "code",
   "execution_count": 34,
   "metadata": {},
   "outputs": [
    {
     "data": {
      "text/plain": [
       "count      1992.000000\n",
       "mean     183451.543675\n",
       "std       79049.128091\n",
       "min       12789.000000\n",
       "25%      130000.000000\n",
       "50%      164945.000000\n",
       "75%      215000.000000\n",
       "max      611657.000000\n",
       "Name: SalePrice, dtype: float64"
      ]
     },
     "execution_count": 34,
     "metadata": {},
     "output_type": "execute_result"
    }
   ],
   "source": [
    "train['SalePrice'].describe()"
   ]
  },
  {
   "cell_type": "code",
   "execution_count": 35,
   "metadata": {},
   "outputs": [
    {
     "name": "stdout",
     "output_type": "stream",
     "text": [
      "Lower outliers are: []\n",
      "Upper outliers are: [341000, 342000, 342643, 344133, 345000, 345000, 345474, 348000, 349265, 350000, 350000, 350000, 350000, 355000, 356383, 359900, 360000, 360000, 361919, 367294, 370000, 370000, 370878, 370967, 372000, 372397, 372402, 373000, 374000, 375000, 376162, 377426, 377500, 380000, 382500, 383000, 383970, 385000, 385000, 386250, 387000, 392000, 392000, 392500, 394617, 395000, 395039, 398800, 402000, 403000, 404000, 410000, 410000, 410000, 412083, 412500, 415000, 415000, 415298, 417500, 418000, 421250, 425000, 426000, 430000, 438780, 440000, 441929, 445000, 446261, 450000, 451950, 455000, 457347, 460000, 465000, 466500, 468000, 475000, 475000, 485000, 500000, 500067, 501837, 535000, 538000, 545224, 552000, 555000, 556581, 582933, 584500, 591587, 611657]\n"
     ]
    }
   ],
   "source": [
    "find_outliers(129825, 214000, train['SalePrice'])\n",
    "\n",
    "#total count 2051\n",
    "#total upper outliers = 94"
   ]
  },
  {
   "cell_type": "markdown",
   "metadata": {},
   "source": [
    "Dont want to remove outliers as there are so many and TCB contracting will get jobs from houses with higher price points. Decision made to log salesprice before testing for more accutate results."
   ]
  },
  {
   "cell_type": "markdown",
   "metadata": {},
   "source": [
    "## Data Exploration: combining features and interaction terms "
   ]
  },
  {
   "cell_type": "code",
   "execution_count": 36,
   "metadata": {},
   "outputs": [],
   "source": [
    "\n",
    "train['TotalLivingSF'] = train['Gr Liv Area'] + train['Total Bsmt SF'] - train['Low Qual Fin SF']\n",
    "test['TotalLivingSF'] = test['Gr Liv Area'] + test['Total Bsmt SF'] - test['Low Qual Fin SF']"
   ]
  },
  {
   "cell_type": "code",
   "execution_count": 37,
   "metadata": {},
   "outputs": [],
   "source": [
    "#Creating SqFt + Quality column\n",
    "\n",
    "train['SqFt Interaction Qual'] = train['TotalLivingSF'] * train['Overall Qual']\n",
    "test['SqFt Interaction Qual'] = test['TotalLivingSF'] * test['Overall Qual']"
   ]
  },
  {
   "cell_type": "code",
   "execution_count": 38,
   "metadata": {},
   "outputs": [],
   "source": [
    "#Creating Total Bath column\n",
    "\n",
    "half_bath_total = (train['Bsmt Half Bath'] + train['Half Bath'])/2\n",
    "train['TotalBath'] = train['Bsmt Full Bath'] + train['Full Bath'] + half_bath_total\n",
    "\n",
    "half_bath_total = (test['Bsmt Half Bath'] + test['Half Bath'])/2\n",
    "test['TotalBath'] = test['Bsmt Full Bath'] + test['Full Bath'] + half_bath_total"
   ]
  },
  {
   "cell_type": "code",
   "execution_count": 39,
   "metadata": {},
   "outputs": [],
   "source": [
    "#Creating new df with TCB relevant features\n",
    "\n",
    "TCB_df = train[['SalePrice','Overall Cond','Overall Qual','2nd Flr SF',\n",
    "                      'Bedroom AbvGr','MS SubClass','House Style',\n",
    "                      'Gr Liv Area','TotRms AbvGrd','Bsmt Cond', \n",
    "                      'Bsmt Exposure', 'BsmtFin Type 1', 'BsmtFin SF 1',\n",
    "                      'BsmtFin Type 2', 'BsmtFin SF 2','Kitchen AbvGr',\n",
    "                      'Kitchen Qual', 'Bsmt Full Bath', 'Bsmt Half Bath',\n",
    "                      'Full Bath', 'Half Bath','Garage Type',\n",
    "                      'Garage Finish', 'Garage Cars','Garage Area', 'Garage Qual',\n",
    "                      'Garage Cond','Wood Deck SF', 'Open Porch SF', 'Enclosed Porch',\n",
    "                      '3Ssn Porch', 'TotalBath','TotalLivingSF']].copy()"
   ]
  },
  {
   "cell_type": "markdown",
   "metadata": {},
   "source": [
    "## Data Exploration: finding corrilations"
   ]
  },
  {
   "cell_type": "code",
   "execution_count": 40,
   "metadata": {},
   "outputs": [
    {
     "data": {
      "text/plain": [
       "<matplotlib.axes._subplots.AxesSubplot at 0x7fdd7a4bf710>"
      ]
     },
     "execution_count": 40,
     "metadata": {},
     "output_type": "execute_result"
    },
    {
     "data": {
      "image/png": "[encoded data removed]",
      "text/plain": [
       "<Figure size 360x1080 with 2 Axes>"
      ]
     },
     "metadata": {
      "needs_background": "light"
     },
     "output_type": "display_data"
    }
   ],
   "source": [
    "#Look at all corrilations to Sale Price\n",
    "\n",
    "cor = train.corr()\n",
    "\n",
    "plt.figure(figsize=(5,15))\n",
    "sns.heatmap(cor[['SalePrice']].sort_values('SalePrice', ascending = False),\n",
    "            annot=True,\n",
    "            vmin=-1,\n",
    "            vmax=1,\n",
    "            linewidths=1, \n",
    "            linecolor='white')"
   ]
  },
  {
   "cell_type": "code",
   "execution_count": 41,
   "metadata": {},
   "outputs": [],
   "source": [
    "#code inspiration from https://towardsdatascience.com/feature-selection-with-pandas-e3690ad8504b\n",
    "\n",
    "cor_target = abs(cor['SalePrice'])\n",
    "relevant_features = cor_target[cor_target > 0.5]\n",
    "relevant_features.sort_values()\n",
    "\n",
    "relevant_df = pd.DataFrame(relevant_features)"
   ]
  },
  {
   "cell_type": "code",
   "execution_count": 42,
   "metadata": {},
   "outputs": [
    {
     "data": {
      "text/plain": [
       "<matplotlib.axes._subplots.AxesSubplot at 0x7fdd7b266f10>"
      ]
     },
     "execution_count": 42,
     "metadata": {},
     "output_type": "execute_result"
    },
    {
     "data": {
      "image/png": "[encoded data removed]",
      "text/plain": [
       "<Figure size 720x720 with 2 Axes>"
      ]
     },
     "metadata": {
      "needs_background": "light"
     },
     "output_type": "display_data"
    }
   ],
   "source": [
    "#Plotting relevant features\n",
    "\n",
    "plt.figure(figsize=(10,10))\n",
    "sns.heatmap(relevant_df.sort_values('SalePrice', ascending = False),\n",
    "            annot=True,\n",
    "            vmin=-1,\n",
    "            vmax=1,\n",
    "            cmap = \"Spectral\",\n",
    "            linewidths=1, \n",
    "            linecolor='white',\n",
    "            cbar_kws={\"shrink\": .70})"
   ]
  },
  {
   "cell_type": "code",
   "execution_count": 43,
   "metadata": {},
   "outputs": [
    {
     "data": {
      "text/plain": [
       "<matplotlib.axes._subplots.AxesSubplot at 0x7fdd7b4e91d0>"
      ]
     },
     "execution_count": 43,
     "metadata": {},
     "output_type": "execute_result"
    },
    {
     "data": {
      "image/png": "[encoded data removed]",
      "text/plain": [
       "<Figure size 360x1080 with 2 Axes>"
      ]
     },
     "metadata": {
      "needs_background": "light"
     },
     "output_type": "display_data"
    }
   ],
   "source": [
    "#Look at all corrilations to Sale Price\n",
    "\n",
    "TCBcor = TCB_df.corr()\n",
    "\n",
    "plt.figure(figsize=(5,15))\n",
    "sns.heatmap(TCBcor[['SalePrice']].sort_values('SalePrice', ascending = False),\n",
    "            annot=True,\n",
    "            vmin=-1,\n",
    "            vmax=1,\n",
    "            linewidths=1, \n",
    "            linecolor='white')"
   ]
  },
  {
   "cell_type": "code",
   "execution_count": 44,
   "metadata": {},
   "outputs": [],
   "source": [
    "# Finding high corrilation features that contracting company can do\n",
    "\n",
    "tcb_cor_target = abs(TCBcor['SalePrice'])\n",
    "tcb_relevant_features = tcb_cor_target[tcb_cor_target > 0.5]\n",
    "tcb_relevant_features.sort_values()\n",
    "\n",
    "tcb_relevant_df = pd.DataFrame(tcb_relevant_features)"
   ]
  },
  {
   "cell_type": "code",
   "execution_count": 45,
   "metadata": {},
   "outputs": [
    {
     "data": {
      "text/plain": [
       "<matplotlib.axes._subplots.AxesSubplot at 0x7fdd7ec7f990>"
      ]
     },
     "execution_count": 45,
     "metadata": {},
     "output_type": "execute_result"
    },
    {
     "data": {
      "image/png": "[encoded data removed]",
      "text/plain": [
       "<Figure size 720x720 with 2 Axes>"
      ]
     },
     "metadata": {
      "needs_background": "light"
     },
     "output_type": "display_data"
    }
   ],
   "source": [
    "#Plotting relevant features\n",
    "\n",
    "plt.figure(figsize=(10,10))\n",
    "sns.heatmap(tcb_relevant_df.sort_values('SalePrice', ascending = False),\n",
    "            annot=True,\n",
    "            vmin=-1,\n",
    "            vmax=1,\n",
    "            cmap = \"Spectral\",\n",
    "            linewidths=1, \n",
    "            linecolor='white',\n",
    "            cbar_kws={\"shrink\": .70})"
   ]
  },
  {
   "cell_type": "markdown",
   "metadata": {},
   "source": [
    "**Checking independance**"
   ]
  },
  {
   "cell_type": "code",
   "execution_count": 46,
   "metadata": {},
   "outputs": [
    {
     "name": "stdout",
     "output_type": "stream",
     "text": [
      "                Year Built  Year Remod/Add\n",
      "Year Built        1.000000        0.632592\n",
      "Year Remod/Add    0.632592        1.000000\n",
      "               Overall Qual  TotalLivingSF\n",
      "Overall Qual       1.000000       0.639794\n",
      "TotalLivingSF      0.639794       1.000000\n",
      "             Garage Area  Garage Cars\n",
      "Garage Area     1.000000     0.892032\n",
      "Garage Cars     0.892032     1.000000\n",
      "               1st Flr SF  Total Bsmt SF\n",
      "1st Flr SF       1.000000       0.894571\n",
      "Total Bsmt SF    0.894571       1.000000\n",
      "             TotalBath  Gr Liv Area\n",
      "TotalBath     1.000000     0.584645\n",
      "Gr Liv Area   0.584645     1.000000\n"
     ]
    }
   ],
   "source": [
    "print(train[[\"Year Built\",\"Year Remod/Add\"]].corr())  \n",
    "#High corrilation so I will drop one \n",
    "#Keep Year Build as it's corrilation with Sales Price is Higher\n",
    "\n",
    "print(train[[\"Overall Qual\",\"TotalLivingSF\"]].corr())\n",
    "#High corrilation so I will drop one \n",
    "#Keep Overall Qual as it's corrilation with Sales Price is Higher\n",
    "\n",
    "print(train[[\"Garage Area\",\"Garage Cars\"]].corr())\n",
    "#High corrilation so I will drop one \n",
    "#Keep Garage Area as it's corrilation with Sales Price is Higher\n",
    "\n",
    "print(train[[\"1st Flr SF\",\"Total Bsmt SF\"]].corr())\n",
    "#High corrilation so I will drop one \n",
    "#Keep Total Bsmt SF as it's corrilation with Sales Price is Higher\n",
    "\n",
    "print(train[[\"TotalBath\",\"Gr Liv Area\"]].corr())\n",
    "#High corrilation so I will drop one \n",
    "#Keep TotalBath as it's corrilation with Sales Price is Higher"
   ]
  },
  {
   "cell_type": "code",
   "execution_count": 47,
   "metadata": {},
   "outputs": [
    {
     "name": "stdout",
     "output_type": "stream",
     "text": [
      "             Garage Area  Gr Liv Area\n",
      "Garage Area     1.000000     0.486311\n",
      "Gr Liv Area     0.486311     1.000000\n",
      "              Mas Vnr Area  Year Built\n",
      "Mas Vnr Area      1.000000    0.316717\n",
      "Year Built        0.316717    1.000000\n"
     ]
    }
   ],
   "source": [
    "#High Independance\n",
    "print(train[[\"Garage Area\",\"Gr Liv Area\"]].corr())\n",
    "print(train[[\"Mas Vnr Area\",\"Year Built\"]].corr())"
   ]
  },
  {
   "cell_type": "code",
   "execution_count": 48,
   "metadata": {},
   "outputs": [
    {
     "data": {
      "image/png": "[encoded data removed]",
      "text/plain": [
       "<Figure size 540x180 with 3 Axes>"
      ]
     },
     "metadata": {
      "needs_background": "light"
     },
     "output_type": "display_data"
    },
    {
     "data": {
      "image/png": "[encoded data removed]",
      "text/plain": [
       "<Figure size 360x180 with 2 Axes>"
      ]
     },
     "metadata": {
      "needs_background": "light"
     },
     "output_type": "display_data"
    }
   ],
   "source": [
    "#Highest corrilations are SqFt Interaction Qual, Overall Qual, Garage Area, TotalBath,\n",
    "\n",
    "sns.pairplot(train, y_vars=['SalePrice'], \n",
    "             x_vars=['SqFt Interaction Qual', 'Overall Qual', 'Garage Area']);\n",
    "sns.pairplot(train, y_vars=['SalePrice'], \n",
    "             x_vars=['TotalBath', 'Total Bsmt SF']);"
   ]
  },
  {
   "cell_type": "code",
   "execution_count": 49,
   "metadata": {},
   "outputs": [
    {
     "data": {
      "image/png": "[encoded data removed]",
      "text/plain": [
       "<Figure size 540x180 with 3 Axes>"
      ]
     },
     "metadata": {
      "needs_background": "light"
     },
     "output_type": "display_data"
    },
    {
     "data": {
      "image/png": "[encoded data removed]",
      "text/plain": [
       "<Figure size 540x180 with 3 Axes>"
      ]
     },
     "metadata": {
      "needs_background": "light"
     },
     "output_type": "display_data"
    },
    {
     "data": {
      "image/png": "[encoded data removed]",
      "text/plain": [
       "<Figure size 540x180 with 3 Axes>"
      ]
     },
     "metadata": {
      "needs_background": "light"
     },
     "output_type": "display_data"
    }
   ],
   "source": [
    "#others to check\n",
    "sns.pairplot(train, y_vars=['SalePrice'], \n",
    "             x_vars=['Gr Liv Area','Year Built','TotRms AbvGrd']);\n",
    "sns.pairplot(train, y_vars=['SalePrice'], \n",
    "             x_vars=['Full Bath', 'Mas Vnr Area','1st Flr SF']);\n",
    "sns.pairplot(train, y_vars=['SalePrice'], \n",
    "             x_vars=['TotalLivingSF', 'Garage Cars','Year Remod/Add']);"
   ]
  },
  {
   "cell_type": "code",
   "execution_count": 50,
   "metadata": {},
   "outputs": [
    {
     "name": "stdout",
     "output_type": "stream",
     "text": [
      "               TotRms AbvGrd  Overall Qual\n",
      "TotRms AbvGrd       1.000000      0.391821\n",
      "Overall Qual        0.391821      1.000000\n",
      "             Gr Liv Area  Garage Area\n",
      "Gr Liv Area     1.000000     0.486311\n",
      "Garage Area     0.486311     1.000000\n",
      "             Garage Cars  Gr Liv Area\n",
      "Garage Cars     1.000000     0.483905\n",
      "Gr Liv Area     0.483905     1.000000\n",
      "           Full Bath  TotalBath\n",
      "Full Bath   1.000000   0.712082\n",
      "TotalBath   0.712082   1.000000\n"
     ]
    }
   ],
   "source": [
    "print(TCB_df[['TotRms AbvGrd', 'Overall Qual']].corr()) #low corrilation\n",
    "print(TCB_df[['Gr Liv Area', 'Garage Area']].corr()) #high corrilation, keep 'Gr Liv Area'\n",
    "print(TCB_df[['Garage Cars', 'Gr Liv Area']].corr())  #low corrilation\n",
    "print(TCB_df[['Full Bath', 'TotalBath']].corr()) #high corrilation, keep total bath"
   ]
  },
  {
   "cell_type": "code",
   "execution_count": 51,
   "metadata": {},
   "outputs": [
    {
     "data": {
      "image/png": "[encoded data removed]",
      "text/plain": [
       "<Figure size 540x180 with 3 Axes>"
      ]
     },
     "metadata": {
      "needs_background": "light"
     },
     "output_type": "display_data"
    },
    {
     "data": {
      "image/png": "[encoded data removed]",
      "text/plain": [
       "<Figure size 540x180 with 3 Axes>"
      ]
     },
     "metadata": {
      "needs_background": "light"
     },
     "output_type": "display_data"
    }
   ],
   "source": [
    "sns.pairplot(train, y_vars=['SalePrice'], \n",
    "             x_vars=['Overall Qual', 'TotalLivingSF','TotRms AbvGrd']);\n",
    "sns.pairplot(train, y_vars=['SalePrice'], \n",
    "             x_vars=['Gr Liv Area','Garage Cars', 'TotalBath']);"
   ]
  },
  {
   "cell_type": "code",
   "execution_count": 53,
   "metadata": {},
   "outputs": [
    {
     "data": {
      "text/html": [
       "<div>\n",
       "<style scoped>\n",
       "    .dataframe tbody tr th:only-of-type {\n",
       "        vertical-align: middle;\n",
       "    }\n",
       "\n",
       "    .dataframe tbody tr th {\n",
       "        vertical-align: top;\n",
       "    }\n",
       "\n",
       "    .dataframe thead th {\n",
       "        text-align: right;\n",
       "    }\n",
       "</style>\n",
       "<table border=\"1\" class=\"dataframe\">\n",
       "  <thead>\n",
       "    <tr style=\"text-align: right;\">\n",
       "      <th></th>\n",
       "      <th>Id</th>\n",
       "      <th>PID</th>\n",
       "      <th>MS SubClass</th>\n",
       "      <th>House Style</th>\n",
       "      <th>Overall Qual</th>\n",
       "      <th>Overall Cond</th>\n",
       "      <th>Year Built</th>\n",
       "      <th>Year Remod/Add</th>\n",
       "      <th>Roof Style</th>\n",
       "      <th>Roof Matl</th>\n",
       "      <th>Exterior 1st</th>\n",
       "      <th>Exterior 2nd</th>\n",
       "      <th>Mas Vnr Type</th>\n",
       "      <th>Mas Vnr Area</th>\n",
       "      <th>Exter Qual</th>\n",
       "      <th>Exter Cond</th>\n",
       "      <th>Bsmt Cond</th>\n",
       "      <th>Bsmt Exposure</th>\n",
       "      <th>BsmtFin Type 1</th>\n",
       "      <th>BsmtFin SF 1</th>\n",
       "      <th>BsmtFin Type 2</th>\n",
       "      <th>BsmtFin SF 2</th>\n",
       "      <th>Bsmt Unf SF</th>\n",
       "      <th>Total Bsmt SF</th>\n",
       "      <th>1st Flr SF</th>\n",
       "      <th>2nd Flr SF</th>\n",
       "      <th>Low Qual Fin SF</th>\n",
       "      <th>Gr Liv Area</th>\n",
       "      <th>Bsmt Full Bath</th>\n",
       "      <th>Bsmt Half Bath</th>\n",
       "      <th>Full Bath</th>\n",
       "      <th>Half Bath</th>\n",
       "      <th>Bedroom AbvGr</th>\n",
       "      <th>Kitchen AbvGr</th>\n",
       "      <th>Kitchen Qual</th>\n",
       "      <th>TotRms AbvGrd</th>\n",
       "      <th>Fireplaces</th>\n",
       "      <th>Fireplace Qu</th>\n",
       "      <th>Garage Type</th>\n",
       "      <th>Garage Finish</th>\n",
       "      <th>Garage Cars</th>\n",
       "      <th>Garage Area</th>\n",
       "      <th>Garage Qual</th>\n",
       "      <th>Garage Cond</th>\n",
       "      <th>Paved Drive</th>\n",
       "      <th>Wood Deck SF</th>\n",
       "      <th>Open Porch SF</th>\n",
       "      <th>Enclosed Porch</th>\n",
       "      <th>3Ssn Porch</th>\n",
       "      <th>Screen Porch</th>\n",
       "      <th>Fence</th>\n",
       "      <th>Yr Sold</th>\n",
       "      <th>SalePrice</th>\n",
       "      <th>TotalLivingSF</th>\n",
       "      <th>SqFt Interaction Qual</th>\n",
       "      <th>TotalBath</th>\n",
       "    </tr>\n",
       "  </thead>\n",
       "  <tbody>\n",
       "    <tr>\n",
       "      <th>0</th>\n",
       "      <td>109</td>\n",
       "      <td>533352170</td>\n",
       "      <td>60</td>\n",
       "      <td>2Story</td>\n",
       "      <td>6</td>\n",
       "      <td>8</td>\n",
       "      <td>1976</td>\n",
       "      <td>2005</td>\n",
       "      <td>Gable</td>\n",
       "      <td>CompShg</td>\n",
       "      <td>HdBoard</td>\n",
       "      <td>Plywood</td>\n",
       "      <td>BrkFace</td>\n",
       "      <td>289.0</td>\n",
       "      <td>Gd</td>\n",
       "      <td>TA</td>\n",
       "      <td>TA</td>\n",
       "      <td>No</td>\n",
       "      <td>GLQ</td>\n",
       "      <td>533.0</td>\n",
       "      <td>Unf</td>\n",
       "      <td>0.0</td>\n",
       "      <td>192.0</td>\n",
       "      <td>725.0</td>\n",
       "      <td>725</td>\n",
       "      <td>754</td>\n",
       "      <td>0</td>\n",
       "      <td>1479</td>\n",
       "      <td>0.0</td>\n",
       "      <td>0.0</td>\n",
       "      <td>2</td>\n",
       "      <td>1</td>\n",
       "      <td>3</td>\n",
       "      <td>1</td>\n",
       "      <td>Gd</td>\n",
       "      <td>6</td>\n",
       "      <td>0</td>\n",
       "      <td>NaN</td>\n",
       "      <td>Attchd</td>\n",
       "      <td>RFn</td>\n",
       "      <td>2.0</td>\n",
       "      <td>475.0</td>\n",
       "      <td>TA</td>\n",
       "      <td>TA</td>\n",
       "      <td>Y</td>\n",
       "      <td>0</td>\n",
       "      <td>44</td>\n",
       "      <td>0</td>\n",
       "      <td>0</td>\n",
       "      <td>0</td>\n",
       "      <td>NaN</td>\n",
       "      <td>2010</td>\n",
       "      <td>130500</td>\n",
       "      <td>2204.0</td>\n",
       "      <td>13224.0</td>\n",
       "      <td>2.5</td>\n",
       "    </tr>\n",
       "    <tr>\n",
       "      <th>1</th>\n",
       "      <td>544</td>\n",
       "      <td>531379050</td>\n",
       "      <td>60</td>\n",
       "      <td>2Story</td>\n",
       "      <td>7</td>\n",
       "      <td>5</td>\n",
       "      <td>1996</td>\n",
       "      <td>1997</td>\n",
       "      <td>Gable</td>\n",
       "      <td>CompShg</td>\n",
       "      <td>VinylSd</td>\n",
       "      <td>VinylSd</td>\n",
       "      <td>BrkFace</td>\n",
       "      <td>132.0</td>\n",
       "      <td>Gd</td>\n",
       "      <td>TA</td>\n",
       "      <td>TA</td>\n",
       "      <td>No</td>\n",
       "      <td>GLQ</td>\n",
       "      <td>637.0</td>\n",
       "      <td>Unf</td>\n",
       "      <td>0.0</td>\n",
       "      <td>276.0</td>\n",
       "      <td>913.0</td>\n",
       "      <td>913</td>\n",
       "      <td>1209</td>\n",
       "      <td>0</td>\n",
       "      <td>2122</td>\n",
       "      <td>1.0</td>\n",
       "      <td>0.0</td>\n",
       "      <td>2</td>\n",
       "      <td>1</td>\n",
       "      <td>4</td>\n",
       "      <td>1</td>\n",
       "      <td>Gd</td>\n",
       "      <td>8</td>\n",
       "      <td>1</td>\n",
       "      <td>TA</td>\n",
       "      <td>Attchd</td>\n",
       "      <td>RFn</td>\n",
       "      <td>2.0</td>\n",
       "      <td>559.0</td>\n",
       "      <td>TA</td>\n",
       "      <td>TA</td>\n",
       "      <td>Y</td>\n",
       "      <td>0</td>\n",
       "      <td>74</td>\n",
       "      <td>0</td>\n",
       "      <td>0</td>\n",
       "      <td>0</td>\n",
       "      <td>NaN</td>\n",
       "      <td>2009</td>\n",
       "      <td>220000</td>\n",
       "      <td>3035.0</td>\n",
       "      <td>21245.0</td>\n",
       "      <td>3.5</td>\n",
       "    </tr>\n",
       "  </tbody>\n",
       "</table>\n",
       "</div>"
      ],
      "text/plain": [
       "    Id        PID  MS SubClass House Style  Overall Qual  Overall Cond  \\\n",
       "0  109  533352170           60      2Story             6             8   \n",
       "1  544  531379050           60      2Story             7             5   \n",
       "\n",
       "   Year Built  Year Remod/Add Roof Style Roof Matl Exterior 1st Exterior 2nd  \\\n",
       "0        1976            2005      Gable   CompShg      HdBoard      Plywood   \n",
       "1        1996            1997      Gable   CompShg      VinylSd      VinylSd   \n",
       "\n",
       "  Mas Vnr Type  Mas Vnr Area Exter Qual Exter Cond Bsmt Cond Bsmt Exposure  \\\n",
       "0      BrkFace         289.0         Gd         TA        TA            No   \n",
       "1      BrkFace         132.0         Gd         TA        TA            No   \n",
       "\n",
       "  BsmtFin Type 1  BsmtFin SF 1 BsmtFin Type 2  BsmtFin SF 2  Bsmt Unf SF  \\\n",
       "0            GLQ         533.0            Unf           0.0        192.0   \n",
       "1            GLQ         637.0            Unf           0.0        276.0   \n",
       "\n",
       "   Total Bsmt SF  1st Flr SF  2nd Flr SF  Low Qual Fin SF  Gr Liv Area  \\\n",
       "0          725.0         725         754                0         1479   \n",
       "1          913.0         913        1209                0         2122   \n",
       "\n",
       "   Bsmt Full Bath  Bsmt Half Bath  Full Bath  Half Bath  Bedroom AbvGr  \\\n",
       "0             0.0             0.0          2          1              3   \n",
       "1             1.0             0.0          2          1              4   \n",
       "\n",
       "   Kitchen AbvGr Kitchen Qual  TotRms AbvGrd  Fireplaces Fireplace Qu  \\\n",
       "0              1           Gd              6           0          NaN   \n",
       "1              1           Gd              8           1           TA   \n",
       "\n",
       "  Garage Type Garage Finish  Garage Cars  Garage Area Garage Qual Garage Cond  \\\n",
       "0      Attchd           RFn          2.0        475.0          TA          TA   \n",
       "1      Attchd           RFn          2.0        559.0          TA          TA   \n",
       "\n",
       "  Paved Drive  Wood Deck SF  Open Porch SF  Enclosed Porch  3Ssn Porch  \\\n",
       "0           Y             0             44               0           0   \n",
       "1           Y             0             74               0           0   \n",
       "\n",
       "   Screen Porch Fence  Yr Sold  SalePrice  TotalLivingSF  \\\n",
       "0             0   NaN     2010     130500         2204.0   \n",
       "1             0   NaN     2009     220000         3035.0   \n",
       "\n",
       "   SqFt Interaction Qual  TotalBath  \n",
       "0                13224.0        2.5  \n",
       "1                21245.0        3.5  "
      ]
     },
     "execution_count": 53,
     "metadata": {},
     "output_type": "execute_result"
    }
   ],
   "source": [
    "train.head(2)"
   ]
  },
  {
   "cell_type": "code",
   "execution_count": null,
   "metadata": {},
   "outputs": [],
   "source": [
    "# TCB Relevant Features Left\n",
    "# Overall Qual     0.800207\n",
    "# TotalLivingSF    0.783108\n",
    "# Gr Liv Area      0.697038\n",
    "# Garage Cars      0.648197\n",
    "# TotalBath        0.630098\n",
    "# Garage Yr Blt    0.533922\n",
    "# TotRms AbvGrd    0.504014\n",
    "\n",
    "# Train Relevant Features Left: \n",
    "# SqFt Interaction Qual    0.863908\n",
    "# Overall Qual             0.800207\n",
    "# Garage Area              0.650246\n",
    "# TotalBath                0.630098\n",
    "# Total Bsmt SF            0.629303\n",
    "# Year Built               0.571849\n",
    "# Full Bath                0.537969\n",
    "# Garage Yr Blt            0.533922\n",
    "# TotRms AbvGrd            0.504014\n",
    "# Mas Vnr Area             0.503579\n",
    "\n",
    "#Decision to remove Overall Qual and SqFt Interaction Qual as TCB shoulnt promote \n",
    "#a full home renovation.\n",
    "\n",
    "# Final Manual Feature Selection is\n",
    "# TotalLivingSF    0.783108\n",
    "# Gr Liv Area      0.697038\n",
    "# Garage Cars      0.648197\n",
    "# TotalBath        0.630098\n",
    "# TotRms AbvGrd    0.504014\n",
    "\n",
    "\n",
    "#Lets see how this compares to Lasso"
   ]
  },
  {
   "cell_type": "markdown",
   "metadata": {},
   "source": [
    "# Pre Processing & Modeling"
   ]
  },
  {
   "cell_type": "markdown",
   "metadata": {},
   "source": [
    "**Feature and Model Selection**"
   ]
  },
  {
   "cell_type": "markdown",
   "metadata": {},
   "source": [
    "Features to score: Overall Qual, Total Living Sqft, Gr Liv Area, Garage Cars, TotalBath, TotRms AbvGrd.\n",
    "\n",
    "As the output of my project will be the numeric 'Sale Price', I will use linear regression and multiple linear regression modeling algorithm to evaluate the data given to me. \n",
    "\n",
    "I will log salesprice before testing as there are so many outliers for more accutate results.\n",
    "I will scale data as the units of measurements are different for the features chose. \n",
    "\n",
    "The success of my modeles will be evaluated by the regression metric 𝑅2. I will use R2 as it is easily interpratable and does not depend on the scale of \"Sales Price\".\n",
    "\n"
   ]
  },
  {
   "cell_type": "markdown",
   "metadata": {},
   "source": [
    "**Dummy Columns**"
   ]
  },
  {
   "cell_type": "code",
   "execution_count": 54,
   "metadata": {},
   "outputs": [],
   "source": [
    "train = pd.get_dummies(train, columns = ['House Style','Kitchen Qual','Bsmt Cond','BsmtFin Type 2','BsmtFin Type 1', \n",
    "                                        'Bsmt Exposure','Garage Type','Garage Finish','Garage Qual','Garage Cond'])\n",
    "\n",
    "                                      \n",
    "test = pd.get_dummies(test, columns = ['House Style','Kitchen Qual','Bsmt Cond','BsmtFin Type 2','BsmtFin Type 1',\n",
    "                                       'Bsmt Exposure','Garage Type','Garage Finish','Garage Qual','Garage Cond'])\n",
    "\n",
    "#Object Columns left: 'Fence','Paved Drive','Fireplace Qu','Exter Qual','Exter Cond','Roof Style','Roof Matl',\n",
    "    #'Exterior 1st','Exterior 2nd','Mas Vnr Type'"
   ]
  },
  {
   "cell_type": "code",
   "execution_count": null,
   "metadata": {},
   "outputs": [],
   "source": [
    "# Total Relevant Features Train: \n",
    "# Overall Qual             0.800207\n",
    "# Year Built               0.571849\n",
    "# Year Remod/Add           0.550370\n",
    "# Mas Vnr Area             0.503579\n",
    "# Total Bsmt SF            0.629303\n",
    "# 1st Flr SF               0.618486\n",
    "# Gr Liv Area              0.697038\n",
    "# Full Bath                0.537969\n",
    "# TotRms AbvGrd            0.504014\n",
    "# Garage Yr Blt            0.533922\n",
    "# Garage Cars              0.648197\n",
    "# Garage Area              0.650246\n",
    "# TotalLivingSF            0.783108\n",
    "# SqFt Interaction Qual    0.863908\n",
    "# TotalBath                0.630098\n",
    "\n",
    "# Relevant Features Left Train: \n",
    "# SqFt Interaction Qual    0.863908\n",
    "# Overall Qual             0.800207\n",
    "# Garage Area              0.650246\n",
    "# TotalBath                0.630098\n",
    "# Total Bsmt SF            0.629303\n",
    "# Year Built               0.571849\n",
    "# Full Bath                0.537969\n",
    "# Garage Yr Blt            0.533922\n",
    "# TotRms AbvGrd            0.504014\n",
    "# Mas Vnr Area             0.503579\n",
    "\n",
    "# TCB Relevant Features\n",
    "# Overall Qual     0.800207\n",
    "# Gr Liv Area      0.697038\n",
    "# TotRms AbvGrd    0.504014\n",
    "# Full Bath        0.537969\n",
    "# Garage Yr Blt    0.533922\n",
    "# Garage Cars      0.648197\n",
    "# Garage Area      0.650246\n",
    "# TotalBath        0.630098\n",
    "# TotalLivingSF    0.783108\n",
    "\n",
    "# TCB Relevant Features Left\n",
    "# Overall Qual     0.800207\n",
    "# TotalLivingSF    0.783108\n",
    "# Gr Liv Area      0.697038\n",
    "# Garage Cars      0.648197\n",
    "# TotalBath        0.630098\n",
    "# Garage Yr Blt    0.533922\n",
    "# TotRms AbvGrd    0.504014"
   ]
  },
  {
   "cell_type": "markdown",
   "metadata": {},
   "source": [
    "**Initiate Model**"
   ]
  },
  {
   "cell_type": "code",
   "execution_count": null,
   "metadata": {},
   "outputs": [],
   "source": [
    "#Manual Feature Selection\n",
    "# TotalLivingSF    0.783108\n",
    "# Gr Liv Area      0.697038\n",
    "# Garage Cars      0.648197\n",
    "# TotalBath        0.630098\n",
    "# TotRms AbvGrd    0.504014\n",
    "\n",
    "# X = train[['TotalLivingSF', 'Gr Liv Area', 'Garage Cars', 'TotalBath', 'TotRms AbvGrd']]\n",
    "# y = train['SalePrice']\n",
    "#Let's try more. Lasso didnt help"
   ]
  },
  {
   "cell_type": "code",
   "execution_count": null,
   "metadata": {},
   "outputs": [],
   "source": [
    "#All TCB relevant Features\n",
    "# Overall Qual     0.800207\n",
    "# Gr Liv Area      0.697038\n",
    "# TotRms AbvGrd    0.504014\n",
    "# Full Bath        0.537969\n",
    "# Garage Yr Blt    0.533922\n",
    "# Garage Cars      0.648197\n",
    "# Garage Area      0.650246\n",
    "# TotalBath        0.630098\n",
    "# TotalLivingSF    0.783108\n",
    "\n",
    "# Lasso Kept All:'Overall Qual', 'Gr Liv Area', 'TotRms AbvGrd', 'Full Bath',\n",
    "#        'Garage Cars', 'Garage Area', 'TotalBath', 'TotalLivingSF'\n",
    "\n",
    "# Let's try even larger\n",
    "\n",
    "X = train[['Overall Qual', 'Gr Liv Area', 'TotRms AbvGrd', 'Full Bath', 'Garage Cars', 'Garage Area', 'TotalBath', 'TotalLivingSF']]\n",
    "y = train['SalePrice']\n",
    "\n"
   ]
  },
  {
   "cell_type": "code",
   "execution_count": null,
   "metadata": {},
   "outputs": [],
   "source": [
    "# Overall Qual             0.800207\n",
    "# Year Built               0.571849\n",
    "# Year Remod/Add           0.550370\n",
    "# Mas Vnr Area             0.503579\n",
    "# Total Bsmt SF            0.629303\n",
    "# 1st Flr SF               0.618486\n",
    "# Gr Liv Area              0.697038\n",
    "# Full Bath                0.537969\n",
    "# TotRms AbvGrd            0.504014\n",
    "# Garage Yr Blt            0.533922\n",
    "# Garage Cars              0.648197\n",
    "# Garage Area              0.650246\n",
    "# TotalLivingSF            0.783108\n",
    "# SqFt Interaction Qual    0.863908\n",
    "# TotalBath                0.630098\n",
    "\n",
    "# Lasso slightly better (0.7841206105394782, 0.8390127345414007) All df relevalt features\n",
    "# 'Overall Qual', 'Mas Vnr Area', 'Total Bsmt SF', '1st Flr SF',\n",
    "#        'Gr Liv Area', 'Full Bath', 'TotRms AbvGrd', 'Garage Cars',\n",
    "#        'Garage Area', 'SqFt Interaction Qual', 'TotalBath'\n",
    "\n",
    "\n",
    "features = ['Overall Qual','Mas Vnr Area','Total Bsmt SF','1st Flr SF','Gr Liv Area','Full Bath','TotRms AbvGrd',\n",
    "           'Garage Cars','Garage Area','TotalLivingSF','SqFt Interaction Qual','TotalBath']\n",
    "\n",
    "X = train[features]\n",
    "y = train['SalePrice']"
   ]
  },
  {
   "cell_type": "code",
   "execution_count": null,
   "metadata": {},
   "outputs": [],
   "source": [
    "# Lets try all TCB features: removed grageyear &\n",
    "\n",
    "features = ['Overall Cond','Overall Qual','2nd Flr SF',\n",
    "                      'Bedroom AbvGr','MS SubClass',\n",
    "                      'Gr Liv Area','TotRms AbvGrd', 'BsmtFin SF 1','BsmtFin SF 2','Kitchen AbvGr',\n",
    "                      'Bsmt Full Bath', 'Bsmt Half Bath',\n",
    "                      'Full Bath', 'Half Bath',\n",
    "                      'Garage Cars','Garage Area',\n",
    "                      'Wood Deck SF', 'Open Porch SF', 'Enclosed Porch',\n",
    "                      '3Ssn Porch', 'TotalBath','TotalLivingSF']\n",
    "\n",
    "#Object Types\n",
    "# 'BsmtFin Type 1'\n",
    "# 'BsmtFin Type 2'\n",
    "# 'Bsmt Cond'\n",
    "# 'House Style'\n",
    "# 'Bsmt Exposure'\n",
    "# 'Kitchen Qual'\n",
    "# 'Garage Type'\n",
    "# 'Garage Finish'\n",
    "# 'Garage Qual'\n",
    "# 'Garage Cond'\n",
    "\n",
    "'Fence','Paved Drive','Fireplace Qu','Exter Qual','Exter Cond','Roof Style','Roof Matl',\n",
    "    #'Exterior 1st','Exterior 2nd','Mas Vnr Type'\n",
    "1Story\n",
    "\n"
   ]
  },
  {
   "cell_type": "code",
   "execution_count": 56,
   "metadata": {},
   "outputs": [],
   "source": [
    "#All numeric columns\n",
    "X = train._get_numeric_data().drop(columns='SalePrice')\n",
    "\n",
    "y = train['SalePrice']"
   ]
  },
  {
   "cell_type": "code",
   "execution_count": null,
   "metadata": {},
   "outputs": [],
   "source": [
    "#train['SalePrice'] = train['SalePrice'].map(np.log)"
   ]
  },
  {
   "cell_type": "code",
   "execution_count": null,
   "metadata": {},
   "outputs": [],
   "source": [
    "#X = train[['Overall Qual']]"
   ]
  },
  {
   "cell_type": "code",
   "execution_count": null,
   "metadata": {},
   "outputs": [],
   "source": [
    "#X = train[['TotalLivingSF']]"
   ]
  },
  {
   "cell_type": "code",
   "execution_count": null,
   "metadata": {},
   "outputs": [],
   "source": [
    "#X = train[['Gr Liv Area', 'Garage Cars']]"
   ]
  },
  {
   "cell_type": "code",
   "execution_count": null,
   "metadata": {},
   "outputs": [],
   "source": [
    "#X = train[['Gr Liv Area']]"
   ]
  },
  {
   "cell_type": "code",
   "execution_count": null,
   "metadata": {},
   "outputs": [],
   "source": [
    "#X = train[['Garage Cars']]"
   ]
  },
  {
   "cell_type": "code",
   "execution_count": null,
   "metadata": {},
   "outputs": [],
   "source": [
    "#X = train[['TotalBath']]"
   ]
  },
  {
   "cell_type": "code",
   "execution_count": null,
   "metadata": {},
   "outputs": [],
   "source": [
    "#X = train[['TotRms AbvGrd']]"
   ]
  },
  {
   "cell_type": "markdown",
   "metadata": {},
   "source": [
    "**Train/test split data**"
   ]
  },
  {
   "cell_type": "code",
   "execution_count": 57,
   "metadata": {},
   "outputs": [],
   "source": [
    "X_train, X_test, y_train, y_test = train_test_split(X, y, random_state=42)"
   ]
  },
  {
   "cell_type": "markdown",
   "metadata": {},
   "source": [
    "**Scale data**"
   ]
  },
  {
   "cell_type": "code",
   "execution_count": null,
   "metadata": {},
   "outputs": [],
   "source": [
    "# y_train_log = y_train.map(np.log)\n",
    "# y_test_log = y_test.map(np.log)"
   ]
  },
  {
   "cell_type": "code",
   "execution_count": 58,
   "metadata": {},
   "outputs": [],
   "source": [
    "ss = StandardScaler()\n",
    "\n",
    "Xs_train = ss.fit_transform(X_train)\n",
    "X_test = ss.transform(X_test)"
   ]
  },
  {
   "cell_type": "markdown",
   "metadata": {},
   "source": [
    "**Instantiate and fit**"
   ]
  },
  {
   "cell_type": "code",
   "execution_count": 59,
   "metadata": {
    "scrolled": true
   },
   "outputs": [
    {
     "data": {
      "text/plain": [
       "LinearRegression(copy_X=True, fit_intercept=True, n_jobs=None, normalize=False)"
      ]
     },
     "execution_count": 59,
     "metadata": {},
     "output_type": "execute_result"
    }
   ],
   "source": [
    "# lr = LinearRegression()\n",
    "# lr.fit(X_train, y_train)\n",
    "\n",
    "lr = LinearRegression()\n",
    "lr.fit(Xs_train, y_train)\n",
    "\n",
    "# lr = LinearRegression()\n",
    "# lr.fit(X_train,  y_train_log)\n",
    "\n",
    "#lr.fit(Xs_train,  y_train_log)"
   ]
  },
  {
   "cell_type": "markdown",
   "metadata": {},
   "source": [
    "**Evaluate Model**"
   ]
  },
  {
   "cell_type": "code",
   "execution_count": 60,
   "metadata": {},
   "outputs": [
    {
     "data": {
      "text/plain": [
       "0.7710019941008704"
      ]
     },
     "execution_count": 60,
     "metadata": {},
     "output_type": "execute_result"
    }
   ],
   "source": [
    "# lr.score(X_train, y_train) \n",
    "#0.7710019941008703\n",
    "\n",
    "lr.score(Xs_train, y_train)\n",
    "0.7710019941008704\n",
    "\n",
    "# lr.score(X_train, y_train_log)\n",
    "#0.8000960714055056\n",
    "\n",
    "# lr.score(Xs_train, y_train_log)\n",
    "#0.8000960714055056\n",
    "\n",
    "#TCBALL0.7710019941008704\n",
    "\n",
    "#All0.7710019941008704"
   ]
  },
  {
   "cell_type": "code",
   "execution_count": 61,
   "metadata": {},
   "outputs": [
    {
     "data": {
      "text/plain": [
       "-1.0558701339924738e+23"
      ]
     },
     "execution_count": 61,
     "metadata": {},
     "output_type": "execute_result"
    }
   ],
   "source": [
    "# lr.score(X_test, y_test)\n",
    "#0.8167458961515633\n",
    "\n",
    "lr.score(X_test, y_test)\n",
    "#0.8167458961515706\n",
    "\n",
    "# lr.score(X_test, y_test_log)\n",
    "#0.8002402971733166\n",
    "\n",
    "#lr.score(X_test, y_test_log)\n",
    "#0.8002402971733233\n",
    "\n",
    "#TCBAll 0.8226400933117244\n",
    "\n",
    "#All-1.0558701339924738e+23"
   ]
  },
  {
   "cell_type": "code",
   "execution_count": 62,
   "metadata": {},
   "outputs": [
    {
     "data": {
      "text/plain": [
       "-1.853594673486409e+19"
      ]
     },
     "execution_count": 62,
     "metadata": {},
     "output_type": "execute_result"
    }
   ],
   "source": [
    "# cross_val_score(lr,X_train, y_train).mean() \n",
    "#0.7547645392833602\n",
    "\n",
    "cross_val_score(lr,Xs_train, y_train).mean() \n",
    "#0.7547645392833615\n",
    "\n",
    "# cross_val_score(lr, X_train, y_train_log).mean()\n",
    "#0.7887774127694354\n",
    "\n",
    "# cross_val_score(lr, Xs_train, y_train_log).mean()\n",
    "#0.7887774127694364\n",
    "\n",
    "#TCBAll 0.7542193473817391\n",
    "\n",
    "\n",
    "All-1.853594673486409e+19\n"
   ]
  },
  {
   "cell_type": "code",
   "execution_count": 63,
   "metadata": {},
   "outputs": [
    {
     "data": {
      "text/html": [
       "<div>\n",
       "<style scoped>\n",
       "    .dataframe tbody tr th:only-of-type {\n",
       "        vertical-align: middle;\n",
       "    }\n",
       "\n",
       "    .dataframe tbody tr th {\n",
       "        vertical-align: top;\n",
       "    }\n",
       "\n",
       "    .dataframe thead th {\n",
       "        text-align: right;\n",
       "    }\n",
       "</style>\n",
       "<table border=\"1\" class=\"dataframe\">\n",
       "  <thead>\n",
       "    <tr style=\"text-align: right;\">\n",
       "      <th></th>\n",
       "      <th>coef val</th>\n",
       "    </tr>\n",
       "    <tr>\n",
       "      <th>var</th>\n",
       "      <th></th>\n",
       "    </tr>\n",
       "  </thead>\n",
       "  <tbody>\n",
       "    <tr>\n",
       "      <th>Kitchen Qual_TA</th>\n",
       "      <td>-4.794434e+16</td>\n",
       "    </tr>\n",
       "    <tr>\n",
       "      <th>Kitchen Qual_Gd</th>\n",
       "      <td>-4.714343e+16</td>\n",
       "    </tr>\n",
       "    <tr>\n",
       "      <th>TotalLivingSF</th>\n",
       "      <td>-3.134082e+16</td>\n",
       "    </tr>\n",
       "    <tr>\n",
       "      <th>TotalBath</th>\n",
       "      <td>-2.459887e+16</td>\n",
       "    </tr>\n",
       "    <tr>\n",
       "      <th>Kitchen Qual_Ex</th>\n",
       "      <td>-2.429419e+16</td>\n",
       "    </tr>\n",
       "    <tr>\n",
       "      <th>Total Bsmt SF</th>\n",
       "      <td>-1.939316e+16</td>\n",
       "    </tr>\n",
       "    <tr>\n",
       "      <th>Garage Finish_Unf</th>\n",
       "      <td>-1.864206e+16</td>\n",
       "    </tr>\n",
       "    <tr>\n",
       "      <th>Garage Finish_RFn</th>\n",
       "      <td>-1.703496e+16</td>\n",
       "    </tr>\n",
       "    <tr>\n",
       "      <th>Garage Finish_Fin</th>\n",
       "      <td>-1.674799e+16</td>\n",
       "    </tr>\n",
       "    <tr>\n",
       "      <th>Kitchen Qual_Fa</th>\n",
       "      <td>-1.345090e+16</td>\n",
       "    </tr>\n",
       "    <tr>\n",
       "      <th>Bsmt Cond_TA</th>\n",
       "      <td>-1.158657e+16</td>\n",
       "    </tr>\n",
       "    <tr>\n",
       "      <th>Garage Qual_Ex</th>\n",
       "      <td>-9.977742e+15</td>\n",
       "    </tr>\n",
       "    <tr>\n",
       "      <th>Bsmt Cond_Gd</th>\n",
       "      <td>-8.996493e+15</td>\n",
       "    </tr>\n",
       "    <tr>\n",
       "      <th>Bsmt Cond_Fa</th>\n",
       "      <td>-7.587645e+15</td>\n",
       "    </tr>\n",
       "    <tr>\n",
       "      <th>Gr Liv Area</th>\n",
       "      <td>-7.031876e+15</td>\n",
       "    </tr>\n",
       "    <tr>\n",
       "      <th>Bsmt Cond_Po</th>\n",
       "      <td>-1.124226e+15</td>\n",
       "    </tr>\n",
       "    <tr>\n",
       "      <th>House Style_1Story</th>\n",
       "      <td>-7.091229e+14</td>\n",
       "    </tr>\n",
       "    <tr>\n",
       "      <th>House Style_2Story</th>\n",
       "      <td>-6.440376e+14</td>\n",
       "    </tr>\n",
       "    <tr>\n",
       "      <th>House Style_1.5Fin</th>\n",
       "      <td>-4.398873e+14</td>\n",
       "    </tr>\n",
       "    <tr>\n",
       "      <th>House Style_SLvl</th>\n",
       "      <td>-3.078034e+14</td>\n",
       "    </tr>\n",
       "    <tr>\n",
       "      <th>House Style_SFoyer</th>\n",
       "      <td>-2.175422e+14</td>\n",
       "    </tr>\n",
       "    <tr>\n",
       "      <th>House Style_2.5Unf</th>\n",
       "      <td>-1.266275e+14</td>\n",
       "    </tr>\n",
       "    <tr>\n",
       "      <th>House Style_1.5Unf</th>\n",
       "      <td>-1.212775e+14</td>\n",
       "    </tr>\n",
       "    <tr>\n",
       "      <th>House Style_2.5Fin</th>\n",
       "      <td>-5.186959e+13</td>\n",
       "    </tr>\n",
       "    <tr>\n",
       "      <th>SqFt Interaction Qual</th>\n",
       "      <td>-1.076800e+04</td>\n",
       "    </tr>\n",
       "    <tr>\n",
       "      <th>Yr Sold</th>\n",
       "      <td>-1.024850e+04</td>\n",
       "    </tr>\n",
       "    <tr>\n",
       "      <th>Id</th>\n",
       "      <td>-9.443118e+03</td>\n",
       "    </tr>\n",
       "    <tr>\n",
       "      <th>MS SubClass</th>\n",
       "      <td>-7.407319e+03</td>\n",
       "    </tr>\n",
       "    <tr>\n",
       "      <th>Kitchen AbvGr</th>\n",
       "      <td>-3.005500e+03</td>\n",
       "    </tr>\n",
       "    <tr>\n",
       "      <th>Bedroom AbvGr</th>\n",
       "      <td>-1.782000e+03</td>\n",
       "    </tr>\n",
       "    <tr>\n",
       "      <th>PID</th>\n",
       "      <td>-1.014910e+03</td>\n",
       "    </tr>\n",
       "    <tr>\n",
       "      <th>Garage Qual_Po</th>\n",
       "      <td>0.000000e+00</td>\n",
       "    </tr>\n",
       "    <tr>\n",
       "      <th>Open Porch SF</th>\n",
       "      <td>9.437500e+01</td>\n",
       "    </tr>\n",
       "    <tr>\n",
       "      <th>3Ssn Porch</th>\n",
       "      <td>9.870000e+02</td>\n",
       "    </tr>\n",
       "    <tr>\n",
       "      <th>Enclosed Porch</th>\n",
       "      <td>2.167250e+03</td>\n",
       "    </tr>\n",
       "    <tr>\n",
       "      <th>Wood Deck SF</th>\n",
       "      <td>2.254750e+03</td>\n",
       "    </tr>\n",
       "    <tr>\n",
       "      <th>Year Remod/Add</th>\n",
       "      <td>2.447830e+03</td>\n",
       "    </tr>\n",
       "    <tr>\n",
       "      <th>Fireplaces</th>\n",
       "      <td>3.211000e+03</td>\n",
       "    </tr>\n",
       "    <tr>\n",
       "      <th>Mas Vnr Area</th>\n",
       "      <td>3.248831e+03</td>\n",
       "    </tr>\n",
       "    <tr>\n",
       "      <th>TotRms AbvGrd</th>\n",
       "      <td>4.692000e+03</td>\n",
       "    </tr>\n",
       "    <tr>\n",
       "      <th>Screen Porch</th>\n",
       "      <td>5.003625e+03</td>\n",
       "    </tr>\n",
       "    <tr>\n",
       "      <th>Overall Cond</th>\n",
       "      <td>5.600056e+03</td>\n",
       "    </tr>\n",
       "    <tr>\n",
       "      <th>Garage Area</th>\n",
       "      <td>5.641188e+03</td>\n",
       "    </tr>\n",
       "    <tr>\n",
       "      <th>Garage Cars</th>\n",
       "      <td>8.367500e+03</td>\n",
       "    </tr>\n",
       "    <tr>\n",
       "      <th>Year Built</th>\n",
       "      <td>1.017452e+04</td>\n",
       "    </tr>\n",
       "    <tr>\n",
       "      <th>Overall Qual</th>\n",
       "      <td>2.206294e+04</td>\n",
       "    </tr>\n",
       "    <tr>\n",
       "      <th>Bsmt Cond_Ex</th>\n",
       "      <td>1.798082e+08</td>\n",
       "    </tr>\n",
       "    <tr>\n",
       "      <th>Garage Type_N/A</th>\n",
       "      <td>2.361030e+14</td>\n",
       "    </tr>\n",
       "    <tr>\n",
       "      <th>Garage Finish_N/A</th>\n",
       "      <td>2.361030e+14</td>\n",
       "    </tr>\n",
       "    <tr>\n",
       "      <th>Low Qual Fin SF</th>\n",
       "      <td>6.642008e+14</td>\n",
       "    </tr>\n",
       "    <tr>\n",
       "      <th>BsmtFin Type 2_GLQ</th>\n",
       "      <td>1.445007e+15</td>\n",
       "    </tr>\n",
       "    <tr>\n",
       "      <th>Garage Type_CarPort</th>\n",
       "      <td>1.890512e+15</td>\n",
       "    </tr>\n",
       "    <tr>\n",
       "      <th>BsmtFin Type 2_ALQ</th>\n",
       "      <td>1.930800e+15</td>\n",
       "    </tr>\n",
       "    <tr>\n",
       "      <th>BsmtFin Type 2_BLQ</th>\n",
       "      <td>2.098403e+15</td>\n",
       "    </tr>\n",
       "    <tr>\n",
       "      <th>Bsmt Exposure_Mn</th>\n",
       "      <td>2.190715e+15</td>\n",
       "    </tr>\n",
       "    <tr>\n",
       "      <th>BsmtFin Type 2_LwQ</th>\n",
       "      <td>2.395787e+15</td>\n",
       "    </tr>\n",
       "    <tr>\n",
       "      <th>Bsmt Exposure_Gd</th>\n",
       "      <td>2.526422e+15</td>\n",
       "    </tr>\n",
       "    <tr>\n",
       "      <th>BsmtFin Type 2_Rec</th>\n",
       "      <td>2.868324e+15</td>\n",
       "    </tr>\n",
       "    <tr>\n",
       "      <th>Bsmt Exposure_Av</th>\n",
       "      <td>2.941440e+15</td>\n",
       "    </tr>\n",
       "    <tr>\n",
       "      <th>Garage Type_2Types</th>\n",
       "      <td>3.127686e+15</td>\n",
       "    </tr>\n",
       "    <tr>\n",
       "      <th>Bsmt Exposure_No</th>\n",
       "      <td>3.887650e+15</td>\n",
       "    </tr>\n",
       "    <tr>\n",
       "      <th>Bsmt Half Bath</th>\n",
       "      <td>3.894444e+15</td>\n",
       "    </tr>\n",
       "    <tr>\n",
       "      <th>Garage Type_Basment</th>\n",
       "      <td>4.099482e+15</td>\n",
       "    </tr>\n",
       "    <tr>\n",
       "      <th>BsmtFin Type 2_Unf</th>\n",
       "      <td>4.684031e+15</td>\n",
       "    </tr>\n",
       "    <tr>\n",
       "      <th>Half Bath</th>\n",
       "      <td>7.635799e+15</td>\n",
       "    </tr>\n",
       "    <tr>\n",
       "      <th>Garage Type_BuiltIn</th>\n",
       "      <td>9.014471e+15</td>\n",
       "    </tr>\n",
       "    <tr>\n",
       "      <th>Garage Cond_Po</th>\n",
       "      <td>1.225813e+16</td>\n",
       "    </tr>\n",
       "    <tr>\n",
       "      <th>BsmtFin SF 2</th>\n",
       "      <td>1.348099e+16</td>\n",
       "    </tr>\n",
       "    <tr>\n",
       "      <th>BsmtFin Type 1_LwQ</th>\n",
       "      <td>1.408405e+16</td>\n",
       "    </tr>\n",
       "    <tr>\n",
       "      <th>Garage Qual_Gd</th>\n",
       "      <td>1.440822e+16</td>\n",
       "    </tr>\n",
       "    <tr>\n",
       "      <th>Garage Cond_Gd</th>\n",
       "      <td>1.548982e+16</td>\n",
       "    </tr>\n",
       "    <tr>\n",
       "      <th>Bsmt Full Bath</th>\n",
       "      <td>1.601471e+16</td>\n",
       "    </tr>\n",
       "    <tr>\n",
       "      <th>Garage Type_Detchd</th>\n",
       "      <td>1.613443e+16</td>\n",
       "    </tr>\n",
       "    <tr>\n",
       "      <th>Full Bath</th>\n",
       "      <td>1.673084e+16</td>\n",
       "    </tr>\n",
       "    <tr>\n",
       "      <th>Garage Type_Attchd</th>\n",
       "      <td>1.794956e+16</td>\n",
       "    </tr>\n",
       "    <tr>\n",
       "      <th>BsmtFin Type 1_Rec</th>\n",
       "      <td>1.794999e+16</td>\n",
       "    </tr>\n",
       "    <tr>\n",
       "      <th>BsmtFin Type 1_BLQ</th>\n",
       "      <td>1.863666e+16</td>\n",
       "    </tr>\n",
       "    <tr>\n",
       "      <th>Garage Cond_Ex</th>\n",
       "      <td>1.964180e+16</td>\n",
       "    </tr>\n",
       "    <tr>\n",
       "      <th>1st Flr SF</th>\n",
       "      <td>2.135527e+16</td>\n",
       "    </tr>\n",
       "    <tr>\n",
       "      <th>BsmtFin Type 1_ALQ</th>\n",
       "      <td>2.212249e+16</td>\n",
       "    </tr>\n",
       "    <tr>\n",
       "      <th>2nd Flr SF</th>\n",
       "      <td>2.274719e+16</td>\n",
       "    </tr>\n",
       "    <tr>\n",
       "      <th>BsmtFin Type 1_Unf</th>\n",
       "      <td>2.833168e+16</td>\n",
       "    </tr>\n",
       "    <tr>\n",
       "      <th>BsmtFin Type 1_GLQ</th>\n",
       "      <td>2.881399e+16</td>\n",
       "    </tr>\n",
       "    <tr>\n",
       "      <th>Garage Cond_Fa</th>\n",
       "      <td>3.210358e+16</td>\n",
       "    </tr>\n",
       "    <tr>\n",
       "      <th>Garage Qual_Fa</th>\n",
       "      <td>3.244035e+16</td>\n",
       "    </tr>\n",
       "    <tr>\n",
       "      <th>Bsmt Unf SF</th>\n",
       "      <td>3.716190e+16</td>\n",
       "    </tr>\n",
       "    <tr>\n",
       "      <th>Garage Cond_N/A</th>\n",
       "      <td>3.806415e+16</td>\n",
       "    </tr>\n",
       "    <tr>\n",
       "      <th>BsmtFin SF 1</th>\n",
       "      <td>3.999251e+16</td>\n",
       "    </tr>\n",
       "    <tr>\n",
       "      <th>Garage Qual_N/A</th>\n",
       "      <td>4.377126e+16</td>\n",
       "    </tr>\n",
       "    <tr>\n",
       "      <th>Garage Qual_TA</th>\n",
       "      <td>4.893906e+16</td>\n",
       "    </tr>\n",
       "    <tr>\n",
       "      <th>Garage Cond_TA</th>\n",
       "      <td>5.898209e+16</td>\n",
       "    </tr>\n",
       "  </tbody>\n",
       "</table>\n",
       "</div>"
      ],
      "text/plain": [
       "                           coef val\n",
       "var                                \n",
       "Kitchen Qual_TA       -4.794434e+16\n",
       "Kitchen Qual_Gd       -4.714343e+16\n",
       "TotalLivingSF         -3.134082e+16\n",
       "TotalBath             -2.459887e+16\n",
       "Kitchen Qual_Ex       -2.429419e+16\n",
       "Total Bsmt SF         -1.939316e+16\n",
       "Garage Finish_Unf     -1.864206e+16\n",
       "Garage Finish_RFn     -1.703496e+16\n",
       "Garage Finish_Fin     -1.674799e+16\n",
       "Kitchen Qual_Fa       -1.345090e+16\n",
       "Bsmt Cond_TA          -1.158657e+16\n",
       "Garage Qual_Ex        -9.977742e+15\n",
       "Bsmt Cond_Gd          -8.996493e+15\n",
       "Bsmt Cond_Fa          -7.587645e+15\n",
       "Gr Liv Area           -7.031876e+15\n",
       "Bsmt Cond_Po          -1.124226e+15\n",
       "House Style_1Story    -7.091229e+14\n",
       "House Style_2Story    -6.440376e+14\n",
       "House Style_1.5Fin    -4.398873e+14\n",
       "House Style_SLvl      -3.078034e+14\n",
       "House Style_SFoyer    -2.175422e+14\n",
       "House Style_2.5Unf    -1.266275e+14\n",
       "House Style_1.5Unf    -1.212775e+14\n",
       "House Style_2.5Fin    -5.186959e+13\n",
       "SqFt Interaction Qual -1.076800e+04\n",
       "Yr Sold               -1.024850e+04\n",
       "Id                    -9.443118e+03\n",
       "MS SubClass           -7.407319e+03\n",
       "Kitchen AbvGr         -3.005500e+03\n",
       "Bedroom AbvGr         -1.782000e+03\n",
       "PID                   -1.014910e+03\n",
       "Garage Qual_Po         0.000000e+00\n",
       "Open Porch SF          9.437500e+01\n",
       "3Ssn Porch             9.870000e+02\n",
       "Enclosed Porch         2.167250e+03\n",
       "Wood Deck SF           2.254750e+03\n",
       "Year Remod/Add         2.447830e+03\n",
       "Fireplaces             3.211000e+03\n",
       "Mas Vnr Area           3.248831e+03\n",
       "TotRms AbvGrd          4.692000e+03\n",
       "Screen Porch           5.003625e+03\n",
       "Overall Cond           5.600056e+03\n",
       "Garage Area            5.641188e+03\n",
       "Garage Cars            8.367500e+03\n",
       "Year Built             1.017452e+04\n",
       "Overall Qual           2.206294e+04\n",
       "Bsmt Cond_Ex           1.798082e+08\n",
       "Garage Type_N/A        2.361030e+14\n",
       "Garage Finish_N/A      2.361030e+14\n",
       "Low Qual Fin SF        6.642008e+14\n",
       "BsmtFin Type 2_GLQ     1.445007e+15\n",
       "Garage Type_CarPort    1.890512e+15\n",
       "BsmtFin Type 2_ALQ     1.930800e+15\n",
       "BsmtFin Type 2_BLQ     2.098403e+15\n",
       "Bsmt Exposure_Mn       2.190715e+15\n",
       "BsmtFin Type 2_LwQ     2.395787e+15\n",
       "Bsmt Exposure_Gd       2.526422e+15\n",
       "BsmtFin Type 2_Rec     2.868324e+15\n",
       "Bsmt Exposure_Av       2.941440e+15\n",
       "Garage Type_2Types     3.127686e+15\n",
       "Bsmt Exposure_No       3.887650e+15\n",
       "Bsmt Half Bath         3.894444e+15\n",
       "Garage Type_Basment    4.099482e+15\n",
       "BsmtFin Type 2_Unf     4.684031e+15\n",
       "Half Bath              7.635799e+15\n",
       "Garage Type_BuiltIn    9.014471e+15\n",
       "Garage Cond_Po         1.225813e+16\n",
       "BsmtFin SF 2           1.348099e+16\n",
       "BsmtFin Type 1_LwQ     1.408405e+16\n",
       "Garage Qual_Gd         1.440822e+16\n",
       "Garage Cond_Gd         1.548982e+16\n",
       "Bsmt Full Bath         1.601471e+16\n",
       "Garage Type_Detchd     1.613443e+16\n",
       "Full Bath              1.673084e+16\n",
       "Garage Type_Attchd     1.794956e+16\n",
       "BsmtFin Type 1_Rec     1.794999e+16\n",
       "BsmtFin Type 1_BLQ     1.863666e+16\n",
       "Garage Cond_Ex         1.964180e+16\n",
       "1st Flr SF             2.135527e+16\n",
       "BsmtFin Type 1_ALQ     2.212249e+16\n",
       "2nd Flr SF             2.274719e+16\n",
       "BsmtFin Type 1_Unf     2.833168e+16\n",
       "BsmtFin Type 1_GLQ     2.881399e+16\n",
       "Garage Cond_Fa         3.210358e+16\n",
       "Garage Qual_Fa         3.244035e+16\n",
       "Bsmt Unf SF            3.716190e+16\n",
       "Garage Cond_N/A        3.806415e+16\n",
       "BsmtFin SF 1           3.999251e+16\n",
       "Garage Qual_N/A        4.377126e+16\n",
       "Garage Qual_TA         4.893906e+16\n",
       "Garage Cond_TA         5.898209e+16"
      ]
     },
     "execution_count": 63,
     "metadata": {},
     "output_type": "execute_result"
    }
   ],
   "source": [
    "pd.DataFrame({\n",
    "    'var': X.columns,\n",
    "    'coef val': lr.coef_\n",
    "}).set_index('var').sort_values('coef val')"
   ]
  },
  {
   "cell_type": "code",
   "execution_count": 64,
   "metadata": {},
   "outputs": [
    {
     "data": {
      "text/plain": [
       "3.9585864518142874e+17"
      ]
     },
     "execution_count": 64,
     "metadata": {},
     "output_type": "execute_result"
    }
   ],
   "source": [
    "sum(lr.coef_)"
   ]
  },
  {
   "cell_type": "markdown",
   "metadata": {},
   "source": [
    "**LASSO Regression**"
   ]
  },
  {
   "cell_type": "code",
   "execution_count": 65,
   "metadata": {},
   "outputs": [],
   "source": [
    "from sklearn.linear_model import Lasso, LassoCV"
   ]
  },
  {
   "cell_type": "code",
   "execution_count": 71,
   "metadata": {},
   "outputs": [
    {
     "data": {
      "text/plain": [
       "(0.8506604942948295, 0.8780077036791422)"
      ]
     },
     "execution_count": 71,
     "metadata": {},
     "output_type": "execute_result"
    }
   ],
   "source": [
    "lasso = Lasso(alpha=282) # default alpha\n",
    "lasso.fit(Xs_train, y_train)\n",
    "lasso.score(Xs_train, y_train), lasso.score(X_test, y_test)\n",
    "\n",
    "(0.8506604942948295, 0.8780077036791422)"
   ]
  },
  {
   "cell_type": "code",
   "execution_count": 67,
   "metadata": {},
   "outputs": [
    {
     "data": {
      "text/html": [
       "<div>\n",
       "<style scoped>\n",
       "    .dataframe tbody tr th:only-of-type {\n",
       "        vertical-align: middle;\n",
       "    }\n",
       "\n",
       "    .dataframe tbody tr th {\n",
       "        vertical-align: top;\n",
       "    }\n",
       "\n",
       "    .dataframe thead th {\n",
       "        text-align: right;\n",
       "    }\n",
       "</style>\n",
       "<table border=\"1\" class=\"dataframe\">\n",
       "  <thead>\n",
       "    <tr style=\"text-align: right;\">\n",
       "      <th></th>\n",
       "      <th>coef val</th>\n",
       "    </tr>\n",
       "    <tr>\n",
       "      <th>var</th>\n",
       "      <th></th>\n",
       "    </tr>\n",
       "  </thead>\n",
       "  <tbody>\n",
       "    <tr>\n",
       "      <th>Overall Qual</th>\n",
       "      <td>21045.790112</td>\n",
       "    </tr>\n",
       "    <tr>\n",
       "      <th>Kitchen Qual_Ex</th>\n",
       "      <td>11857.556901</td>\n",
       "    </tr>\n",
       "    <tr>\n",
       "      <th>Gr Liv Area</th>\n",
       "      <td>10462.550247</td>\n",
       "    </tr>\n",
       "    <tr>\n",
       "      <th>TotalLivingSF</th>\n",
       "      <td>9354.339594</td>\n",
       "    </tr>\n",
       "    <tr>\n",
       "      <th>Garage Cars</th>\n",
       "      <td>6524.811938</td>\n",
       "    </tr>\n",
       "    <tr>\n",
       "      <th>TotalBath</th>\n",
       "      <td>4941.434231</td>\n",
       "    </tr>\n",
       "    <tr>\n",
       "      <th>Year Built</th>\n",
       "      <td>4893.466772</td>\n",
       "    </tr>\n",
       "    <tr>\n",
       "      <th>Garage Area</th>\n",
       "      <td>4130.026125</td>\n",
       "    </tr>\n",
       "    <tr>\n",
       "      <th>Bsmt Exposure_Gd</th>\n",
       "      <td>4126.111010</td>\n",
       "    </tr>\n",
       "    <tr>\n",
       "      <th>Year Remod/Add</th>\n",
       "      <td>3623.507629</td>\n",
       "    </tr>\n",
       "    <tr>\n",
       "      <th>Screen Porch</th>\n",
       "      <td>3502.405572</td>\n",
       "    </tr>\n",
       "    <tr>\n",
       "      <th>Fireplaces</th>\n",
       "      <td>3158.626981</td>\n",
       "    </tr>\n",
       "    <tr>\n",
       "      <th>Garage Qual_Gd</th>\n",
       "      <td>3107.474975</td>\n",
       "    </tr>\n",
       "    <tr>\n",
       "      <th>BsmtFin Type 1_GLQ</th>\n",
       "      <td>2363.840795</td>\n",
       "    </tr>\n",
       "    <tr>\n",
       "      <th>Mas Vnr Area</th>\n",
       "      <td>2305.948003</td>\n",
       "    </tr>\n",
       "    <tr>\n",
       "      <th>Overall Cond</th>\n",
       "      <td>2281.300055</td>\n",
       "    </tr>\n",
       "    <tr>\n",
       "      <th>TotRms AbvGrd</th>\n",
       "      <td>1193.881695</td>\n",
       "    </tr>\n",
       "    <tr>\n",
       "      <th>Wood Deck SF</th>\n",
       "      <td>1168.280774</td>\n",
       "    </tr>\n",
       "    <tr>\n",
       "      <th>Bsmt Full Bath</th>\n",
       "      <td>551.999894</td>\n",
       "    </tr>\n",
       "    <tr>\n",
       "      <th>Garage Cond_N/A</th>\n",
       "      <td>455.642539</td>\n",
       "    </tr>\n",
       "    <tr>\n",
       "      <th>Garage Type_BuiltIn</th>\n",
       "      <td>402.460692</td>\n",
       "    </tr>\n",
       "    <tr>\n",
       "      <th>Garage Finish_Fin</th>\n",
       "      <td>289.819984</td>\n",
       "    </tr>\n",
       "    <tr>\n",
       "      <th>SqFt Interaction Qual</th>\n",
       "      <td>169.402087</td>\n",
       "    </tr>\n",
       "    <tr>\n",
       "      <th>BsmtFin Type 2_Unf</th>\n",
       "      <td>138.730095</td>\n",
       "    </tr>\n",
       "    <tr>\n",
       "      <th>Garage Type_N/A</th>\n",
       "      <td>39.240184</td>\n",
       "    </tr>\n",
       "    <tr>\n",
       "      <th>Garage Qual_N/A</th>\n",
       "      <td>5.314062</td>\n",
       "    </tr>\n",
       "    <tr>\n",
       "      <th>Garage Finish_N/A</th>\n",
       "      <td>3.127243</td>\n",
       "    </tr>\n",
       "    <tr>\n",
       "      <th>BsmtFin Type 2_LwQ</th>\n",
       "      <td>-0.000000</td>\n",
       "    </tr>\n",
       "    <tr>\n",
       "      <th>BsmtFin Type 1_BLQ</th>\n",
       "      <td>0.000000</td>\n",
       "    </tr>\n",
       "    <tr>\n",
       "      <th>BsmtFin Type 1_ALQ</th>\n",
       "      <td>0.000000</td>\n",
       "    </tr>\n",
       "    <tr>\n",
       "      <th>BsmtFin Type 1_Rec</th>\n",
       "      <td>-0.000000</td>\n",
       "    </tr>\n",
       "    <tr>\n",
       "      <th>Bsmt Exposure_Mn</th>\n",
       "      <td>-0.000000</td>\n",
       "    </tr>\n",
       "    <tr>\n",
       "      <th>BsmtFin Type 1_LwQ</th>\n",
       "      <td>-0.000000</td>\n",
       "    </tr>\n",
       "    <tr>\n",
       "      <th>Bsmt Exposure_Av</th>\n",
       "      <td>0.000000</td>\n",
       "    </tr>\n",
       "    <tr>\n",
       "      <th>BsmtFin Type 2_Rec</th>\n",
       "      <td>-0.000000</td>\n",
       "    </tr>\n",
       "    <tr>\n",
       "      <th>BsmtFin Type 2_GLQ</th>\n",
       "      <td>-0.000000</td>\n",
       "    </tr>\n",
       "    <tr>\n",
       "      <th>Id</th>\n",
       "      <td>0.000000</td>\n",
       "    </tr>\n",
       "    <tr>\n",
       "      <th>Garage Type_2Types</th>\n",
       "      <td>-0.000000</td>\n",
       "    </tr>\n",
       "    <tr>\n",
       "      <th>Garage Type_Attchd</th>\n",
       "      <td>0.000000</td>\n",
       "    </tr>\n",
       "    <tr>\n",
       "      <th>Garage Type_Basment</th>\n",
       "      <td>-0.000000</td>\n",
       "    </tr>\n",
       "    <tr>\n",
       "      <th>BsmtFin Type 2_ALQ</th>\n",
       "      <td>0.000000</td>\n",
       "    </tr>\n",
       "    <tr>\n",
       "      <th>Garage Finish_RFn</th>\n",
       "      <td>-0.000000</td>\n",
       "    </tr>\n",
       "    <tr>\n",
       "      <th>Garage Qual_Ex</th>\n",
       "      <td>0.000000</td>\n",
       "    </tr>\n",
       "    <tr>\n",
       "      <th>Garage Qual_Fa</th>\n",
       "      <td>-0.000000</td>\n",
       "    </tr>\n",
       "    <tr>\n",
       "      <th>Garage Qual_Po</th>\n",
       "      <td>0.000000</td>\n",
       "    </tr>\n",
       "    <tr>\n",
       "      <th>Garage Qual_TA</th>\n",
       "      <td>-0.000000</td>\n",
       "    </tr>\n",
       "    <tr>\n",
       "      <th>Garage Cond_Ex</th>\n",
       "      <td>0.000000</td>\n",
       "    </tr>\n",
       "    <tr>\n",
       "      <th>Garage Cond_Fa</th>\n",
       "      <td>-0.000000</td>\n",
       "    </tr>\n",
       "    <tr>\n",
       "      <th>Garage Cond_Gd</th>\n",
       "      <td>-0.000000</td>\n",
       "    </tr>\n",
       "    <tr>\n",
       "      <th>Garage Cond_Po</th>\n",
       "      <td>0.000000</td>\n",
       "    </tr>\n",
       "    <tr>\n",
       "      <th>BsmtFin Type 2_BLQ</th>\n",
       "      <td>-0.000000</td>\n",
       "    </tr>\n",
       "    <tr>\n",
       "      <th>Kitchen Qual_Gd</th>\n",
       "      <td>0.000000</td>\n",
       "    </tr>\n",
       "    <tr>\n",
       "      <th>Bsmt Cond_TA</th>\n",
       "      <td>-0.000000</td>\n",
       "    </tr>\n",
       "    <tr>\n",
       "      <th>House Style_1.5Fin</th>\n",
       "      <td>0.000000</td>\n",
       "    </tr>\n",
       "    <tr>\n",
       "      <th>BsmtFin SF 1</th>\n",
       "      <td>0.000000</td>\n",
       "    </tr>\n",
       "    <tr>\n",
       "      <th>BsmtFin SF 2</th>\n",
       "      <td>-0.000000</td>\n",
       "    </tr>\n",
       "    <tr>\n",
       "      <th>Bsmt Unf SF</th>\n",
       "      <td>0.000000</td>\n",
       "    </tr>\n",
       "    <tr>\n",
       "      <th>Total Bsmt SF</th>\n",
       "      <td>0.000000</td>\n",
       "    </tr>\n",
       "    <tr>\n",
       "      <th>1st Flr SF</th>\n",
       "      <td>0.000000</td>\n",
       "    </tr>\n",
       "    <tr>\n",
       "      <th>2nd Flr SF</th>\n",
       "      <td>0.000000</td>\n",
       "    </tr>\n",
       "    <tr>\n",
       "      <th>Low Qual Fin SF</th>\n",
       "      <td>-0.000000</td>\n",
       "    </tr>\n",
       "    <tr>\n",
       "      <th>Full Bath</th>\n",
       "      <td>0.000000</td>\n",
       "    </tr>\n",
       "    <tr>\n",
       "      <th>Half Bath</th>\n",
       "      <td>0.000000</td>\n",
       "    </tr>\n",
       "    <tr>\n",
       "      <th>Bedroom AbvGr</th>\n",
       "      <td>-0.000000</td>\n",
       "    </tr>\n",
       "    <tr>\n",
       "      <th>Open Porch SF</th>\n",
       "      <td>0.000000</td>\n",
       "    </tr>\n",
       "    <tr>\n",
       "      <th>Enclosed Porch</th>\n",
       "      <td>0.000000</td>\n",
       "    </tr>\n",
       "    <tr>\n",
       "      <th>Bsmt Cond_Po</th>\n",
       "      <td>0.000000</td>\n",
       "    </tr>\n",
       "    <tr>\n",
       "      <th>Yr Sold</th>\n",
       "      <td>-0.000000</td>\n",
       "    </tr>\n",
       "    <tr>\n",
       "      <th>3Ssn Porch</th>\n",
       "      <td>0.000000</td>\n",
       "    </tr>\n",
       "    <tr>\n",
       "      <th>House Style_1.5Unf</th>\n",
       "      <td>0.000000</td>\n",
       "    </tr>\n",
       "    <tr>\n",
       "      <th>House Style_2Story</th>\n",
       "      <td>-0.000000</td>\n",
       "    </tr>\n",
       "    <tr>\n",
       "      <th>Bsmt Cond_Gd</th>\n",
       "      <td>0.000000</td>\n",
       "    </tr>\n",
       "    <tr>\n",
       "      <th>Bsmt Cond_Fa</th>\n",
       "      <td>-0.000000</td>\n",
       "    </tr>\n",
       "    <tr>\n",
       "      <th>Bsmt Cond_Ex</th>\n",
       "      <td>0.000000</td>\n",
       "    </tr>\n",
       "    <tr>\n",
       "      <th>Kitchen Qual_Fa</th>\n",
       "      <td>-0.000000</td>\n",
       "    </tr>\n",
       "    <tr>\n",
       "      <th>House Style_SLvl</th>\n",
       "      <td>-0.000000</td>\n",
       "    </tr>\n",
       "    <tr>\n",
       "      <th>House Style_SFoyer</th>\n",
       "      <td>-0.000000</td>\n",
       "    </tr>\n",
       "    <tr>\n",
       "      <th>House Style_2.5Unf</th>\n",
       "      <td>0.000000</td>\n",
       "    </tr>\n",
       "    <tr>\n",
       "      <th>House Style_2.5Fin</th>\n",
       "      <td>-0.000000</td>\n",
       "    </tr>\n",
       "    <tr>\n",
       "      <th>House Style_1Story</th>\n",
       "      <td>0.000000</td>\n",
       "    </tr>\n",
       "    <tr>\n",
       "      <th>Garage Cond_TA</th>\n",
       "      <td>-0.000000</td>\n",
       "    </tr>\n",
       "    <tr>\n",
       "      <th>Garage Type_CarPort</th>\n",
       "      <td>-135.702010</td>\n",
       "    </tr>\n",
       "    <tr>\n",
       "      <th>Bsmt Half Bath</th>\n",
       "      <td>-511.343753</td>\n",
       "    </tr>\n",
       "    <tr>\n",
       "      <th>Garage Type_Detchd</th>\n",
       "      <td>-631.070350</td>\n",
       "    </tr>\n",
       "    <tr>\n",
       "      <th>Kitchen AbvGr</th>\n",
       "      <td>-662.610910</td>\n",
       "    </tr>\n",
       "    <tr>\n",
       "      <th>Garage Finish_Unf</th>\n",
       "      <td>-698.413234</td>\n",
       "    </tr>\n",
       "    <tr>\n",
       "      <th>PID</th>\n",
       "      <td>-953.659070</td>\n",
       "    </tr>\n",
       "    <tr>\n",
       "      <th>BsmtFin Type 1_Unf</th>\n",
       "      <td>-1201.867625</td>\n",
       "    </tr>\n",
       "    <tr>\n",
       "      <th>Kitchen Qual_TA</th>\n",
       "      <td>-2288.336837</td>\n",
       "    </tr>\n",
       "    <tr>\n",
       "      <th>Bsmt Exposure_No</th>\n",
       "      <td>-3021.057755</td>\n",
       "    </tr>\n",
       "    <tr>\n",
       "      <th>MS SubClass</th>\n",
       "      <td>-6705.511166</td>\n",
       "    </tr>\n",
       "  </tbody>\n",
       "</table>\n",
       "</div>"
      ],
      "text/plain": [
       "                           coef val\n",
       "var                                \n",
       "Overall Qual           21045.790112\n",
       "Kitchen Qual_Ex        11857.556901\n",
       "Gr Liv Area            10462.550247\n",
       "TotalLivingSF           9354.339594\n",
       "Garage Cars             6524.811938\n",
       "TotalBath               4941.434231\n",
       "Year Built              4893.466772\n",
       "Garage Area             4130.026125\n",
       "Bsmt Exposure_Gd        4126.111010\n",
       "Year Remod/Add          3623.507629\n",
       "Screen Porch            3502.405572\n",
       "Fireplaces              3158.626981\n",
       "Garage Qual_Gd          3107.474975\n",
       "BsmtFin Type 1_GLQ      2363.840795\n",
       "Mas Vnr Area            2305.948003\n",
       "Overall Cond            2281.300055\n",
       "TotRms AbvGrd           1193.881695\n",
       "Wood Deck SF            1168.280774\n",
       "Bsmt Full Bath           551.999894\n",
       "Garage Cond_N/A          455.642539\n",
       "Garage Type_BuiltIn      402.460692\n",
       "Garage Finish_Fin        289.819984\n",
       "SqFt Interaction Qual    169.402087\n",
       "BsmtFin Type 2_Unf       138.730095\n",
       "Garage Type_N/A           39.240184\n",
       "Garage Qual_N/A            5.314062\n",
       "Garage Finish_N/A          3.127243\n",
       "BsmtFin Type 2_LwQ        -0.000000\n",
       "BsmtFin Type 1_BLQ         0.000000\n",
       "BsmtFin Type 1_ALQ         0.000000\n",
       "BsmtFin Type 1_Rec        -0.000000\n",
       "Bsmt Exposure_Mn          -0.000000\n",
       "BsmtFin Type 1_LwQ        -0.000000\n",
       "Bsmt Exposure_Av           0.000000\n",
       "BsmtFin Type 2_Rec        -0.000000\n",
       "BsmtFin Type 2_GLQ        -0.000000\n",
       "Id                         0.000000\n",
       "Garage Type_2Types        -0.000000\n",
       "Garage Type_Attchd         0.000000\n",
       "Garage Type_Basment       -0.000000\n",
       "BsmtFin Type 2_ALQ         0.000000\n",
       "Garage Finish_RFn         -0.000000\n",
       "Garage Qual_Ex             0.000000\n",
       "Garage Qual_Fa            -0.000000\n",
       "Garage Qual_Po             0.000000\n",
       "Garage Qual_TA            -0.000000\n",
       "Garage Cond_Ex             0.000000\n",
       "Garage Cond_Fa            -0.000000\n",
       "Garage Cond_Gd            -0.000000\n",
       "Garage Cond_Po             0.000000\n",
       "BsmtFin Type 2_BLQ        -0.000000\n",
       "Kitchen Qual_Gd            0.000000\n",
       "Bsmt Cond_TA              -0.000000\n",
       "House Style_1.5Fin         0.000000\n",
       "BsmtFin SF 1               0.000000\n",
       "BsmtFin SF 2              -0.000000\n",
       "Bsmt Unf SF                0.000000\n",
       "Total Bsmt SF              0.000000\n",
       "1st Flr SF                 0.000000\n",
       "2nd Flr SF                 0.000000\n",
       "Low Qual Fin SF           -0.000000\n",
       "Full Bath                  0.000000\n",
       "Half Bath                  0.000000\n",
       "Bedroom AbvGr             -0.000000\n",
       "Open Porch SF              0.000000\n",
       "Enclosed Porch             0.000000\n",
       "Bsmt Cond_Po               0.000000\n",
       "Yr Sold                   -0.000000\n",
       "3Ssn Porch                 0.000000\n",
       "House Style_1.5Unf         0.000000\n",
       "House Style_2Story        -0.000000\n",
       "Bsmt Cond_Gd               0.000000\n",
       "Bsmt Cond_Fa              -0.000000\n",
       "Bsmt Cond_Ex               0.000000\n",
       "Kitchen Qual_Fa           -0.000000\n",
       "House Style_SLvl          -0.000000\n",
       "House Style_SFoyer        -0.000000\n",
       "House Style_2.5Unf         0.000000\n",
       "House Style_2.5Fin        -0.000000\n",
       "House Style_1Story         0.000000\n",
       "Garage Cond_TA            -0.000000\n",
       "Garage Type_CarPort     -135.702010\n",
       "Bsmt Half Bath          -511.343753\n",
       "Garage Type_Detchd      -631.070350\n",
       "Kitchen AbvGr           -662.610910\n",
       "Garage Finish_Unf       -698.413234\n",
       "PID                     -953.659070\n",
       "BsmtFin Type 1_Unf     -1201.867625\n",
       "Kitchen Qual_TA        -2288.336837\n",
       "Bsmt Exposure_No       -3021.057755\n",
       "MS SubClass            -6705.511166"
      ]
     },
     "execution_count": 67,
     "metadata": {},
     "output_type": "execute_result"
    }
   ],
   "source": [
    "pd.DataFrame({\n",
    "    'var': X.columns,\n",
    "    'coef val': lasso.coef_\n",
    "}).set_index('var').sort_values('coef val', ascending=False)"
   ]
  },
  {
   "cell_type": "code",
   "execution_count": 68,
   "metadata": {},
   "outputs": [
    {
     "data": {
      "text/plain": [
       "array(['PID', 'MS SubClass', 'Overall Qual', 'Overall Cond', 'Year Built',\n",
       "       'Year Remod/Add', 'Mas Vnr Area', 'Gr Liv Area', 'Bsmt Full Bath',\n",
       "       'Bsmt Half Bath', 'Kitchen AbvGr', 'TotRms AbvGrd', 'Fireplaces',\n",
       "       'Garage Cars', 'Garage Area', 'Wood Deck SF', 'Screen Porch',\n",
       "       'TotalLivingSF', 'SqFt Interaction Qual', 'TotalBath',\n",
       "       'Kitchen Qual_Ex', 'Kitchen Qual_TA', 'BsmtFin Type 2_Unf',\n",
       "       'BsmtFin Type 1_GLQ', 'BsmtFin Type 1_Unf', 'Bsmt Exposure_Gd',\n",
       "       'Bsmt Exposure_No', 'Garage Type_BuiltIn', 'Garage Type_CarPort',\n",
       "       'Garage Type_Detchd', 'Garage Type_N/A', 'Garage Finish_Fin',\n",
       "       'Garage Finish_N/A', 'Garage Finish_Unf', 'Garage Qual_Gd',\n",
       "       'Garage Qual_N/A', 'Garage Cond_N/A'], dtype=object)"
      ]
     },
     "execution_count": 68,
     "metadata": {},
     "output_type": "execute_result"
    }
   ],
   "source": [
    "coef_df = pd.DataFrame({\n",
    "    'var': X.columns,\n",
    "    'coef val': lasso.coef_\n",
    "})\n",
    "coef_df[coef_df['coef val'] != 0]['var'].values"
   ]
  },
  {
   "cell_type": "code",
   "execution_count": 69,
   "metadata": {},
   "outputs": [
    {
     "data": {
      "text/plain": [
       "(0.8506562144113572, 0.8780122434125204)"
      ]
     },
     "execution_count": 69,
     "metadata": {},
     "output_type": "execute_result"
    }
   ],
   "source": [
    "lcv = LassoCV()\n",
    "lcv.fit(Xs_train, y_train)\n",
    "lcv.score(Xs_train, y_train), lcv.score(X_test, y_test)"
   ]
  },
  {
   "cell_type": "code",
   "execution_count": 70,
   "metadata": {},
   "outputs": [
    {
     "data": {
      "text/plain": [
       "282.5643759965872"
      ]
     },
     "execution_count": 70,
     "metadata": {},
     "output_type": "execute_result"
    }
   ],
   "source": [
    "lcv.alpha_"
   ]
  },
  {
   "cell_type": "code",
   "execution_count": null,
   "metadata": {},
   "outputs": [],
   "source": [
    "#how do to exp back to interpret\n",
    "Xs_train = np.exp(Xs_train)\n",
    "X_test = np.exp(X_test)\n",
    "y_train = np.exp(y_train_log)\n",
    "y_test = np.exp(y_test_log)"
   ]
  },
  {
   "cell_type": "code",
   "execution_count": null,
   "metadata": {},
   "outputs": [],
   "source": [
    "pred = lr.predict(X_test)\n",
    "pred= np.exp(pred)\n",
    "pred"
   ]
  },
  {
   "cell_type": "code",
   "execution_count": null,
   "metadata": {},
   "outputs": [],
   "source": [
    "#pd.DataFrame(zip(X.columns, lr.coef_))\n",
    "pd.DataFrame(zip(np.exp(X.columns), np.exp(lr.coef_)))"
   ]
  },
  {
   "cell_type": "markdown",
   "metadata": {},
   "source": [
    "Holding all else constant:\n",
    "\n",
    "For every additional bath a home owner can expect the value of their home to increase $12844/ $10445(scaled) /(log)\n",
    "\n",
    "For every additional room created above ground a home owner can expect the value of their home to increase $917 / $1432(scaled) / (log)\n",
    "\n",
    "For ever additional car a home owner can fit in their garage the value of their home can increase $15653, $11964(scaled), (log)"
   ]
  },
  {
   "cell_type": "markdown",
   "metadata": {},
   "source": [
    "**Make Predictions**"
   ]
  },
  {
   "cell_type": "code",
   "execution_count": null,
   "metadata": {},
   "outputs": [],
   "source": [
    "lr.predict(X_test)"
   ]
  },
  {
   "cell_type": "code",
   "execution_count": null,
   "metadata": {},
   "outputs": [],
   "source": [
    "X.head()"
   ]
  },
  {
   "cell_type": "code",
   "execution_count": null,
   "metadata": {},
   "outputs": [],
   "source": [
    "test.head(2)"
   ]
  }
 ],
 "metadata": {
  "kernelspec": {
   "display_name": "Python 3",
   "language": "python",
   "name": "python3"
  },
  "language_info": {
   "codemirror_mode": {
    "name": "ipython",
    "version": 3
   },
   "file_extension": ".py",
   "mimetype": "text/x-python",
   "name": "python",
   "nbconvert_exporter": "python",
   "pygments_lexer": "ipython3",
   "version": "3.8.3"
  }
 },
 "nbformat": 4,
 "nbformat_minor": 4
}
